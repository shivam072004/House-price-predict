{
 "cells": [
  {
   "cell_type": "markdown",
   "id": "17a6d3de",
   "metadata": {},
   "source": [
    "- https://www.kaggle.com/datasets/amitabhajoy/bengaluru-house-price-data "
   ]
  },
  {
   "cell_type": "markdown",
   "id": "f4237d29",
   "metadata": {
    "papermill": {
     "duration": 0.016808,
     "end_time": "2025-06-11T09:20:31.569302",
     "exception": false,
     "start_time": "2025-06-11T09:20:31.552494",
     "status": "completed"
    },
    "tags": []
   },
   "source": [
    "## 1. Data Loading and Preprocessing.\n",
    "\n",
    "In these steps, we will load the Bengaluru House Data dataset using pandas and perform an initial exploration to understand its structure and contents.\n",
    "\n",
    "- **Data Import:** The dataset is loaded into a pandas DataFrame named `data`.\n",
    "- **Shape:** The dataset contains 12,530 rows and 7 columns after initial cleaning.\n",
    "- **Columns:**  \n",
    "    - `location`: Area or locality of the property  \n",
    "    - `size`: Number of bedrooms (e.g., \"2 BHK\", \"4 Bedroom\")  \n",
    "    - `total_sqft`: Total area in square feet  \n",
    "    - `bath`: Number of bathrooms  \n",
    "    - `price`: Price of the property (in lakhs)  \n",
    "    - `bhk`: Extracted number of bedrooms as integer  \n",
    "    - `price_per_sqft`: Price per square foot\n",
    "\n",
    "We will also check for missing values, data types, and unique values in key columns to guide further cleaning and preprocessing steps. This foundational understanding helps in identifying potential issues such as outliers, inconsistent data, and the need for encoding categorical variables."
   ]
  },
  {
   "cell_type": "code",
   "execution_count": 1,
   "id": "77daaa95",
   "metadata": {
    "execution": {
     "iopub.execute_input": "2025-06-11T09:20:31.601373Z",
     "iopub.status.busy": "2025-06-11T09:20:31.600894Z",
     "iopub.status.idle": "2025-06-11T09:20:33.822293Z",
     "shell.execute_reply": "2025-06-11T09:20:33.821330Z"
    },
    "papermill": {
     "duration": 2.239617,
     "end_time": "2025-06-11T09:20:33.824211",
     "exception": false,
     "start_time": "2025-06-11T09:20:31.584594",
     "status": "completed"
    },
    "tags": []
   },
   "outputs": [],
   "source": [
    "import pandas as pd\n",
    "import numpy as np"
   ]
  },
  {
   "cell_type": "code",
   "execution_count": 2,
   "id": "0f4392fb",
   "metadata": {
    "execution": {
     "iopub.execute_input": "2025-06-11T09:20:33.853364Z",
     "iopub.status.busy": "2025-06-11T09:20:33.852788Z",
     "iopub.status.idle": "2025-06-11T09:20:33.917278Z",
     "shell.execute_reply": "2025-06-11T09:20:33.915961Z"
    },
    "papermill": {
     "duration": 0.081379,
     "end_time": "2025-06-11T09:20:33.919430",
     "exception": false,
     "start_time": "2025-06-11T09:20:33.838051",
     "status": "completed"
    },
    "tags": []
   },
   "outputs": [],
   "source": [
    "data = pd.read_csv(\"Bengaluru_House_Data.csv\")"
   ]
  },
  {
   "cell_type": "code",
   "execution_count": 3,
   "id": "6f1fcf8c",
   "metadata": {
    "execution": {
     "iopub.execute_input": "2025-06-11T09:20:33.953254Z",
     "iopub.status.busy": "2025-06-11T09:20:33.952886Z",
     "iopub.status.idle": "2025-06-11T09:20:33.985093Z",
     "shell.execute_reply": "2025-06-11T09:20:33.984178Z"
    },
    "papermill": {
     "duration": 0.051404,
     "end_time": "2025-06-11T09:20:33.986888",
     "exception": false,
     "start_time": "2025-06-11T09:20:33.935484",
     "status": "completed"
    },
    "tags": []
   },
   "outputs": [
    {
     "data": {
      "text/html": [
       "<div>\n",
       "<style scoped>\n",
       "    .dataframe tbody tr th:only-of-type {\n",
       "        vertical-align: middle;\n",
       "    }\n",
       "\n",
       "    .dataframe tbody tr th {\n",
       "        vertical-align: top;\n",
       "    }\n",
       "\n",
       "    .dataframe thead th {\n",
       "        text-align: right;\n",
       "    }\n",
       "</style>\n",
       "<table border=\"1\" class=\"dataframe\">\n",
       "  <thead>\n",
       "    <tr style=\"text-align: right;\">\n",
       "      <th></th>\n",
       "      <th>area_type</th>\n",
       "      <th>availability</th>\n",
       "      <th>location</th>\n",
       "      <th>size</th>\n",
       "      <th>society</th>\n",
       "      <th>total_sqft</th>\n",
       "      <th>bath</th>\n",
       "      <th>balcony</th>\n",
       "      <th>price</th>\n",
       "    </tr>\n",
       "  </thead>\n",
       "  <tbody>\n",
       "    <tr>\n",
       "      <th>0</th>\n",
       "      <td>Super built-up  Area</td>\n",
       "      <td>19-Dec</td>\n",
       "      <td>Electronic City Phase II</td>\n",
       "      <td>2 BHK</td>\n",
       "      <td>Coomee</td>\n",
       "      <td>1056</td>\n",
       "      <td>2.0</td>\n",
       "      <td>1.0</td>\n",
       "      <td>39.07</td>\n",
       "    </tr>\n",
       "    <tr>\n",
       "      <th>1</th>\n",
       "      <td>Plot  Area</td>\n",
       "      <td>Ready To Move</td>\n",
       "      <td>Chikka Tirupathi</td>\n",
       "      <td>4 Bedroom</td>\n",
       "      <td>Theanmp</td>\n",
       "      <td>2600</td>\n",
       "      <td>5.0</td>\n",
       "      <td>3.0</td>\n",
       "      <td>120.00</td>\n",
       "    </tr>\n",
       "    <tr>\n",
       "      <th>2</th>\n",
       "      <td>Built-up  Area</td>\n",
       "      <td>Ready To Move</td>\n",
       "      <td>Uttarahalli</td>\n",
       "      <td>3 BHK</td>\n",
       "      <td>NaN</td>\n",
       "      <td>1440</td>\n",
       "      <td>2.0</td>\n",
       "      <td>3.0</td>\n",
       "      <td>62.00</td>\n",
       "    </tr>\n",
       "    <tr>\n",
       "      <th>3</th>\n",
       "      <td>Super built-up  Area</td>\n",
       "      <td>Ready To Move</td>\n",
       "      <td>Lingadheeranahalli</td>\n",
       "      <td>3 BHK</td>\n",
       "      <td>Soiewre</td>\n",
       "      <td>1521</td>\n",
       "      <td>3.0</td>\n",
       "      <td>1.0</td>\n",
       "      <td>95.00</td>\n",
       "    </tr>\n",
       "    <tr>\n",
       "      <th>4</th>\n",
       "      <td>Super built-up  Area</td>\n",
       "      <td>Ready To Move</td>\n",
       "      <td>Kothanur</td>\n",
       "      <td>2 BHK</td>\n",
       "      <td>NaN</td>\n",
       "      <td>1200</td>\n",
       "      <td>2.0</td>\n",
       "      <td>1.0</td>\n",
       "      <td>51.00</td>\n",
       "    </tr>\n",
       "  </tbody>\n",
       "</table>\n",
       "</div>"
      ],
      "text/plain": [
       "              area_type   availability                  location       size  \\\n",
       "0  Super built-up  Area         19-Dec  Electronic City Phase II      2 BHK   \n",
       "1            Plot  Area  Ready To Move          Chikka Tirupathi  4 Bedroom   \n",
       "2        Built-up  Area  Ready To Move               Uttarahalli      3 BHK   \n",
       "3  Super built-up  Area  Ready To Move        Lingadheeranahalli      3 BHK   \n",
       "4  Super built-up  Area  Ready To Move                  Kothanur      2 BHK   \n",
       "\n",
       "   society total_sqft  bath  balcony   price  \n",
       "0  Coomee        1056   2.0      1.0   39.07  \n",
       "1  Theanmp       2600   5.0      3.0  120.00  \n",
       "2      NaN       1440   2.0      3.0   62.00  \n",
       "3  Soiewre       1521   3.0      1.0   95.00  \n",
       "4      NaN       1200   2.0      1.0   51.00  "
      ]
     },
     "execution_count": 3,
     "metadata": {},
     "output_type": "execute_result"
    }
   ],
   "source": [
    "data.head()"
   ]
  },
  {
   "cell_type": "markdown",
   "id": "96c41bc5",
   "metadata": {
    "papermill": {
     "duration": 0.013492,
     "end_time": "2025-06-11T09:20:34.015813",
     "exception": false,
     "start_time": "2025-06-11T09:20:34.002321",
     "status": "completed"
    },
    "tags": []
   },
   "source": [
    "We can see there are 9 columns with different values area_type , availability, location size socitey , toatl_sqft, balcony and price.\n"
   ]
  },
  {
   "cell_type": "code",
   "execution_count": 4,
   "id": "ae0ad2dd",
   "metadata": {
    "execution": {
     "iopub.execute_input": "2025-06-11T09:20:34.045886Z",
     "iopub.status.busy": "2025-06-11T09:20:34.045512Z",
     "iopub.status.idle": "2025-06-11T09:20:34.051540Z",
     "shell.execute_reply": "2025-06-11T09:20:34.050577Z"
    },
    "papermill": {
     "duration": 0.023715,
     "end_time": "2025-06-11T09:20:34.053378",
     "exception": false,
     "start_time": "2025-06-11T09:20:34.029663",
     "status": "completed"
    },
    "tags": []
   },
   "outputs": [
    {
     "data": {
      "text/plain": [
       "(13320, 9)"
      ]
     },
     "execution_count": 4,
     "metadata": {},
     "output_type": "execute_result"
    }
   ],
   "source": [
    "data.shape"
   ]
  },
  {
   "cell_type": "markdown",
   "id": "8f0cb55e",
   "metadata": {
    "papermill": {
     "duration": 0.013936,
     "end_time": "2025-06-11T09:20:34.083489",
     "exception": false,
     "start_time": "2025-06-11T09:20:34.069553",
     "status": "completed"
    },
    "tags": []
   },
   "source": [
    "As above we can see that the dataset have 13320 rows and 9 columns."
   ]
  },
  {
   "cell_type": "code",
   "execution_count": 5,
   "id": "2e0393a8",
   "metadata": {
    "execution": {
     "iopub.execute_input": "2025-06-11T09:20:34.182421Z",
     "iopub.status.busy": "2025-06-11T09:20:34.182100Z",
     "iopub.status.idle": "2025-06-11T09:20:34.216322Z",
     "shell.execute_reply": "2025-06-11T09:20:34.215151Z"
    },
    "papermill": {
     "duration": 0.120808,
     "end_time": "2025-06-11T09:20:34.218297",
     "exception": false,
     "start_time": "2025-06-11T09:20:34.097489",
     "status": "completed"
    },
    "tags": []
   },
   "outputs": [
    {
     "name": "stdout",
     "output_type": "stream",
     "text": [
      "<class 'pandas.core.frame.DataFrame'>\n",
      "RangeIndex: 13320 entries, 0 to 13319\n",
      "Data columns (total 9 columns):\n",
      " #   Column        Non-Null Count  Dtype  \n",
      "---  ------        --------------  -----  \n",
      " 0   area_type     13320 non-null  object \n",
      " 1   availability  13320 non-null  object \n",
      " 2   location      13319 non-null  object \n",
      " 3   size          13304 non-null  object \n",
      " 4   society       7818 non-null   object \n",
      " 5   total_sqft    13320 non-null  object \n",
      " 6   bath          13247 non-null  float64\n",
      " 7   balcony       12711 non-null  float64\n",
      " 8   price         13320 non-null  float64\n",
      "dtypes: float64(3), object(6)\n",
      "memory usage: 936.7+ KB\n"
     ]
    }
   ],
   "source": [
    "data.info()"
   ]
  },
  {
   "cell_type": "markdown",
   "id": "e0936c60",
   "metadata": {
    "papermill": {
     "duration": 0.013809,
     "end_time": "2025-06-11T09:20:34.246413",
     "exception": false,
     "start_time": "2025-06-11T09:20:34.232604",
     "status": "completed"
    },
    "tags": []
   },
   "source": [
    "### Data Overview and Missing Values\n",
    "\n",
    "The dataset initially contains 9 columns, with 6 columns of object type and 3 columns of float type. Below is a summary of missing values in each column:\n",
    "\n",
    "- **location**: 1 missing value  \n",
    "- **size**: 16 missing values  \n",
    "- **society**: Many missing values (over 5,000)  \n",
    "- **bath**: 73 missing values  \n",
    "- **balcony**: Approximately 600 missing values  \n",
    "\n",
    "To handle these missing values, we can either replace them with appropriate statistics (mean, median, or mode) or drop columns that are not important for our analysis.\n",
    "\n",
    "#### Column-wise Data Types and Non-Null Counts\n",
    "\n",
    "| Column         | Non-Null Count | Data Type |\n",
    "|----------------|---------------|-----------|\n",
    "| area_type      | 13,320        | object    |\n",
    "| availability   | 13,320        | object    |\n",
    "| location       | 13,319        | object    |\n",
    "| size           | 13,304        | object    |\n",
    "| society        | 7,818         | object    |\n",
    "| total_sqft     | 13,320        | object    |\n",
    "| bath           | 13,247        | float64   |\n",
    "| balcony        | 12,711        | float64   |\n",
    "| price          | 13,320        | float64   |\n",
    "\n",
    "We will proceed by cleaning the data, handling missing values, and dropping columns that are not relevant for further analysis."
   ]
  },
  {
   "cell_type": "code",
   "execution_count": 6,
   "id": "e68aa01f",
   "metadata": {
    "execution": {
     "iopub.execute_input": "2025-06-11T09:20:34.276594Z",
     "iopub.status.busy": "2025-06-11T09:20:34.276289Z",
     "iopub.status.idle": "2025-06-11T09:20:34.304817Z",
     "shell.execute_reply": "2025-06-11T09:20:34.303762Z"
    },
    "papermill": {
     "duration": 0.045701,
     "end_time": "2025-06-11T09:20:34.306579",
     "exception": false,
     "start_time": "2025-06-11T09:20:34.260878",
     "status": "completed"
    },
    "tags": []
   },
   "outputs": [
    {
     "name": "stdout",
     "output_type": "stream",
     "text": [
      "area_type\n",
      "Super built-up  Area    8790\n",
      "Built-up  Area          2418\n",
      "Plot  Area              2025\n",
      "Carpet  Area              87\n",
      "Name: count, dtype: int64\n",
      "********************\n",
      "availability\n",
      "Ready To Move    10581\n",
      "18-Dec             307\n",
      "18-May             295\n",
      "18-Apr             271\n",
      "18-Aug             200\n",
      "                 ...  \n",
      "16-Oct               1\n",
      "17-Jan               1\n",
      "16-Nov               1\n",
      "16-Jan               1\n",
      "14-Jul               1\n",
      "Name: count, Length: 81, dtype: int64\n",
      "********************\n",
      "location\n",
      "Whitefield                         540\n",
      "Sarjapur  Road                     399\n",
      "Electronic City                    302\n",
      "Kanakpura Road                     273\n",
      "Thanisandra                        234\n",
      "                                  ... \n",
      "3rd Stage Raja Rajeshwari Nagar      1\n",
      "Chuchangatta Colony                  1\n",
      "Electronic City Phase 1,             1\n",
      "Chikbasavanapura                     1\n",
      "Abshot Layout                        1\n",
      "Name: count, Length: 1305, dtype: int64\n",
      "********************\n",
      "size\n",
      "2 BHK         5199\n",
      "3 BHK         4310\n",
      "4 Bedroom      826\n",
      "4 BHK          591\n",
      "3 Bedroom      547\n",
      "1 BHK          538\n",
      "2 Bedroom      329\n",
      "5 Bedroom      297\n",
      "6 Bedroom      191\n",
      "1 Bedroom      105\n",
      "8 Bedroom       84\n",
      "7 Bedroom       83\n",
      "5 BHK           59\n",
      "9 Bedroom       46\n",
      "6 BHK           30\n",
      "7 BHK           17\n",
      "1 RK            13\n",
      "10 Bedroom      12\n",
      "9 BHK            8\n",
      "8 BHK            5\n",
      "11 BHK           2\n",
      "10 BHK           2\n",
      "11 Bedroom       2\n",
      "27 BHK           1\n",
      "19 BHK           1\n",
      "43 Bedroom       1\n",
      "16 BHK           1\n",
      "14 BHK           1\n",
      "12 Bedroom       1\n",
      "13 BHK           1\n",
      "18 Bedroom       1\n",
      "Name: count, dtype: int64\n",
      "********************\n",
      "society\n",
      "GrrvaGr    80\n",
      "PrarePa    76\n",
      "Prtates    59\n",
      "Sryalan    59\n",
      "GMown E    56\n",
      "           ..\n",
      "SNadeAr     1\n",
      "DSellil     1\n",
      "Shensit     1\n",
      "VKvenas     1\n",
      "Vemes H     1\n",
      "Name: count, Length: 2688, dtype: int64\n",
      "********************\n",
      "total_sqft\n",
      "1200           843\n",
      "1100           221\n",
      "1500           205\n",
      "2400           196\n",
      "600            180\n",
      "              ... \n",
      "2920             1\n",
      "5665.84          1\n",
      "1369             1\n",
      "7150             1\n",
      "1200 - 1470      1\n",
      "Name: count, Length: 2117, dtype: int64\n",
      "********************\n",
      "bath\n",
      "2.0     6908\n",
      "3.0     3286\n",
      "4.0     1226\n",
      "1.0      788\n",
      "5.0      524\n",
      "6.0      273\n",
      "7.0      102\n",
      "8.0       64\n",
      "9.0       43\n",
      "10.0      13\n",
      "12.0       7\n",
      "11.0       3\n",
      "13.0       3\n",
      "16.0       2\n",
      "27.0       1\n",
      "14.0       1\n",
      "40.0       1\n",
      "15.0       1\n",
      "18.0       1\n",
      "Name: count, dtype: int64\n",
      "********************\n",
      "balcony\n",
      "2.0    5113\n",
      "1.0    4897\n",
      "3.0    1672\n",
      "0.0    1029\n",
      "Name: count, dtype: int64\n",
      "********************\n",
      "price\n",
      "75.00    310\n",
      "65.00    302\n",
      "55.00    275\n",
      "60.00    270\n",
      "45.00    240\n",
      "        ... \n",
      "43.04      1\n",
      "61.11      1\n",
      "46.56      1\n",
      "42.54      1\n",
      "47.35      1\n",
      "Name: count, Length: 1994, dtype: int64\n",
      "********************\n"
     ]
    }
   ],
   "source": [
    "for col in data.columns:\n",
    "    print(data[col].value_counts())\n",
    "    print(\"*\"*20)\n",
    "# The above loop prints the value counts for each column in the DataFrame,\n",
    "# helping to understand the distribution and frequency of unique values in every column."
   ]
  },
  {
   "cell_type": "code",
   "execution_count": 7,
   "id": "7289b133",
   "metadata": {
    "execution": {
     "iopub.execute_input": "2025-06-11T09:20:34.337568Z",
     "iopub.status.busy": "2025-06-11T09:20:34.337247Z",
     "iopub.status.idle": "2025-06-11T09:20:34.350667Z",
     "shell.execute_reply": "2025-06-11T09:20:34.349865Z"
    },
    "papermill": {
     "duration": 0.031461,
     "end_time": "2025-06-11T09:20:34.352516",
     "exception": false,
     "start_time": "2025-06-11T09:20:34.321055",
     "status": "completed"
    },
    "tags": []
   },
   "outputs": [
    {
     "data": {
      "text/plain": [
       "area_type          0\n",
       "availability       0\n",
       "location           1\n",
       "size              16\n",
       "society         5502\n",
       "total_sqft         0\n",
       "bath              73\n",
       "balcony          609\n",
       "price              0\n",
       "dtype: int64"
      ]
     },
     "execution_count": 7,
     "metadata": {},
     "output_type": "execute_result"
    }
   ],
   "source": [
    "data.isna().sum()"
   ]
  },
  {
   "cell_type": "markdown",
   "id": "3a195937",
   "metadata": {
    "papermill": {
     "duration": 0.013885,
     "end_time": "2025-06-11T09:20:34.381099",
     "exception": false,
     "start_time": "2025-06-11T09:20:34.367214",
     "status": "completed"
    },
    "tags": []
   },
   "source": [
    "### Null Value Analysis & Next Steps\n",
    "\n",
    "Several columns (`location`, `size`, `bath`, `balcony`, `society`) had missing values. To ensure data quality:\n",
    "\n",
    "- Filled missing values in key columns using median (for numerics) or mode (for categoricals).\n",
    "- Dropped columns with excessive nulls or low relevance.\n",
    "- Converted data types and engineered new features (`bhk`, `price_per_sqft`).\n",
    "- Removed outliers and standardized location categories.\n",
    "\n",
    "These steps prepare the dataset for effective analysis and modeling.\n"
   ]
  },
  {
   "cell_type": "code",
   "execution_count": 8,
   "id": "dcea04ed",
   "metadata": {
    "execution": {
     "iopub.execute_input": "2025-06-11T09:20:34.412154Z",
     "iopub.status.busy": "2025-06-11T09:20:34.411767Z",
     "iopub.status.idle": "2025-06-11T09:20:34.418407Z",
     "shell.execute_reply": "2025-06-11T09:20:34.417280Z"
    },
    "papermill": {
     "duration": 0.024592,
     "end_time": "2025-06-11T09:20:34.419984",
     "exception": false,
     "start_time": "2025-06-11T09:20:34.395392",
     "status": "completed"
    },
    "tags": []
   },
   "outputs": [
    {
     "data": {
      "text/plain": [
       "(13320, 9)"
      ]
     },
     "execution_count": 8,
     "metadata": {},
     "output_type": "execute_result"
    }
   ],
   "source": [
    "data.shape"
   ]
  },
  {
   "cell_type": "code",
   "execution_count": 9,
   "id": "fc630054",
   "metadata": {
    "execution": {
     "iopub.execute_input": "2025-06-11T09:20:34.452296Z",
     "iopub.status.busy": "2025-06-11T09:20:34.451948Z",
     "iopub.status.idle": "2025-06-11T09:20:34.461192Z",
     "shell.execute_reply": "2025-06-11T09:20:34.460160Z"
    },
    "papermill": {
     "duration": 0.026353,
     "end_time": "2025-06-11T09:20:34.462715",
     "exception": false,
     "start_time": "2025-06-11T09:20:34.436362",
     "status": "completed"
    },
    "tags": []
   },
   "outputs": [],
   "source": [
    "data.drop(columns=['area_type', 'availability', 'society', 'balcony'], inplace=True)"
   ]
  },
  {
   "cell_type": "code",
   "execution_count": 10,
   "id": "30985311",
   "metadata": {
    "execution": {
     "iopub.execute_input": "2025-06-11T09:20:34.493959Z",
     "iopub.status.busy": "2025-06-11T09:20:34.493653Z",
     "iopub.status.idle": "2025-06-11T09:20:34.499727Z",
     "shell.execute_reply": "2025-06-11T09:20:34.498921Z"
    },
    "papermill": {
     "duration": 0.023901,
     "end_time": "2025-06-11T09:20:34.501304",
     "exception": false,
     "start_time": "2025-06-11T09:20:34.477403",
     "status": "completed"
    },
    "tags": []
   },
   "outputs": [
    {
     "data": {
      "text/plain": [
       "(13320, 5)"
      ]
     },
     "execution_count": 10,
     "metadata": {},
     "output_type": "execute_result"
    }
   ],
   "source": [
    "data.shape"
   ]
  },
  {
   "cell_type": "markdown",
   "id": "755a2424",
   "metadata": {
    "papermill": {
     "duration": 0.015691,
     "end_time": "2025-06-11T09:20:34.533530",
     "exception": false,
     "start_time": "2025-06-11T09:20:34.517839",
     "status": "completed"
    },
    "tags": []
   },
   "source": [
    "### Dropping Irrelevant or Redundant Columns\n",
    "\n",
    "We remove the columns `area_type`, `availability`, `society`, and `balcony` from the dataset because:\n",
    "\n",
    "- They have many missing values or low relevance to price prediction.\n",
    "- They introduce unnecessary complexity or high cardinality (e.g., `society`).\n",
    "- Their information is either redundant or not useful for our analysis and modeling.\n",
    "\n",
    "This step simplifies the dataset and focuses on the most relevant features."
   ]
  },
  {
   "cell_type": "code",
   "execution_count": 11,
   "id": "7a2a50da",
   "metadata": {
    "execution": {
     "iopub.execute_input": "2025-06-11T09:20:34.564408Z",
     "iopub.status.busy": "2025-06-11T09:20:34.563632Z",
     "iopub.status.idle": "2025-06-11T09:20:34.583207Z",
     "shell.execute_reply": "2025-06-11T09:20:34.581975Z"
    },
    "papermill": {
     "duration": 0.036839,
     "end_time": "2025-06-11T09:20:34.584823",
     "exception": false,
     "start_time": "2025-06-11T09:20:34.547984",
     "status": "completed"
    },
    "tags": []
   },
   "outputs": [
    {
     "data": {
      "text/html": [
       "<div>\n",
       "<style scoped>\n",
       "    .dataframe tbody tr th:only-of-type {\n",
       "        vertical-align: middle;\n",
       "    }\n",
       "\n",
       "    .dataframe tbody tr th {\n",
       "        vertical-align: top;\n",
       "    }\n",
       "\n",
       "    .dataframe thead th {\n",
       "        text-align: right;\n",
       "    }\n",
       "</style>\n",
       "<table border=\"1\" class=\"dataframe\">\n",
       "  <thead>\n",
       "    <tr style=\"text-align: right;\">\n",
       "      <th></th>\n",
       "      <th>bath</th>\n",
       "      <th>price</th>\n",
       "    </tr>\n",
       "  </thead>\n",
       "  <tbody>\n",
       "    <tr>\n",
       "      <th>count</th>\n",
       "      <td>13247.000000</td>\n",
       "      <td>13320.000000</td>\n",
       "    </tr>\n",
       "    <tr>\n",
       "      <th>mean</th>\n",
       "      <td>2.692610</td>\n",
       "      <td>112.565627</td>\n",
       "    </tr>\n",
       "    <tr>\n",
       "      <th>std</th>\n",
       "      <td>1.341458</td>\n",
       "      <td>148.971674</td>\n",
       "    </tr>\n",
       "    <tr>\n",
       "      <th>min</th>\n",
       "      <td>1.000000</td>\n",
       "      <td>8.000000</td>\n",
       "    </tr>\n",
       "    <tr>\n",
       "      <th>25%</th>\n",
       "      <td>2.000000</td>\n",
       "      <td>50.000000</td>\n",
       "    </tr>\n",
       "    <tr>\n",
       "      <th>50%</th>\n",
       "      <td>2.000000</td>\n",
       "      <td>72.000000</td>\n",
       "    </tr>\n",
       "    <tr>\n",
       "      <th>75%</th>\n",
       "      <td>3.000000</td>\n",
       "      <td>120.000000</td>\n",
       "    </tr>\n",
       "    <tr>\n",
       "      <th>max</th>\n",
       "      <td>40.000000</td>\n",
       "      <td>3600.000000</td>\n",
       "    </tr>\n",
       "  </tbody>\n",
       "</table>\n",
       "</div>"
      ],
      "text/plain": [
       "               bath         price\n",
       "count  13247.000000  13320.000000\n",
       "mean       2.692610    112.565627\n",
       "std        1.341458    148.971674\n",
       "min        1.000000      8.000000\n",
       "25%        2.000000     50.000000\n",
       "50%        2.000000     72.000000\n",
       "75%        3.000000    120.000000\n",
       "max       40.000000   3600.000000"
      ]
     },
     "execution_count": 11,
     "metadata": {},
     "output_type": "execute_result"
    }
   ],
   "source": [
    "data.describe()"
   ]
  },
  {
   "cell_type": "code",
   "execution_count": 12,
   "id": "2e822c61",
   "metadata": {
    "execution": {
     "iopub.execute_input": "2025-06-11T09:20:34.615945Z",
     "iopub.status.busy": "2025-06-11T09:20:34.615614Z",
     "iopub.status.idle": "2025-06-11T09:20:34.630343Z",
     "shell.execute_reply": "2025-06-11T09:20:34.629018Z"
    },
    "papermill": {
     "duration": 0.032419,
     "end_time": "2025-06-11T09:20:34.632146",
     "exception": false,
     "start_time": "2025-06-11T09:20:34.599727",
     "status": "completed"
    },
    "tags": []
   },
   "outputs": [
    {
     "name": "stdout",
     "output_type": "stream",
     "text": [
      "<class 'pandas.core.frame.DataFrame'>\n",
      "RangeIndex: 13320 entries, 0 to 13319\n",
      "Data columns (total 5 columns):\n",
      " #   Column      Non-Null Count  Dtype  \n",
      "---  ------      --------------  -----  \n",
      " 0   location    13319 non-null  object \n",
      " 1   size        13304 non-null  object \n",
      " 2   total_sqft  13320 non-null  object \n",
      " 3   bath        13247 non-null  float64\n",
      " 4   price       13320 non-null  float64\n",
      "dtypes: float64(2), object(3)\n",
      "memory usage: 520.4+ KB\n"
     ]
    }
   ],
   "source": [
    "data.info()"
   ]
  },
  {
   "cell_type": "code",
   "execution_count": 13,
   "id": "c4e13653",
   "metadata": {
    "execution": {
     "iopub.execute_input": "2025-06-11T09:20:34.663571Z",
     "iopub.status.busy": "2025-06-11T09:20:34.663207Z",
     "iopub.status.idle": "2025-06-11T09:20:34.674332Z",
     "shell.execute_reply": "2025-06-11T09:20:34.673013Z"
    },
    "papermill": {
     "duration": 0.029436,
     "end_time": "2025-06-11T09:20:34.676372",
     "exception": false,
     "start_time": "2025-06-11T09:20:34.646936",
     "status": "completed"
    },
    "tags": []
   },
   "outputs": [
    {
     "data": {
      "text/plain": [
       "location\n",
       "Whitefield                         540\n",
       "Sarjapur  Road                     399\n",
       "Electronic City                    302\n",
       "Kanakpura Road                     273\n",
       "Thanisandra                        234\n",
       "                                  ... \n",
       "3rd Stage Raja Rajeshwari Nagar      1\n",
       "Chuchangatta Colony                  1\n",
       "Electronic City Phase 1,             1\n",
       "Chikbasavanapura                     1\n",
       "Abshot Layout                        1\n",
       "Name: count, Length: 1305, dtype: int64"
      ]
     },
     "execution_count": 13,
     "metadata": {},
     "output_type": "execute_result"
    }
   ],
   "source": [
    "data['location'].value_counts()"
   ]
  },
  {
   "cell_type": "markdown",
   "id": "dd6b550e",
   "metadata": {
    "papermill": {
     "duration": 0.015023,
     "end_time": "2025-06-11T09:20:34.706546",
     "exception": false,
     "start_time": "2025-06-11T09:20:34.691523",
     "status": "completed"
    },
    "tags": []
   },
   "source": [
    "\n",
    "There was only one missing value in the `location` column, which was filled with `'Whitefield'`, the most frequent location. This maintains data consistency."
   ]
  },
  {
   "cell_type": "code",
   "execution_count": 14,
   "id": "496a9bb1",
   "metadata": {
    "execution": {
     "iopub.execute_input": "2025-06-11T09:20:34.738729Z",
     "iopub.status.busy": "2025-06-11T09:20:34.738400Z",
     "iopub.status.idle": "2025-06-11T09:20:34.746525Z",
     "shell.execute_reply": "2025-06-11T09:20:34.745187Z"
    },
    "papermill": {
     "duration": 0.026007,
     "end_time": "2025-06-11T09:20:34.748211",
     "exception": false,
     "start_time": "2025-06-11T09:20:34.722204",
     "status": "completed"
    },
    "tags": []
   },
   "outputs": [],
   "source": [
    "data['location'] = data['location'].fillna('Whitefield')\n"
   ]
  },
  {
   "cell_type": "code",
   "execution_count": 15,
   "id": "80637ce6",
   "metadata": {
    "execution": {
     "iopub.execute_input": "2025-06-11T09:20:34.780140Z",
     "iopub.status.busy": "2025-06-11T09:20:34.779782Z",
     "iopub.status.idle": "2025-06-11T09:20:34.788686Z",
     "shell.execute_reply": "2025-06-11T09:20:34.787841Z"
    },
    "papermill": {
     "duration": 0.027161,
     "end_time": "2025-06-11T09:20:34.790329",
     "exception": false,
     "start_time": "2025-06-11T09:20:34.763168",
     "status": "completed"
    },
    "tags": []
   },
   "outputs": [
    {
     "data": {
      "text/plain": [
       "size\n",
       "2 BHK         5199\n",
       "3 BHK         4310\n",
       "4 Bedroom      826\n",
       "4 BHK          591\n",
       "3 Bedroom      547\n",
       "1 BHK          538\n",
       "2 Bedroom      329\n",
       "5 Bedroom      297\n",
       "6 Bedroom      191\n",
       "1 Bedroom      105\n",
       "8 Bedroom       84\n",
       "7 Bedroom       83\n",
       "5 BHK           59\n",
       "9 Bedroom       46\n",
       "6 BHK           30\n",
       "7 BHK           17\n",
       "1 RK            13\n",
       "10 Bedroom      12\n",
       "9 BHK            8\n",
       "8 BHK            5\n",
       "11 BHK           2\n",
       "10 BHK           2\n",
       "11 Bedroom       2\n",
       "27 BHK           1\n",
       "19 BHK           1\n",
       "43 Bedroom       1\n",
       "16 BHK           1\n",
       "14 BHK           1\n",
       "12 Bedroom       1\n",
       "13 BHK           1\n",
       "18 Bedroom       1\n",
       "Name: count, dtype: int64"
      ]
     },
     "execution_count": 15,
     "metadata": {},
     "output_type": "execute_result"
    }
   ],
   "source": [
    "data['size'].value_counts()"
   ]
  },
  {
   "cell_type": "code",
   "execution_count": 16,
   "id": "2696e877",
   "metadata": {
    "execution": {
     "iopub.execute_input": "2025-06-11T09:20:34.822245Z",
     "iopub.status.busy": "2025-06-11T09:20:34.821773Z",
     "iopub.status.idle": "2025-06-11T09:20:34.828938Z",
     "shell.execute_reply": "2025-06-11T09:20:34.827905Z"
    },
    "papermill": {
     "duration": 0.025485,
     "end_time": "2025-06-11T09:20:34.830962",
     "exception": false,
     "start_time": "2025-06-11T09:20:34.805477",
     "status": "completed"
    },
    "tags": []
   },
   "outputs": [],
   "source": [
    "data['size'] = data['size'].fillna('2 BHK')"
   ]
  },
  {
   "cell_type": "markdown",
   "id": "a1a6980e",
   "metadata": {
    "papermill": {
     "duration": 0.014744,
     "end_time": "2025-06-11T09:20:34.860661",
     "exception": false,
     "start_time": "2025-06-11T09:20:34.845917",
     "status": "completed"
    },
    "tags": []
   },
   "source": [
    "The `size` column has only 16 missing values, which are filled with the most frequent value, `2 BHK`, to maintain consistency."
   ]
  },
  {
   "cell_type": "code",
   "execution_count": 17,
   "id": "13c3db02",
   "metadata": {
    "execution": {
     "iopub.execute_input": "2025-06-11T09:20:34.892515Z",
     "iopub.status.busy": "2025-06-11T09:20:34.892114Z",
     "iopub.status.idle": "2025-06-11T09:20:34.898588Z",
     "shell.execute_reply": "2025-06-11T09:20:34.897632Z"
    },
    "papermill": {
     "duration": 0.02452,
     "end_time": "2025-06-11T09:20:34.900317",
     "exception": false,
     "start_time": "2025-06-11T09:20:34.875797",
     "status": "completed"
    },
    "tags": []
   },
   "outputs": [
    {
     "data": {
      "text/plain": [
       "np.float64(2.0)"
      ]
     },
     "execution_count": 17,
     "metadata": {},
     "output_type": "execute_result"
    }
   ],
   "source": [
    "data['bath'].median() # bathroom has 73 null values so we will replace them my median value."
   ]
  },
  {
   "cell_type": "code",
   "execution_count": 18,
   "id": "aae29b4a",
   "metadata": {
    "execution": {
     "iopub.execute_input": "2025-06-11T09:20:34.933806Z",
     "iopub.status.busy": "2025-06-11T09:20:34.933505Z",
     "iopub.status.idle": "2025-06-11T09:20:34.939829Z",
     "shell.execute_reply": "2025-06-11T09:20:34.939071Z"
    },
    "papermill": {
     "duration": 0.025251,
     "end_time": "2025-06-11T09:20:34.941574",
     "exception": false,
     "start_time": "2025-06-11T09:20:34.916323",
     "status": "completed"
    },
    "tags": []
   },
   "outputs": [],
   "source": [
    "data['bath'] = data['bath'].fillna(data['bath'].median())"
   ]
  },
  {
   "cell_type": "markdown",
   "id": "78eb4c62",
   "metadata": {
    "papermill": {
     "duration": 0.016148,
     "end_time": "2025-06-11T09:20:34.973603",
     "exception": false,
     "start_time": "2025-06-11T09:20:34.957455",
     "status": "completed"
    },
    "tags": []
   },
   "source": [
    "Filled missing values in the `bath` column with the median number of bathrooms to maintain consistency and minimize the impact of outliers."
   ]
  },
  {
   "cell_type": "code",
   "execution_count": 19,
   "id": "1cc3a929",
   "metadata": {
    "execution": {
     "iopub.execute_input": "2025-06-11T09:20:35.006992Z",
     "iopub.status.busy": "2025-06-11T09:20:35.006659Z",
     "iopub.status.idle": "2025-06-11T09:20:35.013697Z",
     "shell.execute_reply": "2025-06-11T09:20:35.012922Z"
    },
    "papermill": {
     "duration": 0.025686,
     "end_time": "2025-06-11T09:20:35.015645",
     "exception": false,
     "start_time": "2025-06-11T09:20:34.989959",
     "status": "completed"
    },
    "tags": []
   },
   "outputs": [
    {
     "data": {
      "text/plain": [
       "np.int64(0)"
      ]
     },
     "execution_count": 19,
     "metadata": {},
     "output_type": "execute_result"
    }
   ],
   "source": [
    "data['bath'].isna().sum()"
   ]
  },
  {
   "cell_type": "code",
   "execution_count": 20,
   "id": "02315c0d",
   "metadata": {
    "execution": {
     "iopub.execute_input": "2025-06-11T09:20:35.047737Z",
     "iopub.status.busy": "2025-06-11T09:20:35.047468Z",
     "iopub.status.idle": "2025-06-11T09:20:35.141807Z",
     "shell.execute_reply": "2025-06-11T09:20:35.140911Z"
    },
    "papermill": {
     "duration": 0.112411,
     "end_time": "2025-06-11T09:20:35.143562",
     "exception": false,
     "start_time": "2025-06-11T09:20:35.031151",
     "status": "completed"
    },
    "tags": []
   },
   "outputs": [],
   "source": [
    "data['bhk'] = data['size'].str.split().str.get(0).astype(int)"
   ]
  },
  {
   "cell_type": "markdown",
   "id": "835bcfe1",
   "metadata": {
    "papermill": {
     "duration": 0.015588,
     "end_time": "2025-06-11T09:20:35.174525",
     "exception": false,
     "start_time": "2025-06-11T09:20:35.158937",
     "status": "completed"
    },
    "tags": []
   },
   "source": [
    "Extracting Number of Bedrooms (`bhk`)\n",
    "\n",
    "The `bhk` column is generated by extracting the numeric value from the `size` column (e.g., \"2 BHK\" becomes 2). This transformation standardizes the number of bedrooms as an integer feature, making it easier to analyze and model.\n",
    "\n",
    "Converting categorical or object-type columns into numeric values (such as integers or floats) is a crucial preprocessing step. It enables more effective statistical analysis and machine learning, as most algorithms require numerical input."
   ]
  },
  {
   "cell_type": "code",
   "execution_count": 21,
   "id": "c6e09c42",
   "metadata": {
    "execution": {
     "iopub.execute_input": "2025-06-11T09:20:35.209223Z",
     "iopub.status.busy": "2025-06-11T09:20:35.207918Z",
     "iopub.status.idle": "2025-06-11T09:20:35.218230Z",
     "shell.execute_reply": "2025-06-11T09:20:35.216975Z"
    },
    "papermill": {
     "duration": 0.029542,
     "end_time": "2025-06-11T09:20:35.219870",
     "exception": false,
     "start_time": "2025-06-11T09:20:35.190328",
     "status": "completed"
    },
    "tags": []
   },
   "outputs": [
    {
     "name": "stdout",
     "output_type": "stream",
     "text": [
      "<class 'pandas.core.series.Series'>\n",
      "RangeIndex: 13320 entries, 0 to 13319\n",
      "Series name: bhk\n",
      "Non-Null Count  Dtype\n",
      "--------------  -----\n",
      "13320 non-null  int64\n",
      "dtypes: int64(1)\n",
      "memory usage: 104.2 KB\n"
     ]
    }
   ],
   "source": [
    "data['bhk'].info()"
   ]
  },
  {
   "cell_type": "markdown",
   "id": "ad196b74",
   "metadata": {
    "papermill": {
     "duration": 0.014791,
     "end_time": "2025-06-11T09:20:35.252446",
     "exception": false,
     "start_time": "2025-06-11T09:20:35.237655",
     "status": "completed"
    },
    "tags": []
   },
   "source": [
    "we can see there is no null value now."
   ]
  },
  {
   "cell_type": "code",
   "execution_count": 22,
   "id": "dcff613b",
   "metadata": {
    "execution": {
     "iopub.execute_input": "2025-06-11T09:20:35.284672Z",
     "iopub.status.busy": "2025-06-11T09:20:35.284297Z",
     "iopub.status.idle": "2025-06-11T09:20:35.294769Z",
     "shell.execute_reply": "2025-06-11T09:20:35.293833Z"
    },
    "papermill": {
     "duration": 0.029067,
     "end_time": "2025-06-11T09:20:35.296599",
     "exception": false,
     "start_time": "2025-06-11T09:20:35.267532",
     "status": "completed"
    },
    "tags": []
   },
   "outputs": [
    {
     "data": {
      "text/plain": [
       "bhk\n",
       "2     5544\n",
       "3     4857\n",
       "4     1417\n",
       "1      656\n",
       "5      356\n",
       "6      221\n",
       "7      100\n",
       "8       89\n",
       "9       54\n",
       "10      14\n",
       "11       4\n",
       "27       1\n",
       "19       1\n",
       "16       1\n",
       "43       1\n",
       "14       1\n",
       "12       1\n",
       "13       1\n",
       "18       1\n",
       "Name: count, dtype: int64"
      ]
     },
     "execution_count": 22,
     "metadata": {},
     "output_type": "execute_result"
    }
   ],
   "source": [
    "data['bhk'].value_counts()"
   ]
  },
  {
   "cell_type": "markdown",
   "id": "f2b79a62",
   "metadata": {
    "papermill": {
     "duration": 0.014829,
     "end_time": "2025-06-11T09:20:35.327465",
     "exception": false,
     "start_time": "2025-06-11T09:20:35.312636",
     "status": "completed"
    },
    "tags": []
   },
   "source": [
    "Checking for outliers.\n"
   ]
  },
  {
   "cell_type": "code",
   "execution_count": 23,
   "id": "3b19fb59",
   "metadata": {
    "execution": {
     "iopub.execute_input": "2025-06-11T09:20:35.359905Z",
     "iopub.status.busy": "2025-06-11T09:20:35.358871Z",
     "iopub.status.idle": "2025-06-11T09:20:35.371560Z",
     "shell.execute_reply": "2025-06-11T09:20:35.370676Z"
    },
    "papermill": {
     "duration": 0.030394,
     "end_time": "2025-06-11T09:20:35.373106",
     "exception": false,
     "start_time": "2025-06-11T09:20:35.342712",
     "status": "completed"
    },
    "tags": []
   },
   "outputs": [
    {
     "data": {
      "text/html": [
       "<div>\n",
       "<style scoped>\n",
       "    .dataframe tbody tr th:only-of-type {\n",
       "        vertical-align: middle;\n",
       "    }\n",
       "\n",
       "    .dataframe tbody tr th {\n",
       "        vertical-align: top;\n",
       "    }\n",
       "\n",
       "    .dataframe thead th {\n",
       "        text-align: right;\n",
       "    }\n",
       "</style>\n",
       "<table border=\"1\" class=\"dataframe\">\n",
       "  <thead>\n",
       "    <tr style=\"text-align: right;\">\n",
       "      <th></th>\n",
       "      <th>location</th>\n",
       "      <th>size</th>\n",
       "      <th>total_sqft</th>\n",
       "      <th>bath</th>\n",
       "      <th>price</th>\n",
       "      <th>bhk</th>\n",
       "    </tr>\n",
       "  </thead>\n",
       "  <tbody>\n",
       "    <tr>\n",
       "      <th>1718</th>\n",
       "      <td>2Electronic City Phase II</td>\n",
       "      <td>27 BHK</td>\n",
       "      <td>8000</td>\n",
       "      <td>27.0</td>\n",
       "      <td>230.0</td>\n",
       "      <td>27</td>\n",
       "    </tr>\n",
       "    <tr>\n",
       "      <th>4684</th>\n",
       "      <td>Munnekollal</td>\n",
       "      <td>43 Bedroom</td>\n",
       "      <td>2400</td>\n",
       "      <td>40.0</td>\n",
       "      <td>660.0</td>\n",
       "      <td>43</td>\n",
       "    </tr>\n",
       "  </tbody>\n",
       "</table>\n",
       "</div>"
      ],
      "text/plain": [
       "                       location        size total_sqft  bath  price  bhk\n",
       "1718  2Electronic City Phase II      27 BHK       8000  27.0  230.0   27\n",
       "4684                Munnekollal  43 Bedroom       2400  40.0  660.0   43"
      ]
     },
     "execution_count": 23,
     "metadata": {},
     "output_type": "execute_result"
    }
   ],
   "source": [
    "data[data.bhk>20]"
   ]
  },
  {
   "cell_type": "markdown",
   "id": "fac76e1a",
   "metadata": {
    "papermill": {
     "duration": 0.01566,
     "end_time": "2025-06-11T09:20:35.404226",
     "exception": false,
     "start_time": "2025-06-11T09:20:35.388566",
     "status": "completed"
    },
    "tags": []
   },
   "source": [
    "only two columns that  have value greter than 20 so they are outliers."
   ]
  },
  {
   "cell_type": "markdown",
   "id": "48661c1c",
   "metadata": {
    "papermill": {
     "duration": 0.017522,
     "end_time": "2025-06-11T09:20:35.437424",
     "exception": false,
     "start_time": "2025-06-11T09:20:35.419902",
     "status": "completed"
    },
    "tags": []
   },
   "source": [
    "Now let's check for `total_sqft` column."
   ]
  },
  {
   "cell_type": "code",
   "execution_count": 24,
   "id": "929214b0",
   "metadata": {
    "execution": {
     "iopub.execute_input": "2025-06-11T09:20:35.471107Z",
     "iopub.status.busy": "2025-06-11T09:20:35.470714Z",
     "iopub.status.idle": "2025-06-11T09:20:35.477796Z",
     "shell.execute_reply": "2025-06-11T09:20:35.476932Z"
    },
    "papermill": {
     "duration": 0.026252,
     "end_time": "2025-06-11T09:20:35.479463",
     "exception": false,
     "start_time": "2025-06-11T09:20:35.453211",
     "status": "completed"
    },
    "tags": []
   },
   "outputs": [
    {
     "data": {
      "text/plain": [
       "array(['1056', '2600', '1440', ..., '1133 - 1384', '774', '4689'],\n",
       "      shape=(2117,), dtype=object)"
      ]
     },
     "execution_count": 24,
     "metadata": {},
     "output_type": "execute_result"
    }
   ],
   "source": [
    "data['total_sqft'].unique()"
   ]
  },
  {
   "cell_type": "markdown",
   "id": "f6703dd1",
   "metadata": {
    "papermill": {
     "duration": 0.015985,
     "end_time": "2025-06-11T09:20:35.511834",
     "exception": false,
     "start_time": "2025-06-11T09:20:35.495849",
     "status": "completed"
    },
    "tags": []
   },
   "source": [
    "To handle `total_sqft` values given as ranges (e.g., \"1200-1500\"), we take their mean. For other values, we convert them directly to float. This ensures all entries in `total_sqft` are numeric and consistent for analysis."
   ]
  },
  {
   "cell_type": "code",
   "execution_count": 25,
   "id": "3ccfe038",
   "metadata": {
    "execution": {
     "iopub.execute_input": "2025-06-11T09:20:35.544302Z",
     "iopub.status.busy": "2025-06-11T09:20:35.543972Z",
     "iopub.status.idle": "2025-06-11T09:20:35.549440Z",
     "shell.execute_reply": "2025-06-11T09:20:35.548631Z"
    },
    "papermill": {
     "duration": 0.023672,
     "end_time": "2025-06-11T09:20:35.551361",
     "exception": false,
     "start_time": "2025-06-11T09:20:35.527689",
     "status": "completed"
    },
    "tags": []
   },
   "outputs": [],
   "source": [
    "def convertRange(x):\n",
    "    temp = x.split('-')\n",
    "    if len(temp) == 2:\n",
    "        return (float(temp[0]) + float(temp[1]))/2\n",
    "    try:\n",
    "        return float(x)\n",
    "    except:\n",
    "        return None"
   ]
  },
  {
   "cell_type": "code",
   "execution_count": 26,
   "id": "5d0ce8cd",
   "metadata": {
    "execution": {
     "iopub.execute_input": "2025-06-11T09:20:35.583774Z",
     "iopub.status.busy": "2025-06-11T09:20:35.583439Z",
     "iopub.status.idle": "2025-06-11T09:20:35.596099Z",
     "shell.execute_reply": "2025-06-11T09:20:35.594544Z"
    },
    "papermill": {
     "duration": 0.031058,
     "end_time": "2025-06-11T09:20:35.597757",
     "exception": false,
     "start_time": "2025-06-11T09:20:35.566699",
     "status": "completed"
    },
    "tags": []
   },
   "outputs": [],
   "source": [
    "data['total_sqft'] = data['total_sqft'].apply(convertRange)"
   ]
  },
  {
   "cell_type": "code",
   "execution_count": 27,
   "id": "a95c0ab8",
   "metadata": {
    "execution": {
     "iopub.execute_input": "2025-06-11T09:20:35.630753Z",
     "iopub.status.busy": "2025-06-11T09:20:35.630139Z",
     "iopub.status.idle": "2025-06-11T09:20:35.636126Z",
     "shell.execute_reply": "2025-06-11T09:20:35.635222Z"
    },
    "papermill": {
     "duration": 0.02377,
     "end_time": "2025-06-11T09:20:35.637660",
     "exception": false,
     "start_time": "2025-06-11T09:20:35.613890",
     "status": "completed"
    },
    "tags": []
   },
   "outputs": [
    {
     "data": {
      "text/plain": [
       "dtype('float64')"
      ]
     },
     "execution_count": 27,
     "metadata": {},
     "output_type": "execute_result"
    }
   ],
   "source": [
    "data['total_sqft'].dtype"
   ]
  },
  {
   "cell_type": "code",
   "execution_count": 28,
   "id": "81c0bf0f",
   "metadata": {
    "execution": {
     "iopub.execute_input": "2025-06-11T09:20:35.670989Z",
     "iopub.status.busy": "2025-06-11T09:20:35.670675Z",
     "iopub.status.idle": "2025-06-11T09:20:35.682671Z",
     "shell.execute_reply": "2025-06-11T09:20:35.681740Z"
    },
    "papermill": {
     "duration": 0.031229,
     "end_time": "2025-06-11T09:20:35.684524",
     "exception": false,
     "start_time": "2025-06-11T09:20:35.653295",
     "status": "completed"
    },
    "tags": []
   },
   "outputs": [
    {
     "data": {
      "text/html": [
       "<div>\n",
       "<style scoped>\n",
       "    .dataframe tbody tr th:only-of-type {\n",
       "        vertical-align: middle;\n",
       "    }\n",
       "\n",
       "    .dataframe tbody tr th {\n",
       "        vertical-align: top;\n",
       "    }\n",
       "\n",
       "    .dataframe thead th {\n",
       "        text-align: right;\n",
       "    }\n",
       "</style>\n",
       "<table border=\"1\" class=\"dataframe\">\n",
       "  <thead>\n",
       "    <tr style=\"text-align: right;\">\n",
       "      <th></th>\n",
       "      <th>location</th>\n",
       "      <th>size</th>\n",
       "      <th>total_sqft</th>\n",
       "      <th>bath</th>\n",
       "      <th>price</th>\n",
       "      <th>bhk</th>\n",
       "    </tr>\n",
       "  </thead>\n",
       "  <tbody>\n",
       "    <tr>\n",
       "      <th>0</th>\n",
       "      <td>Electronic City Phase II</td>\n",
       "      <td>2 BHK</td>\n",
       "      <td>1056.0</td>\n",
       "      <td>2.0</td>\n",
       "      <td>39.07</td>\n",
       "      <td>2</td>\n",
       "    </tr>\n",
       "    <tr>\n",
       "      <th>1</th>\n",
       "      <td>Chikka Tirupathi</td>\n",
       "      <td>4 Bedroom</td>\n",
       "      <td>2600.0</td>\n",
       "      <td>5.0</td>\n",
       "      <td>120.00</td>\n",
       "      <td>4</td>\n",
       "    </tr>\n",
       "    <tr>\n",
       "      <th>2</th>\n",
       "      <td>Uttarahalli</td>\n",
       "      <td>3 BHK</td>\n",
       "      <td>1440.0</td>\n",
       "      <td>2.0</td>\n",
       "      <td>62.00</td>\n",
       "      <td>3</td>\n",
       "    </tr>\n",
       "    <tr>\n",
       "      <th>3</th>\n",
       "      <td>Lingadheeranahalli</td>\n",
       "      <td>3 BHK</td>\n",
       "      <td>1521.0</td>\n",
       "      <td>3.0</td>\n",
       "      <td>95.00</td>\n",
       "      <td>3</td>\n",
       "    </tr>\n",
       "    <tr>\n",
       "      <th>4</th>\n",
       "      <td>Kothanur</td>\n",
       "      <td>2 BHK</td>\n",
       "      <td>1200.0</td>\n",
       "      <td>2.0</td>\n",
       "      <td>51.00</td>\n",
       "      <td>2</td>\n",
       "    </tr>\n",
       "  </tbody>\n",
       "</table>\n",
       "</div>"
      ],
      "text/plain": [
       "                   location       size  total_sqft  bath   price  bhk\n",
       "0  Electronic City Phase II      2 BHK      1056.0   2.0   39.07    2\n",
       "1          Chikka Tirupathi  4 Bedroom      2600.0   5.0  120.00    4\n",
       "2               Uttarahalli      3 BHK      1440.0   2.0   62.00    3\n",
       "3        Lingadheeranahalli      3 BHK      1521.0   3.0   95.00    3\n",
       "4                  Kothanur      2 BHK      1200.0   2.0   51.00    2"
      ]
     },
     "execution_count": 28,
     "metadata": {},
     "output_type": "execute_result"
    }
   ],
   "source": [
    "data.head()"
   ]
  },
  {
   "cell_type": "markdown",
   "id": "900b95a3",
   "metadata": {
    "papermill": {
     "duration": 0.015924,
     "end_time": "2025-06-11T09:20:35.717649",
     "exception": false,
     "start_time": "2025-06-11T09:20:35.701725",
     "status": "completed"
    },
    "tags": []
   },
   "source": [
    "Price Per square feet"
   ]
  },
  {
   "cell_type": "code",
   "execution_count": 29,
   "id": "4d298c27",
   "metadata": {
    "execution": {
     "iopub.execute_input": "2025-06-11T09:20:35.750733Z",
     "iopub.status.busy": "2025-06-11T09:20:35.750451Z",
     "iopub.status.idle": "2025-06-11T09:20:35.764109Z",
     "shell.execute_reply": "2025-06-11T09:20:35.763132Z"
    },
    "papermill": {
     "duration": 0.03211,
     "end_time": "2025-06-11T09:20:35.765638",
     "exception": false,
     "start_time": "2025-06-11T09:20:35.733528",
     "status": "completed"
    },
    "tags": []
   },
   "outputs": [
    {
     "data": {
      "text/html": [
       "<div>\n",
       "<style scoped>\n",
       "    .dataframe tbody tr th:only-of-type {\n",
       "        vertical-align: middle;\n",
       "    }\n",
       "\n",
       "    .dataframe tbody tr th {\n",
       "        vertical-align: top;\n",
       "    }\n",
       "\n",
       "    .dataframe thead th {\n",
       "        text-align: right;\n",
       "    }\n",
       "</style>\n",
       "<table border=\"1\" class=\"dataframe\">\n",
       "  <thead>\n",
       "    <tr style=\"text-align: right;\">\n",
       "      <th></th>\n",
       "      <th>price</th>\n",
       "      <th>total_sqft</th>\n",
       "    </tr>\n",
       "  </thead>\n",
       "  <tbody>\n",
       "    <tr>\n",
       "      <th>price</th>\n",
       "      <td>1.000000</td>\n",
       "      <td>0.575559</td>\n",
       "    </tr>\n",
       "    <tr>\n",
       "      <th>total_sqft</th>\n",
       "      <td>0.575559</td>\n",
       "      <td>1.000000</td>\n",
       "    </tr>\n",
       "  </tbody>\n",
       "</table>\n",
       "</div>"
      ],
      "text/plain": [
       "               price  total_sqft\n",
       "price       1.000000    0.575559\n",
       "total_sqft  0.575559    1.000000"
      ]
     },
     "execution_count": 29,
     "metadata": {},
     "output_type": "execute_result"
    }
   ],
   "source": [
    "data[['price', 'total_sqft']].corr()"
   ]
  },
  {
   "cell_type": "markdown",
   "id": "0da7a340",
   "metadata": {
    "papermill": {
     "duration": 0.01535,
     "end_time": "2025-06-11T09:20:35.796876",
     "exception": false,
     "start_time": "2025-06-11T09:20:35.781526",
     "status": "completed"
    },
    "tags": []
   },
   "source": [
    "### Creating the `price_per_sqft` Feature\n",
    "\n",
    "A new column, `price_per_sqft`, is added to represent the price per square foot for each property. This feature enables more effective comparison of property values across different locations and sizes."
   ]
  },
  {
   "cell_type": "code",
   "execution_count": 30,
   "id": "5875ad3a",
   "metadata": {
    "execution": {
     "iopub.execute_input": "2025-06-11T09:20:35.829477Z",
     "iopub.status.busy": "2025-06-11T09:20:35.829184Z",
     "iopub.status.idle": "2025-06-11T09:20:35.844073Z",
     "shell.execute_reply": "2025-06-11T09:20:35.843201Z"
    },
    "papermill": {
     "duration": 0.033448,
     "end_time": "2025-06-11T09:20:35.845859",
     "exception": false,
     "start_time": "2025-06-11T09:20:35.812411",
     "status": "completed"
    },
    "tags": []
   },
   "outputs": [],
   "source": [
    "data['price_per_sqft'] = data['price']*100000 / data['total_sqft']"
   ]
  },
  {
   "cell_type": "code",
   "execution_count": 31,
   "id": "de5f6bd8",
   "metadata": {
    "execution": {
     "iopub.execute_input": "2025-06-11T09:20:35.879816Z",
     "iopub.status.busy": "2025-06-11T09:20:35.879539Z",
     "iopub.status.idle": "2025-06-11T09:20:35.887911Z",
     "shell.execute_reply": "2025-06-11T09:20:35.887003Z"
    },
    "papermill": {
     "duration": 0.027329,
     "end_time": "2025-06-11T09:20:35.889569",
     "exception": false,
     "start_time": "2025-06-11T09:20:35.862240",
     "status": "completed"
    },
    "tags": []
   },
   "outputs": [
    {
     "data": {
      "text/plain": [
       "0         3699.810606\n",
       "1         4615.384615\n",
       "2         4305.555556\n",
       "3         6245.890861\n",
       "4         4250.000000\n",
       "             ...     \n",
       "13315     6689.834926\n",
       "13316    11111.111111\n",
       "13317     5258.545136\n",
       "13318    10407.336319\n",
       "13319     3090.909091\n",
       "Name: price_per_sqft, Length: 13320, dtype: float64"
      ]
     },
     "execution_count": 31,
     "metadata": {},
     "output_type": "execute_result"
    }
   ],
   "source": [
    "data['price_per_sqft']"
   ]
  },
  {
   "cell_type": "code",
   "execution_count": 32,
   "id": "173fdda4",
   "metadata": {
    "execution": {
     "iopub.execute_input": "2025-06-11T09:20:35.923326Z",
     "iopub.status.busy": "2025-06-11T09:20:35.922970Z",
     "iopub.status.idle": "2025-06-11T09:20:35.946527Z",
     "shell.execute_reply": "2025-06-11T09:20:35.945410Z"
    },
    "papermill": {
     "duration": 0.042471,
     "end_time": "2025-06-11T09:20:35.948093",
     "exception": false,
     "start_time": "2025-06-11T09:20:35.905622",
     "status": "completed"
    },
    "tags": []
   },
   "outputs": [
    {
     "data": {
      "text/html": [
       "<div>\n",
       "<style scoped>\n",
       "    .dataframe tbody tr th:only-of-type {\n",
       "        vertical-align: middle;\n",
       "    }\n",
       "\n",
       "    .dataframe tbody tr th {\n",
       "        vertical-align: top;\n",
       "    }\n",
       "\n",
       "    .dataframe thead th {\n",
       "        text-align: right;\n",
       "    }\n",
       "</style>\n",
       "<table border=\"1\" class=\"dataframe\">\n",
       "  <thead>\n",
       "    <tr style=\"text-align: right;\">\n",
       "      <th></th>\n",
       "      <th>total_sqft</th>\n",
       "      <th>bath</th>\n",
       "      <th>price</th>\n",
       "      <th>bhk</th>\n",
       "      <th>price_per_sqft</th>\n",
       "    </tr>\n",
       "  </thead>\n",
       "  <tbody>\n",
       "    <tr>\n",
       "      <th>count</th>\n",
       "      <td>13274.000000</td>\n",
       "      <td>13320.000000</td>\n",
       "      <td>13320.000000</td>\n",
       "      <td>13320.000000</td>\n",
       "      <td>1.327400e+04</td>\n",
       "    </tr>\n",
       "    <tr>\n",
       "      <th>mean</th>\n",
       "      <td>1559.626694</td>\n",
       "      <td>2.688814</td>\n",
       "      <td>112.565627</td>\n",
       "      <td>2.802778</td>\n",
       "      <td>7.907501e+03</td>\n",
       "    </tr>\n",
       "    <tr>\n",
       "      <th>std</th>\n",
       "      <td>1238.405258</td>\n",
       "      <td>1.338754</td>\n",
       "      <td>148.971674</td>\n",
       "      <td>1.294496</td>\n",
       "      <td>1.064296e+05</td>\n",
       "    </tr>\n",
       "    <tr>\n",
       "      <th>min</th>\n",
       "      <td>1.000000</td>\n",
       "      <td>1.000000</td>\n",
       "      <td>8.000000</td>\n",
       "      <td>1.000000</td>\n",
       "      <td>2.678298e+02</td>\n",
       "    </tr>\n",
       "    <tr>\n",
       "      <th>25%</th>\n",
       "      <td>1100.000000</td>\n",
       "      <td>2.000000</td>\n",
       "      <td>50.000000</td>\n",
       "      <td>2.000000</td>\n",
       "      <td>4.266865e+03</td>\n",
       "    </tr>\n",
       "    <tr>\n",
       "      <th>50%</th>\n",
       "      <td>1276.000000</td>\n",
       "      <td>2.000000</td>\n",
       "      <td>72.000000</td>\n",
       "      <td>3.000000</td>\n",
       "      <td>5.434306e+03</td>\n",
       "    </tr>\n",
       "    <tr>\n",
       "      <th>75%</th>\n",
       "      <td>1680.000000</td>\n",
       "      <td>3.000000</td>\n",
       "      <td>120.000000</td>\n",
       "      <td>3.000000</td>\n",
       "      <td>7.311746e+03</td>\n",
       "    </tr>\n",
       "    <tr>\n",
       "      <th>max</th>\n",
       "      <td>52272.000000</td>\n",
       "      <td>40.000000</td>\n",
       "      <td>3600.000000</td>\n",
       "      <td>43.000000</td>\n",
       "      <td>1.200000e+07</td>\n",
       "    </tr>\n",
       "  </tbody>\n",
       "</table>\n",
       "</div>"
      ],
      "text/plain": [
       "         total_sqft          bath         price           bhk  price_per_sqft\n",
       "count  13274.000000  13320.000000  13320.000000  13320.000000    1.327400e+04\n",
       "mean    1559.626694      2.688814    112.565627      2.802778    7.907501e+03\n",
       "std     1238.405258      1.338754    148.971674      1.294496    1.064296e+05\n",
       "min        1.000000      1.000000      8.000000      1.000000    2.678298e+02\n",
       "25%     1100.000000      2.000000     50.000000      2.000000    4.266865e+03\n",
       "50%     1276.000000      2.000000     72.000000      3.000000    5.434306e+03\n",
       "75%     1680.000000      3.000000    120.000000      3.000000    7.311746e+03\n",
       "max    52272.000000     40.000000   3600.000000     43.000000    1.200000e+07"
      ]
     },
     "execution_count": 32,
     "metadata": {},
     "output_type": "execute_result"
    }
   ],
   "source": [
    "data.describe()"
   ]
  },
  {
   "cell_type": "code",
   "execution_count": 33,
   "id": "5a7727d6",
   "metadata": {
    "execution": {
     "iopub.execute_input": "2025-06-11T09:20:35.981898Z",
     "iopub.status.busy": "2025-06-11T09:20:35.981618Z",
     "iopub.status.idle": "2025-06-11T09:20:35.991327Z",
     "shell.execute_reply": "2025-06-11T09:20:35.990113Z"
    },
    "papermill": {
     "duration": 0.028535,
     "end_time": "2025-06-11T09:20:35.993029",
     "exception": false,
     "start_time": "2025-06-11T09:20:35.964494",
     "status": "completed"
    },
    "tags": []
   },
   "outputs": [
    {
     "data": {
      "text/plain": [
       "location\n",
       "Whitefield                         541\n",
       "Sarjapur  Road                     399\n",
       "Electronic City                    302\n",
       "Kanakpura Road                     273\n",
       "Thanisandra                        234\n",
       "                                  ... \n",
       "3rd Stage Raja Rajeshwari Nagar      1\n",
       "Chuchangatta Colony                  1\n",
       "Electronic City Phase 1,             1\n",
       "Chikbasavanapura                     1\n",
       "Abshot Layout                        1\n",
       "Name: count, Length: 1305, dtype: int64"
      ]
     },
     "execution_count": 33,
     "metadata": {},
     "output_type": "execute_result"
    }
   ],
   "source": [
    "data['location'].value_counts()"
   ]
  },
  {
   "cell_type": "markdown",
   "id": "3a050920",
   "metadata": {
    "papermill": {
     "duration": 0.016437,
     "end_time": "2025-06-11T09:20:36.026175",
     "exception": false,
     "start_time": "2025-06-11T09:20:36.009738",
     "status": "completed"
    },
    "tags": []
   },
   "source": [
    "`location` columns preprocessing we will remove outlier if any."
   ]
  },
  {
   "cell_type": "code",
   "execution_count": 34,
   "id": "90239d3f",
   "metadata": {
    "execution": {
     "iopub.execute_input": "2025-06-11T09:20:36.060473Z",
     "iopub.status.busy": "2025-06-11T09:20:36.060140Z",
     "iopub.status.idle": "2025-06-11T09:20:36.070482Z",
     "shell.execute_reply": "2025-06-11T09:20:36.069335Z"
    },
    "papermill": {
     "duration": 0.029958,
     "end_time": "2025-06-11T09:20:36.072465",
     "exception": false,
     "start_time": "2025-06-11T09:20:36.042507",
     "status": "completed"
    },
    "tags": []
   },
   "outputs": [],
   "source": [
    "# Remove leading and trailing spaces from location names\n",
    "data['location'] = data['location'].apply(lambda x : x.strip())\n",
    "location_count = data['location'].value_counts()\n"
   ]
  },
  {
   "cell_type": "code",
   "execution_count": 35,
   "id": "65b364ae",
   "metadata": {
    "execution": {
     "iopub.execute_input": "2025-06-11T09:20:36.110244Z",
     "iopub.status.busy": "2025-06-11T09:20:36.109850Z",
     "iopub.status.idle": "2025-06-11T09:20:36.117273Z",
     "shell.execute_reply": "2025-06-11T09:20:36.116329Z"
    },
    "papermill": {
     "duration": 0.026324,
     "end_time": "2025-06-11T09:20:36.118705",
     "exception": false,
     "start_time": "2025-06-11T09:20:36.092381",
     "status": "completed"
    },
    "tags": []
   },
   "outputs": [
    {
     "data": {
      "text/plain": [
       "location\n",
       "Whitefield                              542\n",
       "Sarjapur  Road                          399\n",
       "Electronic City                         304\n",
       "Kanakpura Road                          273\n",
       "Thanisandra                             237\n",
       "                                       ... \n",
       "Duddanahalli                              1\n",
       "Doddanakunte                              1\n",
       "Jogupalya                                 1\n",
       "Subhash Nagar                             1\n",
       "Kengeri Satellite Town KHB Apartment      1\n",
       "Name: count, Length: 1294, dtype: int64"
      ]
     },
     "execution_count": 35,
     "metadata": {},
     "output_type": "execute_result"
    }
   ],
   "source": [
    "location_count  "
   ]
  },
  {
   "cell_type": "code",
   "execution_count": 36,
   "id": "d0d20818",
   "metadata": {
    "execution": {
     "iopub.execute_input": "2025-06-11T09:20:36.155250Z",
     "iopub.status.busy": "2025-06-11T09:20:36.154152Z",
     "iopub.status.idle": "2025-06-11T09:20:36.163100Z",
     "shell.execute_reply": "2025-06-11T09:20:36.162057Z"
    },
    "papermill": {
     "duration": 0.028905,
     "end_time": "2025-06-11T09:20:36.164840",
     "exception": false,
     "start_time": "2025-06-11T09:20:36.135935",
     "status": "completed"
    },
    "tags": []
   },
   "outputs": [
    {
     "data": {
      "text/plain": [
       "location\n",
       "Basapura                                10\n",
       "Dairy Circle                            10\n",
       "Nagappa Reddy Layout                    10\n",
       "Naganathapura                           10\n",
       "Sector 1 HSR Layout                     10\n",
       "                                        ..\n",
       "Duddanahalli                             1\n",
       "Doddanakunte                             1\n",
       "Jogupalya                                1\n",
       "Subhash Nagar                            1\n",
       "Kengeri Satellite Town KHB Apartment     1\n",
       "Name: count, Length: 1053, dtype: int64"
      ]
     },
     "execution_count": 36,
     "metadata": {},
     "output_type": "execute_result"
    }
   ],
   "source": [
    "location_count_less_10 = location_count[location_count <= 10]\n",
    "location_count_less_10"
   ]
  },
  {
   "cell_type": "markdown",
   "id": "8826594f",
   "metadata": {
    "papermill": {
     "duration": 0.01778,
     "end_time": "2025-06-11T09:20:36.199785",
     "exception": false,
     "start_time": "2025-06-11T09:20:36.182005",
     "status": "completed"
    },
    "tags": []
   },
   "source": [
    "Locations with 10 or fewer occurrences (totaling 1,053 unique locations) are replaced with `'other'`. This reduces the number of unique categories in the `location` column, simplifying encoding and improving model performance."
   ]
  },
  {
   "cell_type": "code",
   "execution_count": 37,
   "id": "2929651b",
   "metadata": {
    "execution": {
     "iopub.execute_input": "2025-06-11T09:20:36.234939Z",
     "iopub.status.busy": "2025-06-11T09:20:36.234603Z",
     "iopub.status.idle": "2025-06-11T09:20:36.264083Z",
     "shell.execute_reply": "2025-06-11T09:20:36.263018Z"
    },
    "papermill": {
     "duration": 0.049057,
     "end_time": "2025-06-11T09:20:36.265936",
     "exception": false,
     "start_time": "2025-06-11T09:20:36.216879",
     "status": "completed"
    },
    "tags": []
   },
   "outputs": [],
   "source": [
    "\n",
    "data['location'] = data['location'].apply(lambda x: 'other' if x in location_count_less_10 else x)"
   ]
  },
  {
   "cell_type": "code",
   "execution_count": 38,
   "id": "a3d3a388",
   "metadata": {
    "execution": {
     "iopub.execute_input": "2025-06-11T09:20:36.301487Z",
     "iopub.status.busy": "2025-06-11T09:20:36.301136Z",
     "iopub.status.idle": "2025-06-11T09:20:36.311671Z",
     "shell.execute_reply": "2025-06-11T09:20:36.310868Z"
    },
    "papermill": {
     "duration": 0.030239,
     "end_time": "2025-06-11T09:20:36.313419",
     "exception": false,
     "start_time": "2025-06-11T09:20:36.283180",
     "status": "completed"
    },
    "tags": []
   },
   "outputs": [
    {
     "data": {
      "text/plain": [
       "location\n",
       "other                        2885\n",
       "Whitefield                    542\n",
       "Sarjapur  Road                399\n",
       "Electronic City               304\n",
       "Kanakpura Road                273\n",
       "                             ... \n",
       "Tindlu                         11\n",
       "Marsur                         11\n",
       "2nd Phase Judicial Layout      11\n",
       "Thyagaraja Nagar               11\n",
       "HAL 2nd Stage                  11\n",
       "Name: count, Length: 242, dtype: int64"
      ]
     },
     "execution_count": 38,
     "metadata": {},
     "output_type": "execute_result"
    }
   ],
   "source": [
    "data['location'].value_counts()"
   ]
  },
  {
   "cell_type": "code",
   "execution_count": 39,
   "id": "16ab224b",
   "metadata": {
    "execution": {
     "iopub.execute_input": "2025-06-11T09:20:36.348115Z",
     "iopub.status.busy": "2025-06-11T09:20:36.347748Z",
     "iopub.status.idle": "2025-06-11T09:20:36.371419Z",
     "shell.execute_reply": "2025-06-11T09:20:36.370546Z"
    },
    "papermill": {
     "duration": 0.043108,
     "end_time": "2025-06-11T09:20:36.373098",
     "exception": false,
     "start_time": "2025-06-11T09:20:36.329990",
     "status": "completed"
    },
    "tags": []
   },
   "outputs": [
    {
     "data": {
      "text/html": [
       "<div>\n",
       "<style scoped>\n",
       "    .dataframe tbody tr th:only-of-type {\n",
       "        vertical-align: middle;\n",
       "    }\n",
       "\n",
       "    .dataframe tbody tr th {\n",
       "        vertical-align: top;\n",
       "    }\n",
       "\n",
       "    .dataframe thead th {\n",
       "        text-align: right;\n",
       "    }\n",
       "</style>\n",
       "<table border=\"1\" class=\"dataframe\">\n",
       "  <thead>\n",
       "    <tr style=\"text-align: right;\">\n",
       "      <th></th>\n",
       "      <th>total_sqft</th>\n",
       "      <th>bath</th>\n",
       "      <th>price</th>\n",
       "      <th>bhk</th>\n",
       "      <th>price_per_sqft</th>\n",
       "    </tr>\n",
       "  </thead>\n",
       "  <tbody>\n",
       "    <tr>\n",
       "      <th>count</th>\n",
       "      <td>13274.000000</td>\n",
       "      <td>13320.000000</td>\n",
       "      <td>13320.000000</td>\n",
       "      <td>13320.000000</td>\n",
       "      <td>1.327400e+04</td>\n",
       "    </tr>\n",
       "    <tr>\n",
       "      <th>mean</th>\n",
       "      <td>1559.626694</td>\n",
       "      <td>2.688814</td>\n",
       "      <td>112.565627</td>\n",
       "      <td>2.802778</td>\n",
       "      <td>7.907501e+03</td>\n",
       "    </tr>\n",
       "    <tr>\n",
       "      <th>std</th>\n",
       "      <td>1238.405258</td>\n",
       "      <td>1.338754</td>\n",
       "      <td>148.971674</td>\n",
       "      <td>1.294496</td>\n",
       "      <td>1.064296e+05</td>\n",
       "    </tr>\n",
       "    <tr>\n",
       "      <th>min</th>\n",
       "      <td>1.000000</td>\n",
       "      <td>1.000000</td>\n",
       "      <td>8.000000</td>\n",
       "      <td>1.000000</td>\n",
       "      <td>2.678298e+02</td>\n",
       "    </tr>\n",
       "    <tr>\n",
       "      <th>25%</th>\n",
       "      <td>1100.000000</td>\n",
       "      <td>2.000000</td>\n",
       "      <td>50.000000</td>\n",
       "      <td>2.000000</td>\n",
       "      <td>4.266865e+03</td>\n",
       "    </tr>\n",
       "    <tr>\n",
       "      <th>50%</th>\n",
       "      <td>1276.000000</td>\n",
       "      <td>2.000000</td>\n",
       "      <td>72.000000</td>\n",
       "      <td>3.000000</td>\n",
       "      <td>5.434306e+03</td>\n",
       "    </tr>\n",
       "    <tr>\n",
       "      <th>75%</th>\n",
       "      <td>1680.000000</td>\n",
       "      <td>3.000000</td>\n",
       "      <td>120.000000</td>\n",
       "      <td>3.000000</td>\n",
       "      <td>7.311746e+03</td>\n",
       "    </tr>\n",
       "    <tr>\n",
       "      <th>max</th>\n",
       "      <td>52272.000000</td>\n",
       "      <td>40.000000</td>\n",
       "      <td>3600.000000</td>\n",
       "      <td>43.000000</td>\n",
       "      <td>1.200000e+07</td>\n",
       "    </tr>\n",
       "  </tbody>\n",
       "</table>\n",
       "</div>"
      ],
      "text/plain": [
       "         total_sqft          bath         price           bhk  price_per_sqft\n",
       "count  13274.000000  13320.000000  13320.000000  13320.000000    1.327400e+04\n",
       "mean    1559.626694      2.688814    112.565627      2.802778    7.907501e+03\n",
       "std     1238.405258      1.338754    148.971674      1.294496    1.064296e+05\n",
       "min        1.000000      1.000000      8.000000      1.000000    2.678298e+02\n",
       "25%     1100.000000      2.000000     50.000000      2.000000    4.266865e+03\n",
       "50%     1276.000000      2.000000     72.000000      3.000000    5.434306e+03\n",
       "75%     1680.000000      3.000000    120.000000      3.000000    7.311746e+03\n",
       "max    52272.000000     40.000000   3600.000000     43.000000    1.200000e+07"
      ]
     },
     "execution_count": 39,
     "metadata": {},
     "output_type": "execute_result"
    }
   ],
   "source": [
    "data.describe()"
   ]
  },
  {
   "cell_type": "markdown",
   "id": "37e4cd85",
   "metadata": {
    "papermill": {
     "duration": 0.018165,
     "end_time": "2025-06-11T09:20:36.410012",
     "exception": false,
     "start_time": "2025-06-11T09:20:36.391847",
     "status": "completed"
    },
    "tags": []
   },
   "source": [
    "Outlier Detection in `total_sqft`\n",
    "\n",
    "A review of the `total_sqft` column reveals some unrealistic values, such as properties with as little as 1 square foot of area. Such entries are clear outliers or data entry errors, as it is not feasible for any property—especially those with multiple bedrooms—to have such a small area.\n",
    "\n",
    "To improve data quality and ensure reliable analysis, we remove properties where the average area per BHK (i.e., `total_sqft` divided by `bhk`) is less than 300 sqft. This threshold helps filter out likely outliers and data inconsistencies, resulting in a more accurate and trustworthy dataset for further exploration and modeling."
   ]
  },
  {
   "cell_type": "code",
   "execution_count": 40,
   "id": "cb16a9da",
   "metadata": {
    "execution": {
     "iopub.execute_input": "2025-06-11T09:20:36.446381Z",
     "iopub.status.busy": "2025-06-11T09:20:36.446018Z",
     "iopub.status.idle": "2025-06-11T09:20:36.473831Z",
     "shell.execute_reply": "2025-06-11T09:20:36.472595Z"
    },
    "papermill": {
     "duration": 0.048106,
     "end_time": "2025-06-11T09:20:36.475621",
     "exception": false,
     "start_time": "2025-06-11T09:20:36.427515",
     "status": "completed"
    },
    "tags": []
   },
   "outputs": [
    {
     "data": {
      "text/html": [
       "<div>\n",
       "<style scoped>\n",
       "    .dataframe tbody tr th:only-of-type {\n",
       "        vertical-align: middle;\n",
       "    }\n",
       "\n",
       "    .dataframe tbody tr th {\n",
       "        vertical-align: top;\n",
       "    }\n",
       "\n",
       "    .dataframe thead th {\n",
       "        text-align: right;\n",
       "    }\n",
       "</style>\n",
       "<table border=\"1\" class=\"dataframe\">\n",
       "  <thead>\n",
       "    <tr style=\"text-align: right;\">\n",
       "      <th></th>\n",
       "      <th>total_sqft</th>\n",
       "      <th>bath</th>\n",
       "      <th>price</th>\n",
       "      <th>bhk</th>\n",
       "      <th>price_per_sqft</th>\n",
       "    </tr>\n",
       "  </thead>\n",
       "  <tbody>\n",
       "    <tr>\n",
       "      <th>count</th>\n",
       "      <td>12530.000000</td>\n",
       "      <td>12530.000000</td>\n",
       "      <td>12530.000000</td>\n",
       "      <td>12530.000000</td>\n",
       "      <td>12530.000000</td>\n",
       "    </tr>\n",
       "    <tr>\n",
       "      <th>mean</th>\n",
       "      <td>1594.564544</td>\n",
       "      <td>2.559537</td>\n",
       "      <td>111.382401</td>\n",
       "      <td>2.650838</td>\n",
       "      <td>6303.979357</td>\n",
       "    </tr>\n",
       "    <tr>\n",
       "      <th>std</th>\n",
       "      <td>1261.271296</td>\n",
       "      <td>1.077938</td>\n",
       "      <td>152.077329</td>\n",
       "      <td>0.976678</td>\n",
       "      <td>4162.237981</td>\n",
       "    </tr>\n",
       "    <tr>\n",
       "      <th>min</th>\n",
       "      <td>300.000000</td>\n",
       "      <td>1.000000</td>\n",
       "      <td>8.440000</td>\n",
       "      <td>1.000000</td>\n",
       "      <td>267.829813</td>\n",
       "    </tr>\n",
       "    <tr>\n",
       "      <th>25%</th>\n",
       "      <td>1116.000000</td>\n",
       "      <td>2.000000</td>\n",
       "      <td>49.000000</td>\n",
       "      <td>2.000000</td>\n",
       "      <td>4210.526316</td>\n",
       "    </tr>\n",
       "    <tr>\n",
       "      <th>50%</th>\n",
       "      <td>1300.000000</td>\n",
       "      <td>2.000000</td>\n",
       "      <td>70.000000</td>\n",
       "      <td>3.000000</td>\n",
       "      <td>5294.117647</td>\n",
       "    </tr>\n",
       "    <tr>\n",
       "      <th>75%</th>\n",
       "      <td>1700.000000</td>\n",
       "      <td>3.000000</td>\n",
       "      <td>115.000000</td>\n",
       "      <td>3.000000</td>\n",
       "      <td>6916.666667</td>\n",
       "    </tr>\n",
       "    <tr>\n",
       "      <th>max</th>\n",
       "      <td>52272.000000</td>\n",
       "      <td>16.000000</td>\n",
       "      <td>3600.000000</td>\n",
       "      <td>16.000000</td>\n",
       "      <td>176470.588235</td>\n",
       "    </tr>\n",
       "  </tbody>\n",
       "</table>\n",
       "</div>"
      ],
      "text/plain": [
       "         total_sqft          bath         price           bhk  price_per_sqft\n",
       "count  12530.000000  12530.000000  12530.000000  12530.000000    12530.000000\n",
       "mean    1594.564544      2.559537    111.382401      2.650838     6303.979357\n",
       "std     1261.271296      1.077938    152.077329      0.976678     4162.237981\n",
       "min      300.000000      1.000000      8.440000      1.000000      267.829813\n",
       "25%     1116.000000      2.000000     49.000000      2.000000     4210.526316\n",
       "50%     1300.000000      2.000000     70.000000      3.000000     5294.117647\n",
       "75%     1700.000000      3.000000    115.000000      3.000000     6916.666667\n",
       "max    52272.000000     16.000000   3600.000000     16.000000   176470.588235"
      ]
     },
     "execution_count": 40,
     "metadata": {},
     "output_type": "execute_result"
    }
   ],
   "source": [
    "data = data[((data['total_sqft']/data['bhk']) >= 300)]\n",
    "data.describe()"
   ]
  },
  {
   "cell_type": "code",
   "execution_count": 41,
   "id": "5d4c12e9",
   "metadata": {
    "execution": {
     "iopub.execute_input": "2025-06-11T09:20:36.511114Z",
     "iopub.status.busy": "2025-06-11T09:20:36.510786Z",
     "iopub.status.idle": "2025-06-11T09:20:36.517298Z",
     "shell.execute_reply": "2025-06-11T09:20:36.516247Z"
    },
    "papermill": {
     "duration": 0.026252,
     "end_time": "2025-06-11T09:20:36.519184",
     "exception": false,
     "start_time": "2025-06-11T09:20:36.492932",
     "status": "completed"
    },
    "tags": []
   },
   "outputs": [
    {
     "data": {
      "text/plain": [
       "(12530, 7)"
      ]
     },
     "execution_count": 41,
     "metadata": {},
     "output_type": "execute_result"
    }
   ],
   "source": [
    "data.shape"
   ]
  },
  {
   "cell_type": "code",
   "execution_count": 42,
   "id": "20aca6ca",
   "metadata": {
    "execution": {
     "iopub.execute_input": "2025-06-11T09:20:36.558060Z",
     "iopub.status.busy": "2025-06-11T09:20:36.557715Z",
     "iopub.status.idle": "2025-06-11T09:20:36.852871Z",
     "shell.execute_reply": "2025-06-11T09:20:36.851851Z"
    },
    "papermill": {
     "duration": 0.316917,
     "end_time": "2025-06-11T09:20:36.854594",
     "exception": false,
     "start_time": "2025-06-11T09:20:36.537677",
     "status": "completed"
    },
    "tags": []
   },
   "outputs": [
    {
     "data": {
      "text/html": [
       "<div>\n",
       "<style scoped>\n",
       "    .dataframe tbody tr th:only-of-type {\n",
       "        vertical-align: middle;\n",
       "    }\n",
       "\n",
       "    .dataframe tbody tr th {\n",
       "        vertical-align: top;\n",
       "    }\n",
       "\n",
       "    .dataframe thead th {\n",
       "        text-align: right;\n",
       "    }\n",
       "</style>\n",
       "<table border=\"1\" class=\"dataframe\">\n",
       "  <thead>\n",
       "    <tr style=\"text-align: right;\">\n",
       "      <th></th>\n",
       "      <th>total_sqft</th>\n",
       "      <th>bath</th>\n",
       "      <th>price</th>\n",
       "      <th>bhk</th>\n",
       "      <th>price_per_sqft</th>\n",
       "    </tr>\n",
       "  </thead>\n",
       "  <tbody>\n",
       "    <tr>\n",
       "      <th>count</th>\n",
       "      <td>10301.000000</td>\n",
       "      <td>10301.000000</td>\n",
       "      <td>10301.000000</td>\n",
       "      <td>10301.000000</td>\n",
       "      <td>10301.000000</td>\n",
       "    </tr>\n",
       "    <tr>\n",
       "      <th>mean</th>\n",
       "      <td>1508.440608</td>\n",
       "      <td>2.471702</td>\n",
       "      <td>91.286372</td>\n",
       "      <td>2.574896</td>\n",
       "      <td>5659.062876</td>\n",
       "    </tr>\n",
       "    <tr>\n",
       "      <th>std</th>\n",
       "      <td>880.694214</td>\n",
       "      <td>0.979449</td>\n",
       "      <td>86.342786</td>\n",
       "      <td>0.897649</td>\n",
       "      <td>2265.774749</td>\n",
       "    </tr>\n",
       "    <tr>\n",
       "      <th>min</th>\n",
       "      <td>300.000000</td>\n",
       "      <td>1.000000</td>\n",
       "      <td>10.000000</td>\n",
       "      <td>1.000000</td>\n",
       "      <td>1250.000000</td>\n",
       "    </tr>\n",
       "    <tr>\n",
       "      <th>25%</th>\n",
       "      <td>1110.000000</td>\n",
       "      <td>2.000000</td>\n",
       "      <td>49.000000</td>\n",
       "      <td>2.000000</td>\n",
       "      <td>4244.897959</td>\n",
       "    </tr>\n",
       "    <tr>\n",
       "      <th>50%</th>\n",
       "      <td>1286.000000</td>\n",
       "      <td>2.000000</td>\n",
       "      <td>67.000000</td>\n",
       "      <td>2.000000</td>\n",
       "      <td>5175.600739</td>\n",
       "    </tr>\n",
       "    <tr>\n",
       "      <th>75%</th>\n",
       "      <td>1650.000000</td>\n",
       "      <td>3.000000</td>\n",
       "      <td>100.000000</td>\n",
       "      <td>3.000000</td>\n",
       "      <td>6428.571429</td>\n",
       "    </tr>\n",
       "    <tr>\n",
       "      <th>max</th>\n",
       "      <td>30400.000000</td>\n",
       "      <td>16.000000</td>\n",
       "      <td>2200.000000</td>\n",
       "      <td>16.000000</td>\n",
       "      <td>24509.803922</td>\n",
       "    </tr>\n",
       "  </tbody>\n",
       "</table>\n",
       "</div>"
      ],
      "text/plain": [
       "         total_sqft          bath         price           bhk  price_per_sqft\n",
       "count  10301.000000  10301.000000  10301.000000  10301.000000    10301.000000\n",
       "mean    1508.440608      2.471702     91.286372      2.574896     5659.062876\n",
       "std      880.694214      0.979449     86.342786      0.897649     2265.774749\n",
       "min      300.000000      1.000000     10.000000      1.000000     1250.000000\n",
       "25%     1110.000000      2.000000     49.000000      2.000000     4244.897959\n",
       "50%     1286.000000      2.000000     67.000000      2.000000     5175.600739\n",
       "75%     1650.000000      3.000000    100.000000      3.000000     6428.571429\n",
       "max    30400.000000     16.000000   2200.000000     16.000000    24509.803922"
      ]
     },
     "execution_count": 42,
     "metadata": {},
     "output_type": "execute_result"
    }
   ],
   "source": [
    "def remove_outliers_sqft(df):\n",
    "    df_output = pd.DataFrame()\n",
    "    for key,subdf in df.groupby('location'):\n",
    "        \n",
    "        m = np.mean(subdf['price_per_sqft'])\n",
    "\n",
    "        st = np.std(subdf['price_per_sqft'])\n",
    "\n",
    "        gen_df = subdf[(subdf['price_per_sqft'] > (m-st)) & (subdf['price_per_sqft'] <= (m+st))]\n",
    "        \n",
    "        df_output = pd.concat([df_output,gen_df],ignore_index= True)\n",
    "       \n",
    "    return df_output\n",
    "data = remove_outliers_sqft(data)\n",
    "data.describe()"
   ]
  },
  {
   "cell_type": "code",
   "execution_count": 43,
   "id": "e9f5d856",
   "metadata": {
    "execution": {
     "iopub.execute_input": "2025-06-11T09:20:36.891172Z",
     "iopub.status.busy": "2025-06-11T09:20:36.890708Z",
     "iopub.status.idle": "2025-06-11T09:20:36.897989Z",
     "shell.execute_reply": "2025-06-11T09:20:36.896887Z"
    },
    "papermill": {
     "duration": 0.028138,
     "end_time": "2025-06-11T09:20:36.899930",
     "exception": false,
     "start_time": "2025-06-11T09:20:36.871792",
     "status": "completed"
    },
    "tags": []
   },
   "outputs": [
    {
     "data": {
      "text/plain": [
       "(10301, 7)"
      ]
     },
     "execution_count": 43,
     "metadata": {},
     "output_type": "execute_result"
    }
   ],
   "source": [
    "data.shape"
   ]
  },
  {
   "cell_type": "markdown",
   "id": "479cc897",
   "metadata": {
    "papermill": {
     "duration": 0.01815,
     "end_time": "2025-06-11T09:20:36.938805",
     "exception": false,
     "start_time": "2025-06-11T09:20:36.920655",
     "status": "completed"
    },
    "tags": []
   },
   "source": [
    "### Understanding `groupby` and Outlier Removal Logic\n",
    "\n",
    "- **`groupby('location')`** splits the DataFrame into groups based on unique values in the `location` column.\n",
    "    - **`key`**: Stores the name of the current location (a string, e.g., `'Whitefield'`).\n",
    "    - **`subdf`**: Contains a DataFrame with all rows for that location.\n",
    "\n",
    "- For each location, the function keeps only those rows where `price_per_sqft` is within one standard deviation of the mean for that location. This filters out unusually high or low property prices, keeping only the most typical values for each area.\n"
   ]
  },
  {
   "cell_type": "code",
   "execution_count": 44,
   "id": "be0ccf6d",
   "metadata": {
    "execution": {
     "iopub.execute_input": "2025-06-11T09:20:36.977406Z",
     "iopub.status.busy": "2025-06-11T09:20:36.977100Z",
     "iopub.status.idle": "2025-06-11T09:20:36.983948Z",
     "shell.execute_reply": "2025-06-11T09:20:36.982942Z"
    },
    "papermill": {
     "duration": 0.02845,
     "end_time": "2025-06-11T09:20:36.985609",
     "exception": false,
     "start_time": "2025-06-11T09:20:36.957159",
     "status": "completed"
    },
    "tags": []
   },
   "outputs": [],
   "source": [
    "\n",
    "\n",
    "def bhk_outlier_remove(df):\n",
    "    exclude_indices = np.array([])\n",
    "\n",
    "    for location, location_df in df.groupby('location'):\n",
    "        bhk_stats = {}\n",
    "\n",
    "        # Step 1: Calculate mean and std for each BHK in a location\n",
    "        for bhk, bhk_df in location_df.groupby('bhk'):\n",
    "            bhk_stats[bhk] = {\n",
    "                'mean': np.mean(bhk_df['price_per_sqft']),\n",
    "                'std': np.std(bhk_df.price_per_sqft),\n",
    "                'count': bhk_df.shape[0]\n",
    "            }\n",
    "  \n",
    "        # Step 2: Compare each BHK price_per_sqft with the (BHK-1) stats\n",
    "        \n",
    "        for bhk, bhk_df in location_df.groupby('bhk'):\n",
    "            stats = bhk_stats.get(bhk - 1)\n",
    "            if stats and stats['count'] > 5:\n",
    "                exclude_indices = np.append(\n",
    "                    exclude_indices,\n",
    "                    bhk_df[bhk_df['price_per_sqft'] < stats['mean']].index.values\n",
    "                )\n",
    "\n",
    "    return df.drop(exclude_indices, axis='index')\n"
   ]
  },
  {
   "cell_type": "markdown",
   "id": "7c5f32ce",
   "metadata": {
    "papermill": {
     "duration": 0.017113,
     "end_time": "2025-06-11T09:20:37.019974",
     "exception": false,
     "start_time": "2025-06-11T09:20:37.002861",
     "status": "completed"
    },
    "tags": []
   },
   "source": [
    "### Understanding and Removing BHK Outliers\n",
    "\n",
    "The `bhk_outlier_remove` function refines real estate data by removing properties where the `price_per_sqft` is unusually low compared to properties with fewer rooms (BHK) in the same location. For example, it addresses cases where a 3BHK is listed at a lower price per square foot than a 2BHK nearby, which is typically unrealistic.\n",
    "\n",
    "#### How It Works: Two-Step Process Per Location\n",
    "\n",
    "**1. Calculate BHK Statistics**  \n",
    "For each unique location, properties are grouped by their BHK count. For every BHK group within a location, the function computes:\n",
    "- Mean `price_per_sqft`\n",
    "- Standard deviation of `price_per_sqft`\n",
    "- Count of properties for that BHK type\n",
    "\n",
    "This builds a statistical profile for each BHK size in every location.\n",
    "\n",
    "**2. Compare and Exclude Outliers**  \n",
    "For each BHK type in a location:\n",
    "- The function looks up the mean `price_per_sqft` of the (BHK - 1) group (e.g., for 3BHK, it checks 2BHK stats).\n",
    "- If a property's `price_per_sqft` is less than the mean of the smaller BHK group (and the smaller group has more than 5 properties), it is flagged as an outlier.\n",
    "- The indices of these outlier properties are collected.\n",
    "\n",
    "**Final Step: Clean the DataFrame**  \n",
    "After processing all locations and BHK groups, the function removes all identified outlier rows, resulting in a cleaner dataset for further analysis and modeling.\n"
   ]
  },
  {
   "cell_type": "code",
   "execution_count": 45,
   "id": "bf31b78f",
   "metadata": {
    "execution": {
     "iopub.execute_input": "2025-06-11T09:20:37.057298Z",
     "iopub.status.busy": "2025-06-11T09:20:37.056928Z",
     "iopub.status.idle": "2025-06-11T09:20:37.557520Z",
     "shell.execute_reply": "2025-06-11T09:20:37.556407Z"
    },
    "papermill": {
     "duration": 0.521668,
     "end_time": "2025-06-11T09:20:37.559580",
     "exception": false,
     "start_time": "2025-06-11T09:20:37.037912",
     "status": "completed"
    },
    "tags": []
   },
   "outputs": [],
   "source": [
    "data = bhk_outlier_remove(data)"
   ]
  },
  {
   "cell_type": "code",
   "execution_count": 46,
   "id": "020ba8d1",
   "metadata": {
    "execution": {
     "iopub.execute_input": "2025-06-11T09:20:37.597352Z",
     "iopub.status.busy": "2025-06-11T09:20:37.596986Z",
     "iopub.status.idle": "2025-06-11T09:20:37.603216Z",
     "shell.execute_reply": "2025-06-11T09:20:37.602120Z"
    },
    "papermill": {
     "duration": 0.025842,
     "end_time": "2025-06-11T09:20:37.604652",
     "exception": false,
     "start_time": "2025-06-11T09:20:37.578810",
     "status": "completed"
    },
    "tags": []
   },
   "outputs": [
    {
     "data": {
      "text/plain": [
       "(7361, 7)"
      ]
     },
     "execution_count": 46,
     "metadata": {},
     "output_type": "execute_result"
    }
   ],
   "source": [
    "data.shape"
   ]
  },
  {
   "cell_type": "code",
   "execution_count": 47,
   "id": "c30d2c56",
   "metadata": {
    "execution": {
     "iopub.execute_input": "2025-06-11T09:20:37.642835Z",
     "iopub.status.busy": "2025-06-11T09:20:37.642486Z",
     "iopub.status.idle": "2025-06-11T09:20:37.658447Z",
     "shell.execute_reply": "2025-06-11T09:20:37.657200Z"
    },
    "papermill": {
     "duration": 0.037926,
     "end_time": "2025-06-11T09:20:37.660218",
     "exception": false,
     "start_time": "2025-06-11T09:20:37.622292",
     "status": "completed"
    },
    "tags": []
   },
   "outputs": [
    {
     "data": {
      "text/html": [
       "<div>\n",
       "<style scoped>\n",
       "    .dataframe tbody tr th:only-of-type {\n",
       "        vertical-align: middle;\n",
       "    }\n",
       "\n",
       "    .dataframe tbody tr th {\n",
       "        vertical-align: top;\n",
       "    }\n",
       "\n",
       "    .dataframe thead th {\n",
       "        text-align: right;\n",
       "    }\n",
       "</style>\n",
       "<table border=\"1\" class=\"dataframe\">\n",
       "  <thead>\n",
       "    <tr style=\"text-align: right;\">\n",
       "      <th></th>\n",
       "      <th>location</th>\n",
       "      <th>size</th>\n",
       "      <th>total_sqft</th>\n",
       "      <th>bath</th>\n",
       "      <th>price</th>\n",
       "      <th>bhk</th>\n",
       "      <th>price_per_sqft</th>\n",
       "    </tr>\n",
       "  </thead>\n",
       "  <tbody>\n",
       "    <tr>\n",
       "      <th>0</th>\n",
       "      <td>1st Block Jayanagar</td>\n",
       "      <td>4 BHK</td>\n",
       "      <td>2850.0</td>\n",
       "      <td>4.0</td>\n",
       "      <td>428.0</td>\n",
       "      <td>4</td>\n",
       "      <td>15017.543860</td>\n",
       "    </tr>\n",
       "    <tr>\n",
       "      <th>1</th>\n",
       "      <td>1st Block Jayanagar</td>\n",
       "      <td>3 BHK</td>\n",
       "      <td>1630.0</td>\n",
       "      <td>3.0</td>\n",
       "      <td>194.0</td>\n",
       "      <td>3</td>\n",
       "      <td>11901.840491</td>\n",
       "    </tr>\n",
       "    <tr>\n",
       "      <th>2</th>\n",
       "      <td>1st Block Jayanagar</td>\n",
       "      <td>3 BHK</td>\n",
       "      <td>1875.0</td>\n",
       "      <td>2.0</td>\n",
       "      <td>235.0</td>\n",
       "      <td>3</td>\n",
       "      <td>12533.333333</td>\n",
       "    </tr>\n",
       "    <tr>\n",
       "      <th>3</th>\n",
       "      <td>1st Block Jayanagar</td>\n",
       "      <td>3 BHK</td>\n",
       "      <td>1200.0</td>\n",
       "      <td>2.0</td>\n",
       "      <td>130.0</td>\n",
       "      <td>3</td>\n",
       "      <td>10833.333333</td>\n",
       "    </tr>\n",
       "    <tr>\n",
       "      <th>4</th>\n",
       "      <td>1st Block Jayanagar</td>\n",
       "      <td>2 BHK</td>\n",
       "      <td>1235.0</td>\n",
       "      <td>2.0</td>\n",
       "      <td>148.0</td>\n",
       "      <td>2</td>\n",
       "      <td>11983.805668</td>\n",
       "    </tr>\n",
       "    <tr>\n",
       "      <th>...</th>\n",
       "      <td>...</td>\n",
       "      <td>...</td>\n",
       "      <td>...</td>\n",
       "      <td>...</td>\n",
       "      <td>...</td>\n",
       "      <td>...</td>\n",
       "      <td>...</td>\n",
       "    </tr>\n",
       "    <tr>\n",
       "      <th>10292</th>\n",
       "      <td>other</td>\n",
       "      <td>2 BHK</td>\n",
       "      <td>1200.0</td>\n",
       "      <td>2.0</td>\n",
       "      <td>70.0</td>\n",
       "      <td>2</td>\n",
       "      <td>5833.333333</td>\n",
       "    </tr>\n",
       "    <tr>\n",
       "      <th>10293</th>\n",
       "      <td>other</td>\n",
       "      <td>1 BHK</td>\n",
       "      <td>1800.0</td>\n",
       "      <td>1.0</td>\n",
       "      <td>200.0</td>\n",
       "      <td>1</td>\n",
       "      <td>11111.111111</td>\n",
       "    </tr>\n",
       "    <tr>\n",
       "      <th>10296</th>\n",
       "      <td>other</td>\n",
       "      <td>2 BHK</td>\n",
       "      <td>1353.0</td>\n",
       "      <td>2.0</td>\n",
       "      <td>110.0</td>\n",
       "      <td>2</td>\n",
       "      <td>8130.081301</td>\n",
       "    </tr>\n",
       "    <tr>\n",
       "      <th>10297</th>\n",
       "      <td>other</td>\n",
       "      <td>1 Bedroom</td>\n",
       "      <td>812.0</td>\n",
       "      <td>1.0</td>\n",
       "      <td>26.0</td>\n",
       "      <td>1</td>\n",
       "      <td>3201.970443</td>\n",
       "    </tr>\n",
       "    <tr>\n",
       "      <th>10300</th>\n",
       "      <td>other</td>\n",
       "      <td>4 BHK</td>\n",
       "      <td>3600.0</td>\n",
       "      <td>5.0</td>\n",
       "      <td>400.0</td>\n",
       "      <td>4</td>\n",
       "      <td>11111.111111</td>\n",
       "    </tr>\n",
       "  </tbody>\n",
       "</table>\n",
       "<p>7361 rows × 7 columns</p>\n",
       "</div>"
      ],
      "text/plain": [
       "                  location       size  total_sqft  bath  price  bhk  \\\n",
       "0      1st Block Jayanagar      4 BHK      2850.0   4.0  428.0    4   \n",
       "1      1st Block Jayanagar      3 BHK      1630.0   3.0  194.0    3   \n",
       "2      1st Block Jayanagar      3 BHK      1875.0   2.0  235.0    3   \n",
       "3      1st Block Jayanagar      3 BHK      1200.0   2.0  130.0    3   \n",
       "4      1st Block Jayanagar      2 BHK      1235.0   2.0  148.0    2   \n",
       "...                    ...        ...         ...   ...    ...  ...   \n",
       "10292                other      2 BHK      1200.0   2.0   70.0    2   \n",
       "10293                other      1 BHK      1800.0   1.0  200.0    1   \n",
       "10296                other      2 BHK      1353.0   2.0  110.0    2   \n",
       "10297                other  1 Bedroom       812.0   1.0   26.0    1   \n",
       "10300                other      4 BHK      3600.0   5.0  400.0    4   \n",
       "\n",
       "       price_per_sqft  \n",
       "0        15017.543860  \n",
       "1        11901.840491  \n",
       "2        12533.333333  \n",
       "3        10833.333333  \n",
       "4        11983.805668  \n",
       "...               ...  \n",
       "10292     5833.333333  \n",
       "10293    11111.111111  \n",
       "10296     8130.081301  \n",
       "10297     3201.970443  \n",
       "10300    11111.111111  \n",
       "\n",
       "[7361 rows x 7 columns]"
      ]
     },
     "execution_count": 47,
     "metadata": {},
     "output_type": "execute_result"
    }
   ],
   "source": [
    "data"
   ]
  },
  {
   "cell_type": "code",
   "execution_count": 48,
   "id": "be9d0bbd",
   "metadata": {
    "execution": {
     "iopub.execute_input": "2025-06-11T09:20:37.701398Z",
     "iopub.status.busy": "2025-06-11T09:20:37.701059Z",
     "iopub.status.idle": "2025-06-11T09:20:37.708455Z",
     "shell.execute_reply": "2025-06-11T09:20:37.707152Z"
    },
    "papermill": {
     "duration": 0.03098,
     "end_time": "2025-06-11T09:20:37.710364",
     "exception": false,
     "start_time": "2025-06-11T09:20:37.679384",
     "status": "completed"
    },
    "tags": []
   },
   "outputs": [],
   "source": [
    "data.drop(columns=['size','price_per_sqft'],inplace=True)"
   ]
  },
  {
   "cell_type": "markdown",
   "id": "68394ac0",
   "metadata": {
    "papermill": {
     "duration": 0.018848,
     "end_time": "2025-06-11T09:20:37.747583",
     "exception": false,
     "start_time": "2025-06-11T09:20:37.728735",
     "status": "completed"
    },
    "tags": []
   },
   "source": [
    "### Cleaned data"
   ]
  },
  {
   "cell_type": "code",
   "execution_count": 49,
   "id": "09a10be6",
   "metadata": {
    "execution": {
     "iopub.execute_input": "2025-06-11T09:20:37.785541Z",
     "iopub.status.busy": "2025-06-11T09:20:37.785223Z",
     "iopub.status.idle": "2025-06-11T09:20:37.796939Z",
     "shell.execute_reply": "2025-06-11T09:20:37.795761Z"
    },
    "papermill": {
     "duration": 0.032481,
     "end_time": "2025-06-11T09:20:37.798875",
     "exception": false,
     "start_time": "2025-06-11T09:20:37.766394",
     "status": "completed"
    },
    "tags": []
   },
   "outputs": [
    {
     "data": {
      "text/html": [
       "<div>\n",
       "<style scoped>\n",
       "    .dataframe tbody tr th:only-of-type {\n",
       "        vertical-align: middle;\n",
       "    }\n",
       "\n",
       "    .dataframe tbody tr th {\n",
       "        vertical-align: top;\n",
       "    }\n",
       "\n",
       "    .dataframe thead th {\n",
       "        text-align: right;\n",
       "    }\n",
       "</style>\n",
       "<table border=\"1\" class=\"dataframe\">\n",
       "  <thead>\n",
       "    <tr style=\"text-align: right;\">\n",
       "      <th></th>\n",
       "      <th>location</th>\n",
       "      <th>total_sqft</th>\n",
       "      <th>bath</th>\n",
       "      <th>price</th>\n",
       "      <th>bhk</th>\n",
       "    </tr>\n",
       "  </thead>\n",
       "  <tbody>\n",
       "    <tr>\n",
       "      <th>0</th>\n",
       "      <td>1st Block Jayanagar</td>\n",
       "      <td>2850.0</td>\n",
       "      <td>4.0</td>\n",
       "      <td>428.0</td>\n",
       "      <td>4</td>\n",
       "    </tr>\n",
       "    <tr>\n",
       "      <th>1</th>\n",
       "      <td>1st Block Jayanagar</td>\n",
       "      <td>1630.0</td>\n",
       "      <td>3.0</td>\n",
       "      <td>194.0</td>\n",
       "      <td>3</td>\n",
       "    </tr>\n",
       "    <tr>\n",
       "      <th>2</th>\n",
       "      <td>1st Block Jayanagar</td>\n",
       "      <td>1875.0</td>\n",
       "      <td>2.0</td>\n",
       "      <td>235.0</td>\n",
       "      <td>3</td>\n",
       "    </tr>\n",
       "    <tr>\n",
       "      <th>3</th>\n",
       "      <td>1st Block Jayanagar</td>\n",
       "      <td>1200.0</td>\n",
       "      <td>2.0</td>\n",
       "      <td>130.0</td>\n",
       "      <td>3</td>\n",
       "    </tr>\n",
       "    <tr>\n",
       "      <th>4</th>\n",
       "      <td>1st Block Jayanagar</td>\n",
       "      <td>1235.0</td>\n",
       "      <td>2.0</td>\n",
       "      <td>148.0</td>\n",
       "      <td>2</td>\n",
       "    </tr>\n",
       "  </tbody>\n",
       "</table>\n",
       "</div>"
      ],
      "text/plain": [
       "              location  total_sqft  bath  price  bhk\n",
       "0  1st Block Jayanagar      2850.0   4.0  428.0    4\n",
       "1  1st Block Jayanagar      1630.0   3.0  194.0    3\n",
       "2  1st Block Jayanagar      1875.0   2.0  235.0    3\n",
       "3  1st Block Jayanagar      1200.0   2.0  130.0    3\n",
       "4  1st Block Jayanagar      1235.0   2.0  148.0    2"
      ]
     },
     "execution_count": 49,
     "metadata": {},
     "output_type": "execute_result"
    }
   ],
   "source": [
    "data.head()"
   ]
  },
  {
   "cell_type": "code",
   "execution_count": 50,
   "id": "b053de5e",
   "metadata": {
    "execution": {
     "iopub.execute_input": "2025-06-11T09:20:37.838704Z",
     "iopub.status.busy": "2025-06-11T09:20:37.838363Z",
     "iopub.status.idle": "2025-06-11T09:20:37.874415Z",
     "shell.execute_reply": "2025-06-11T09:20:37.873387Z"
    },
    "papermill": {
     "duration": 0.057335,
     "end_time": "2025-06-11T09:20:37.876217",
     "exception": false,
     "start_time": "2025-06-11T09:20:37.818882",
     "status": "completed"
    },
    "tags": []
   },
   "outputs": [],
   "source": [
    "data.to_csv(\"Cleaned_data.csv\")"
   ]
  },
  {
   "cell_type": "code",
   "execution_count": 51,
   "id": "05bff8d8",
   "metadata": {
    "execution": {
     "iopub.execute_input": "2025-06-11T09:20:37.913143Z",
     "iopub.status.busy": "2025-06-11T09:20:37.912775Z",
     "iopub.status.idle": "2025-06-11T09:20:37.919413Z",
     "shell.execute_reply": "2025-06-11T09:20:37.918471Z"
    },
    "papermill": {
     "duration": 0.02686,
     "end_time": "2025-06-11T09:20:37.921015",
     "exception": false,
     "start_time": "2025-06-11T09:20:37.894155",
     "status": "completed"
    },
    "tags": []
   },
   "outputs": [],
   "source": [
    "X = data.drop(columns=['price'])\n",
    "y = data['price']"
   ]
  },
  {
   "cell_type": "markdown",
   "id": "60c19b12",
   "metadata": {
    "papermill": {
     "duration": 0.017343,
     "end_time": "2025-06-11T09:20:37.956429",
     "exception": false,
     "start_time": "2025-06-11T09:20:37.939086",
     "status": "completed"
    },
    "tags": []
   },
   "source": [
    "\n",
    "## Model Building \n",
    "\n",
    "The necessary libraries for model building and evaluation have been imported, including tools for data preprocessing, regression algorithms (Linear Regression, Lasso, Ridge), and performance metrics. This sets the stage for splitting the data, encoding categorical features, scaling, and training regression models.\n",
    "```"
   ]
  },
  {
   "cell_type": "code",
   "execution_count": 52,
   "id": "37fce4ca",
   "metadata": {
    "execution": {
     "iopub.execute_input": "2025-06-11T09:20:37.992829Z",
     "iopub.status.busy": "2025-06-11T09:20:37.992556Z",
     "iopub.status.idle": "2025-06-11T09:20:40.052776Z",
     "shell.execute_reply": "2025-06-11T09:20:40.051597Z"
    },
    "papermill": {
     "duration": 2.080882,
     "end_time": "2025-06-11T09:20:40.054827",
     "exception": false,
     "start_time": "2025-06-11T09:20:37.973945",
     "status": "completed"
    },
    "tags": []
   },
   "outputs": [],
   "source": [
    "from sklearn.model_selection import train_test_split\n",
    "from sklearn.linear_model import LinearRegression , Lasso,Ridge\n",
    "from sklearn.preprocessing import OneHotEncoder , StandardScaler\n",
    "from sklearn.compose import make_column_selector\n",
    "from sklearn.pipeline import make_pipeline\n",
    "from sklearn.metrics import r2_score"
   ]
  },
  {
   "cell_type": "markdown",
   "id": "84d7e3d5",
   "metadata": {
    "papermill": {
     "duration": 0.020178,
     "end_time": "2025-06-11T09:20:40.093655",
     "exception": false,
     "start_time": "2025-06-11T09:20:40.073477",
     "status": "completed"
    },
    "tags": []
   },
   "source": [
    "\n",
    "### Train-Test Split\n",
    "\n",
    "The dataset is split into training and testing sets using an 80-20 ratio. This ensures that model evaluation is performed on unseen data, providing a reliable measure of performance.\n"
   ]
  },
  {
   "cell_type": "code",
   "execution_count": 53,
   "id": "e08fd450",
   "metadata": {
    "execution": {
     "iopub.execute_input": "2025-06-11T09:20:40.132511Z",
     "iopub.status.busy": "2025-06-11T09:20:40.132061Z",
     "iopub.status.idle": "2025-06-11T09:20:40.141424Z",
     "shell.execute_reply": "2025-06-11T09:20:40.140136Z"
    },
    "papermill": {
     "duration": 0.030566,
     "end_time": "2025-06-11T09:20:40.143244",
     "exception": false,
     "start_time": "2025-06-11T09:20:40.112678",
     "status": "completed"
    },
    "tags": []
   },
   "outputs": [],
   "source": [
    "X_train,X_test,y_train, y_test = train_test_split(X,y,test_size = 0.2,random_state =0)"
   ]
  },
  {
   "cell_type": "code",
   "execution_count": 54,
   "id": "2b2bf61a",
   "metadata": {
    "execution": {
     "iopub.execute_input": "2025-06-11T09:20:40.183265Z",
     "iopub.status.busy": "2025-06-11T09:20:40.182890Z",
     "iopub.status.idle": "2025-06-11T09:20:40.188505Z",
     "shell.execute_reply": "2025-06-11T09:20:40.187461Z"
    },
    "papermill": {
     "duration": 0.027439,
     "end_time": "2025-06-11T09:20:40.189994",
     "exception": false,
     "start_time": "2025-06-11T09:20:40.162555",
     "status": "completed"
    },
    "tags": []
   },
   "outputs": [
    {
     "name": "stdout",
     "output_type": "stream",
     "text": [
      "(5888, 4)\n",
      "(1473, 4)\n"
     ]
    }
   ],
   "source": [
    "print(X_train.shape)\n",
    "print(X_test.shape)"
   ]
  },
  {
   "cell_type": "markdown",
   "id": "2074c2e0",
   "metadata": {
    "papermill": {
     "duration": 0.017734,
     "end_time": "2025-06-11T09:20:40.226715",
     "exception": false,
     "start_time": "2025-06-11T09:20:40.208981",
     "status": "completed"
    },
    "tags": []
   },
   "source": [
    "### Applying Linear Regression"
   ]
  },
  {
   "cell_type": "code",
   "execution_count": 55,
   "id": "f866708f",
   "metadata": {
    "execution": {
     "iopub.execute_input": "2025-06-11T09:20:40.268458Z",
     "iopub.status.busy": "2025-06-11T09:20:40.268134Z",
     "iopub.status.idle": "2025-06-11T09:20:40.274210Z",
     "shell.execute_reply": "2025-06-11T09:20:40.273164Z"
    },
    "papermill": {
     "duration": 0.028685,
     "end_time": "2025-06-11T09:20:40.276205",
     "exception": false,
     "start_time": "2025-06-11T09:20:40.247520",
     "status": "completed"
    },
    "tags": []
   },
   "outputs": [],
   "source": [
    "from sklearn.compose import make_column_transformer\n",
    "from sklearn.preprocessing import OneHotEncoder, StandardScaler\n",
    "from sklearn.linear_model import LinearRegression\n",
    "from sklearn.pipeline import make_pipeline\n",
    "from sklearn.metrics import r2_score\n",
    "\n",
    "# Create column transformer\n",
    "column_trans = make_column_transformer(\n",
    "    (OneHotEncoder(sparse_output=False), ['location']),\n",
    "    remainder='passthrough'\n",
    ")"
   ]
  },
  {
   "cell_type": "markdown",
   "id": "b42106d3",
   "metadata": {
    "papermill": {
     "duration": 0.018795,
     "end_time": "2025-06-11T09:20:40.314708",
     "exception": false,
     "start_time": "2025-06-11T09:20:40.295913",
     "status": "completed"
    },
    "tags": []
   },
   "source": [
    "\n",
    "The `column_trans` object is a column transformer that applies one-hot encoding to the `location` column, converting categorical location values into binary features. All other columns are left unchanged (`remainder='passthrough'`). This prepares the data for machine learning models that require numerical input.\n"
   ]
  },
  {
   "cell_type": "code",
   "execution_count": 56,
   "id": "e91fbfad",
   "metadata": {
    "execution": {
     "iopub.execute_input": "2025-06-11T09:20:40.353595Z",
     "iopub.status.busy": "2025-06-11T09:20:40.353242Z",
     "iopub.status.idle": "2025-06-11T09:20:40.358111Z",
     "shell.execute_reply": "2025-06-11T09:20:40.356997Z"
    },
    "papermill": {
     "duration": 0.026345,
     "end_time": "2025-06-11T09:20:40.359828",
     "exception": false,
     "start_time": "2025-06-11T09:20:40.333483",
     "status": "completed"
    },
    "tags": []
   },
   "outputs": [],
   "source": [
    "scaler = StandardScaler()\n",
    "lr = LinearRegression() "
   ]
  },
  {
   "cell_type": "code",
   "execution_count": 57,
   "id": "c9394bce",
   "metadata": {
    "execution": {
     "iopub.execute_input": "2025-06-11T09:20:40.402558Z",
     "iopub.status.busy": "2025-06-11T09:20:40.402005Z",
     "iopub.status.idle": "2025-06-11T09:20:40.408934Z",
     "shell.execute_reply": "2025-06-11T09:20:40.407253Z"
    },
    "papermill": {
     "duration": 0.031508,
     "end_time": "2025-06-11T09:20:40.411955",
     "exception": false,
     "start_time": "2025-06-11T09:20:40.380447",
     "status": "completed"
    },
    "tags": []
   },
   "outputs": [],
   "source": [
    "pipe = make_pipeline(column_trans, scaler, lr)"
   ]
  },
  {
   "cell_type": "markdown",
   "id": "9eac4be5",
   "metadata": {
    "papermill": {
     "duration": 0.024107,
     "end_time": "2025-06-11T09:20:40.459365",
     "exception": false,
     "start_time": "2025-06-11T09:20:40.435258",
     "status": "completed"
    },
    "tags": []
   },
   "source": [
    "The `pipe` object is a machine learning pipeline that sequentially applies the following steps:\n",
    "\n",
    "1. **`column_trans`**: Transforms the `location` column using one-hot encoding and passes through other features unchanged.\n",
    "2. **`scaler`**: Standardizes numerical features to have zero mean and unit variance.\n",
    "3. **`lr`**: Fits a Linear Regression model to the processed data.\n",
    "\n",
    "This pipeline streamlines preprocessing and model training into a single, reusable workflow."
   ]
  },
  {
   "cell_type": "code",
   "execution_count": 58,
   "id": "f2f83fce",
   "metadata": {
    "execution": {
     "iopub.execute_input": "2025-06-11T09:20:40.501914Z",
     "iopub.status.busy": "2025-06-11T09:20:40.501456Z",
     "iopub.status.idle": "2025-06-11T09:20:40.794639Z",
     "shell.execute_reply": "2025-06-11T09:20:40.793745Z"
    },
    "papermill": {
     "duration": 0.316523,
     "end_time": "2025-06-11T09:20:40.796601",
     "exception": false,
     "start_time": "2025-06-11T09:20:40.480078",
     "status": "completed"
    },
    "tags": []
   },
   "outputs": [
    {
     "name": "stderr",
     "output_type": "stream",
     "text": [
      "c:\\Users\\user\\AppData\\Local\\Programs\\Python\\Python313\\Lib\\site-packages\\sklearn\\compose\\_column_transformer.py:1667: FutureWarning: \n",
      "The format of the columns of the 'remainder' transformer in ColumnTransformer.transformers_ will change in version 1.7 to match the format of the other transformers.\n",
      "At the moment the remainder columns are stored as indices (of type int). With the same ColumnTransformer configuration, in the future they will be stored as column names (of type str).\n",
      "To use the new behavior now and suppress this warning, use ColumnTransformer(force_int_remainder_cols=False).\n",
      "\n",
      "  warnings.warn(\n"
     ]
    },
    {
     "data": {
      "text/html": [
       "<style>#sk-container-id-1 {\n",
       "  /* Definition of color scheme common for light and dark mode */\n",
       "  --sklearn-color-text: #000;\n",
       "  --sklearn-color-text-muted: #666;\n",
       "  --sklearn-color-line: gray;\n",
       "  /* Definition of color scheme for unfitted estimators */\n",
       "  --sklearn-color-unfitted-level-0: #fff5e6;\n",
       "  --sklearn-color-unfitted-level-1: #f6e4d2;\n",
       "  --sklearn-color-unfitted-level-2: #ffe0b3;\n",
       "  --sklearn-color-unfitted-level-3: chocolate;\n",
       "  /* Definition of color scheme for fitted estimators */\n",
       "  --sklearn-color-fitted-level-0: #f0f8ff;\n",
       "  --sklearn-color-fitted-level-1: #d4ebff;\n",
       "  --sklearn-color-fitted-level-2: #b3dbfd;\n",
       "  --sklearn-color-fitted-level-3: cornflowerblue;\n",
       "\n",
       "  /* Specific color for light theme */\n",
       "  --sklearn-color-text-on-default-background: var(--sg-text-color, var(--theme-code-foreground, var(--jp-content-font-color1, black)));\n",
       "  --sklearn-color-background: var(--sg-background-color, var(--theme-background, var(--jp-layout-color0, white)));\n",
       "  --sklearn-color-border-box: var(--sg-text-color, var(--theme-code-foreground, var(--jp-content-font-color1, black)));\n",
       "  --sklearn-color-icon: #696969;\n",
       "\n",
       "  @media (prefers-color-scheme: dark) {\n",
       "    /* Redefinition of color scheme for dark theme */\n",
       "    --sklearn-color-text-on-default-background: var(--sg-text-color, var(--theme-code-foreground, var(--jp-content-font-color1, white)));\n",
       "    --sklearn-color-background: var(--sg-background-color, var(--theme-background, var(--jp-layout-color0, #111)));\n",
       "    --sklearn-color-border-box: var(--sg-text-color, var(--theme-code-foreground, var(--jp-content-font-color1, white)));\n",
       "    --sklearn-color-icon: #878787;\n",
       "  }\n",
       "}\n",
       "\n",
       "#sk-container-id-1 {\n",
       "  color: var(--sklearn-color-text);\n",
       "}\n",
       "\n",
       "#sk-container-id-1 pre {\n",
       "  padding: 0;\n",
       "}\n",
       "\n",
       "#sk-container-id-1 input.sk-hidden--visually {\n",
       "  border: 0;\n",
       "  clip: rect(1px 1px 1px 1px);\n",
       "  clip: rect(1px, 1px, 1px, 1px);\n",
       "  height: 1px;\n",
       "  margin: -1px;\n",
       "  overflow: hidden;\n",
       "  padding: 0;\n",
       "  position: absolute;\n",
       "  width: 1px;\n",
       "}\n",
       "\n",
       "#sk-container-id-1 div.sk-dashed-wrapped {\n",
       "  border: 1px dashed var(--sklearn-color-line);\n",
       "  margin: 0 0.4em 0.5em 0.4em;\n",
       "  box-sizing: border-box;\n",
       "  padding-bottom: 0.4em;\n",
       "  background-color: var(--sklearn-color-background);\n",
       "}\n",
       "\n",
       "#sk-container-id-1 div.sk-container {\n",
       "  /* jupyter's `normalize.less` sets `[hidden] { display: none; }`\n",
       "     but bootstrap.min.css set `[hidden] { display: none !important; }`\n",
       "     so we also need the `!important` here to be able to override the\n",
       "     default hidden behavior on the sphinx rendered scikit-learn.org.\n",
       "     See: https://github.com/scikit-learn/scikit-learn/issues/21755 */\n",
       "  display: inline-block !important;\n",
       "  position: relative;\n",
       "}\n",
       "\n",
       "#sk-container-id-1 div.sk-text-repr-fallback {\n",
       "  display: none;\n",
       "}\n",
       "\n",
       "div.sk-parallel-item,\n",
       "div.sk-serial,\n",
       "div.sk-item {\n",
       "  /* draw centered vertical line to link estimators */\n",
       "  background-image: linear-gradient(var(--sklearn-color-text-on-default-background), var(--sklearn-color-text-on-default-background));\n",
       "  background-size: 2px 100%;\n",
       "  background-repeat: no-repeat;\n",
       "  background-position: center center;\n",
       "}\n",
       "\n",
       "/* Parallel-specific style estimator block */\n",
       "\n",
       "#sk-container-id-1 div.sk-parallel-item::after {\n",
       "  content: \"\";\n",
       "  width: 100%;\n",
       "  border-bottom: 2px solid var(--sklearn-color-text-on-default-background);\n",
       "  flex-grow: 1;\n",
       "}\n",
       "\n",
       "#sk-container-id-1 div.sk-parallel {\n",
       "  display: flex;\n",
       "  align-items: stretch;\n",
       "  justify-content: center;\n",
       "  background-color: var(--sklearn-color-background);\n",
       "  position: relative;\n",
       "}\n",
       "\n",
       "#sk-container-id-1 div.sk-parallel-item {\n",
       "  display: flex;\n",
       "  flex-direction: column;\n",
       "}\n",
       "\n",
       "#sk-container-id-1 div.sk-parallel-item:first-child::after {\n",
       "  align-self: flex-end;\n",
       "  width: 50%;\n",
       "}\n",
       "\n",
       "#sk-container-id-1 div.sk-parallel-item:last-child::after {\n",
       "  align-self: flex-start;\n",
       "  width: 50%;\n",
       "}\n",
       "\n",
       "#sk-container-id-1 div.sk-parallel-item:only-child::after {\n",
       "  width: 0;\n",
       "}\n",
       "\n",
       "/* Serial-specific style estimator block */\n",
       "\n",
       "#sk-container-id-1 div.sk-serial {\n",
       "  display: flex;\n",
       "  flex-direction: column;\n",
       "  align-items: center;\n",
       "  background-color: var(--sklearn-color-background);\n",
       "  padding-right: 1em;\n",
       "  padding-left: 1em;\n",
       "}\n",
       "\n",
       "\n",
       "/* Toggleable style: style used for estimator/Pipeline/ColumnTransformer box that is\n",
       "clickable and can be expanded/collapsed.\n",
       "- Pipeline and ColumnTransformer use this feature and define the default style\n",
       "- Estimators will overwrite some part of the style using the `sk-estimator` class\n",
       "*/\n",
       "\n",
       "/* Pipeline and ColumnTransformer style (default) */\n",
       "\n",
       "#sk-container-id-1 div.sk-toggleable {\n",
       "  /* Default theme specific background. It is overwritten whether we have a\n",
       "  specific estimator or a Pipeline/ColumnTransformer */\n",
       "  background-color: var(--sklearn-color-background);\n",
       "}\n",
       "\n",
       "/* Toggleable label */\n",
       "#sk-container-id-1 label.sk-toggleable__label {\n",
       "  cursor: pointer;\n",
       "  display: flex;\n",
       "  width: 100%;\n",
       "  margin-bottom: 0;\n",
       "  padding: 0.5em;\n",
       "  box-sizing: border-box;\n",
       "  text-align: center;\n",
       "  align-items: start;\n",
       "  justify-content: space-between;\n",
       "  gap: 0.5em;\n",
       "}\n",
       "\n",
       "#sk-container-id-1 label.sk-toggleable__label .caption {\n",
       "  font-size: 0.6rem;\n",
       "  font-weight: lighter;\n",
       "  color: var(--sklearn-color-text-muted);\n",
       "}\n",
       "\n",
       "#sk-container-id-1 label.sk-toggleable__label-arrow:before {\n",
       "  /* Arrow on the left of the label */\n",
       "  content: \"▸\";\n",
       "  float: left;\n",
       "  margin-right: 0.25em;\n",
       "  color: var(--sklearn-color-icon);\n",
       "}\n",
       "\n",
       "#sk-container-id-1 label.sk-toggleable__label-arrow:hover:before {\n",
       "  color: var(--sklearn-color-text);\n",
       "}\n",
       "\n",
       "/* Toggleable content - dropdown */\n",
       "\n",
       "#sk-container-id-1 div.sk-toggleable__content {\n",
       "  max-height: 0;\n",
       "  max-width: 0;\n",
       "  overflow: hidden;\n",
       "  text-align: left;\n",
       "  /* unfitted */\n",
       "  background-color: var(--sklearn-color-unfitted-level-0);\n",
       "}\n",
       "\n",
       "#sk-container-id-1 div.sk-toggleable__content.fitted {\n",
       "  /* fitted */\n",
       "  background-color: var(--sklearn-color-fitted-level-0);\n",
       "}\n",
       "\n",
       "#sk-container-id-1 div.sk-toggleable__content pre {\n",
       "  margin: 0.2em;\n",
       "  border-radius: 0.25em;\n",
       "  color: var(--sklearn-color-text);\n",
       "  /* unfitted */\n",
       "  background-color: var(--sklearn-color-unfitted-level-0);\n",
       "}\n",
       "\n",
       "#sk-container-id-1 div.sk-toggleable__content.fitted pre {\n",
       "  /* unfitted */\n",
       "  background-color: var(--sklearn-color-fitted-level-0);\n",
       "}\n",
       "\n",
       "#sk-container-id-1 input.sk-toggleable__control:checked~div.sk-toggleable__content {\n",
       "  /* Expand drop-down */\n",
       "  max-height: 200px;\n",
       "  max-width: 100%;\n",
       "  overflow: auto;\n",
       "}\n",
       "\n",
       "#sk-container-id-1 input.sk-toggleable__control:checked~label.sk-toggleable__label-arrow:before {\n",
       "  content: \"▾\";\n",
       "}\n",
       "\n",
       "/* Pipeline/ColumnTransformer-specific style */\n",
       "\n",
       "#sk-container-id-1 div.sk-label input.sk-toggleable__control:checked~label.sk-toggleable__label {\n",
       "  color: var(--sklearn-color-text);\n",
       "  background-color: var(--sklearn-color-unfitted-level-2);\n",
       "}\n",
       "\n",
       "#sk-container-id-1 div.sk-label.fitted input.sk-toggleable__control:checked~label.sk-toggleable__label {\n",
       "  background-color: var(--sklearn-color-fitted-level-2);\n",
       "}\n",
       "\n",
       "/* Estimator-specific style */\n",
       "\n",
       "/* Colorize estimator box */\n",
       "#sk-container-id-1 div.sk-estimator input.sk-toggleable__control:checked~label.sk-toggleable__label {\n",
       "  /* unfitted */\n",
       "  background-color: var(--sklearn-color-unfitted-level-2);\n",
       "}\n",
       "\n",
       "#sk-container-id-1 div.sk-estimator.fitted input.sk-toggleable__control:checked~label.sk-toggleable__label {\n",
       "  /* fitted */\n",
       "  background-color: var(--sklearn-color-fitted-level-2);\n",
       "}\n",
       "\n",
       "#sk-container-id-1 div.sk-label label.sk-toggleable__label,\n",
       "#sk-container-id-1 div.sk-label label {\n",
       "  /* The background is the default theme color */\n",
       "  color: var(--sklearn-color-text-on-default-background);\n",
       "}\n",
       "\n",
       "/* On hover, darken the color of the background */\n",
       "#sk-container-id-1 div.sk-label:hover label.sk-toggleable__label {\n",
       "  color: var(--sklearn-color-text);\n",
       "  background-color: var(--sklearn-color-unfitted-level-2);\n",
       "}\n",
       "\n",
       "/* Label box, darken color on hover, fitted */\n",
       "#sk-container-id-1 div.sk-label.fitted:hover label.sk-toggleable__label.fitted {\n",
       "  color: var(--sklearn-color-text);\n",
       "  background-color: var(--sklearn-color-fitted-level-2);\n",
       "}\n",
       "\n",
       "/* Estimator label */\n",
       "\n",
       "#sk-container-id-1 div.sk-label label {\n",
       "  font-family: monospace;\n",
       "  font-weight: bold;\n",
       "  display: inline-block;\n",
       "  line-height: 1.2em;\n",
       "}\n",
       "\n",
       "#sk-container-id-1 div.sk-label-container {\n",
       "  text-align: center;\n",
       "}\n",
       "\n",
       "/* Estimator-specific */\n",
       "#sk-container-id-1 div.sk-estimator {\n",
       "  font-family: monospace;\n",
       "  border: 1px dotted var(--sklearn-color-border-box);\n",
       "  border-radius: 0.25em;\n",
       "  box-sizing: border-box;\n",
       "  margin-bottom: 0.5em;\n",
       "  /* unfitted */\n",
       "  background-color: var(--sklearn-color-unfitted-level-0);\n",
       "}\n",
       "\n",
       "#sk-container-id-1 div.sk-estimator.fitted {\n",
       "  /* fitted */\n",
       "  background-color: var(--sklearn-color-fitted-level-0);\n",
       "}\n",
       "\n",
       "/* on hover */\n",
       "#sk-container-id-1 div.sk-estimator:hover {\n",
       "  /* unfitted */\n",
       "  background-color: var(--sklearn-color-unfitted-level-2);\n",
       "}\n",
       "\n",
       "#sk-container-id-1 div.sk-estimator.fitted:hover {\n",
       "  /* fitted */\n",
       "  background-color: var(--sklearn-color-fitted-level-2);\n",
       "}\n",
       "\n",
       "/* Specification for estimator info (e.g. \"i\" and \"?\") */\n",
       "\n",
       "/* Common style for \"i\" and \"?\" */\n",
       "\n",
       ".sk-estimator-doc-link,\n",
       "a:link.sk-estimator-doc-link,\n",
       "a:visited.sk-estimator-doc-link {\n",
       "  float: right;\n",
       "  font-size: smaller;\n",
       "  line-height: 1em;\n",
       "  font-family: monospace;\n",
       "  background-color: var(--sklearn-color-background);\n",
       "  border-radius: 1em;\n",
       "  height: 1em;\n",
       "  width: 1em;\n",
       "  text-decoration: none !important;\n",
       "  margin-left: 0.5em;\n",
       "  text-align: center;\n",
       "  /* unfitted */\n",
       "  border: var(--sklearn-color-unfitted-level-1) 1pt solid;\n",
       "  color: var(--sklearn-color-unfitted-level-1);\n",
       "}\n",
       "\n",
       ".sk-estimator-doc-link.fitted,\n",
       "a:link.sk-estimator-doc-link.fitted,\n",
       "a:visited.sk-estimator-doc-link.fitted {\n",
       "  /* fitted */\n",
       "  border: var(--sklearn-color-fitted-level-1) 1pt solid;\n",
       "  color: var(--sklearn-color-fitted-level-1);\n",
       "}\n",
       "\n",
       "/* On hover */\n",
       "div.sk-estimator:hover .sk-estimator-doc-link:hover,\n",
       ".sk-estimator-doc-link:hover,\n",
       "div.sk-label-container:hover .sk-estimator-doc-link:hover,\n",
       ".sk-estimator-doc-link:hover {\n",
       "  /* unfitted */\n",
       "  background-color: var(--sklearn-color-unfitted-level-3);\n",
       "  color: var(--sklearn-color-background);\n",
       "  text-decoration: none;\n",
       "}\n",
       "\n",
       "div.sk-estimator.fitted:hover .sk-estimator-doc-link.fitted:hover,\n",
       ".sk-estimator-doc-link.fitted:hover,\n",
       "div.sk-label-container:hover .sk-estimator-doc-link.fitted:hover,\n",
       ".sk-estimator-doc-link.fitted:hover {\n",
       "  /* fitted */\n",
       "  background-color: var(--sklearn-color-fitted-level-3);\n",
       "  color: var(--sklearn-color-background);\n",
       "  text-decoration: none;\n",
       "}\n",
       "\n",
       "/* Span, style for the box shown on hovering the info icon */\n",
       ".sk-estimator-doc-link span {\n",
       "  display: none;\n",
       "  z-index: 9999;\n",
       "  position: relative;\n",
       "  font-weight: normal;\n",
       "  right: .2ex;\n",
       "  padding: .5ex;\n",
       "  margin: .5ex;\n",
       "  width: min-content;\n",
       "  min-width: 20ex;\n",
       "  max-width: 50ex;\n",
       "  color: var(--sklearn-color-text);\n",
       "  box-shadow: 2pt 2pt 4pt #999;\n",
       "  /* unfitted */\n",
       "  background: var(--sklearn-color-unfitted-level-0);\n",
       "  border: .5pt solid var(--sklearn-color-unfitted-level-3);\n",
       "}\n",
       "\n",
       ".sk-estimator-doc-link.fitted span {\n",
       "  /* fitted */\n",
       "  background: var(--sklearn-color-fitted-level-0);\n",
       "  border: var(--sklearn-color-fitted-level-3);\n",
       "}\n",
       "\n",
       ".sk-estimator-doc-link:hover span {\n",
       "  display: block;\n",
       "}\n",
       "\n",
       "/* \"?\"-specific style due to the `<a>` HTML tag */\n",
       "\n",
       "#sk-container-id-1 a.estimator_doc_link {\n",
       "  float: right;\n",
       "  font-size: 1rem;\n",
       "  line-height: 1em;\n",
       "  font-family: monospace;\n",
       "  background-color: var(--sklearn-color-background);\n",
       "  border-radius: 1rem;\n",
       "  height: 1rem;\n",
       "  width: 1rem;\n",
       "  text-decoration: none;\n",
       "  /* unfitted */\n",
       "  color: var(--sklearn-color-unfitted-level-1);\n",
       "  border: var(--sklearn-color-unfitted-level-1) 1pt solid;\n",
       "}\n",
       "\n",
       "#sk-container-id-1 a.estimator_doc_link.fitted {\n",
       "  /* fitted */\n",
       "  border: var(--sklearn-color-fitted-level-1) 1pt solid;\n",
       "  color: var(--sklearn-color-fitted-level-1);\n",
       "}\n",
       "\n",
       "/* On hover */\n",
       "#sk-container-id-1 a.estimator_doc_link:hover {\n",
       "  /* unfitted */\n",
       "  background-color: var(--sklearn-color-unfitted-level-3);\n",
       "  color: var(--sklearn-color-background);\n",
       "  text-decoration: none;\n",
       "}\n",
       "\n",
       "#sk-container-id-1 a.estimator_doc_link.fitted:hover {\n",
       "  /* fitted */\n",
       "  background-color: var(--sklearn-color-fitted-level-3);\n",
       "}\n",
       "</style><div id=\"sk-container-id-1\" class=\"sk-top-container\"><div class=\"sk-text-repr-fallback\"><pre>Pipeline(steps=[(&#x27;columntransformer&#x27;,\n",
       "                 ColumnTransformer(remainder=&#x27;passthrough&#x27;,\n",
       "                                   transformers=[(&#x27;onehotencoder&#x27;,\n",
       "                                                  OneHotEncoder(sparse_output=False),\n",
       "                                                  [&#x27;location&#x27;])])),\n",
       "                (&#x27;standardscaler&#x27;, StandardScaler()),\n",
       "                (&#x27;linearregression&#x27;, LinearRegression())])</pre><b>In a Jupyter environment, please rerun this cell to show the HTML representation or trust the notebook. <br />On GitHub, the HTML representation is unable to render, please try loading this page with nbviewer.org.</b></div><div class=\"sk-container\" hidden><div class=\"sk-item sk-dashed-wrapped\"><div class=\"sk-label-container\"><div class=\"sk-label fitted sk-toggleable\"><input class=\"sk-toggleable__control sk-hidden--visually\" id=\"sk-estimator-id-1\" type=\"checkbox\" ><label for=\"sk-estimator-id-1\" class=\"sk-toggleable__label fitted sk-toggleable__label-arrow\"><div><div>Pipeline</div></div><div><a class=\"sk-estimator-doc-link fitted\" rel=\"noreferrer\" target=\"_blank\" href=\"https://scikit-learn.org/1.6/modules/generated/sklearn.pipeline.Pipeline.html\">?<span>Documentation for Pipeline</span></a><span class=\"sk-estimator-doc-link fitted\">i<span>Fitted</span></span></div></label><div class=\"sk-toggleable__content fitted\"><pre>Pipeline(steps=[(&#x27;columntransformer&#x27;,\n",
       "                 ColumnTransformer(remainder=&#x27;passthrough&#x27;,\n",
       "                                   transformers=[(&#x27;onehotencoder&#x27;,\n",
       "                                                  OneHotEncoder(sparse_output=False),\n",
       "                                                  [&#x27;location&#x27;])])),\n",
       "                (&#x27;standardscaler&#x27;, StandardScaler()),\n",
       "                (&#x27;linearregression&#x27;, LinearRegression())])</pre></div> </div></div><div class=\"sk-serial\"><div class=\"sk-item sk-dashed-wrapped\"><div class=\"sk-label-container\"><div class=\"sk-label fitted sk-toggleable\"><input class=\"sk-toggleable__control sk-hidden--visually\" id=\"sk-estimator-id-2\" type=\"checkbox\" ><label for=\"sk-estimator-id-2\" class=\"sk-toggleable__label fitted sk-toggleable__label-arrow\"><div><div>columntransformer: ColumnTransformer</div></div><div><a class=\"sk-estimator-doc-link fitted\" rel=\"noreferrer\" target=\"_blank\" href=\"https://scikit-learn.org/1.6/modules/generated/sklearn.compose.ColumnTransformer.html\">?<span>Documentation for columntransformer: ColumnTransformer</span></a></div></label><div class=\"sk-toggleable__content fitted\"><pre>ColumnTransformer(remainder=&#x27;passthrough&#x27;,\n",
       "                  transformers=[(&#x27;onehotencoder&#x27;,\n",
       "                                 OneHotEncoder(sparse_output=False),\n",
       "                                 [&#x27;location&#x27;])])</pre></div> </div></div><div class=\"sk-parallel\"><div class=\"sk-parallel-item\"><div class=\"sk-item\"><div class=\"sk-label-container\"><div class=\"sk-label fitted sk-toggleable\"><input class=\"sk-toggleable__control sk-hidden--visually\" id=\"sk-estimator-id-3\" type=\"checkbox\" ><label for=\"sk-estimator-id-3\" class=\"sk-toggleable__label fitted sk-toggleable__label-arrow\"><div><div>onehotencoder</div></div></label><div class=\"sk-toggleable__content fitted\"><pre>[&#x27;location&#x27;]</pre></div> </div></div><div class=\"sk-serial\"><div class=\"sk-item\"><div class=\"sk-estimator fitted sk-toggleable\"><input class=\"sk-toggleable__control sk-hidden--visually\" id=\"sk-estimator-id-4\" type=\"checkbox\" ><label for=\"sk-estimator-id-4\" class=\"sk-toggleable__label fitted sk-toggleable__label-arrow\"><div><div>OneHotEncoder</div></div><div><a class=\"sk-estimator-doc-link fitted\" rel=\"noreferrer\" target=\"_blank\" href=\"https://scikit-learn.org/1.6/modules/generated/sklearn.preprocessing.OneHotEncoder.html\">?<span>Documentation for OneHotEncoder</span></a></div></label><div class=\"sk-toggleable__content fitted\"><pre>OneHotEncoder(sparse_output=False)</pre></div> </div></div></div></div></div><div class=\"sk-parallel-item\"><div class=\"sk-item\"><div class=\"sk-label-container\"><div class=\"sk-label fitted sk-toggleable\"><input class=\"sk-toggleable__control sk-hidden--visually\" id=\"sk-estimator-id-5\" type=\"checkbox\" ><label for=\"sk-estimator-id-5\" class=\"sk-toggleable__label fitted sk-toggleable__label-arrow\"><div><div>remainder</div></div></label><div class=\"sk-toggleable__content fitted\"><pre>[&#x27;total_sqft&#x27;, &#x27;bath&#x27;, &#x27;bhk&#x27;]</pre></div> </div></div><div class=\"sk-serial\"><div class=\"sk-item\"><div class=\"sk-estimator fitted sk-toggleable\"><input class=\"sk-toggleable__control sk-hidden--visually\" id=\"sk-estimator-id-6\" type=\"checkbox\" ><label for=\"sk-estimator-id-6\" class=\"sk-toggleable__label fitted sk-toggleable__label-arrow\"><div><div>passthrough</div></div></label><div class=\"sk-toggleable__content fitted\"><pre>passthrough</pre></div> </div></div></div></div></div></div></div><div class=\"sk-item\"><div class=\"sk-estimator fitted sk-toggleable\"><input class=\"sk-toggleable__control sk-hidden--visually\" id=\"sk-estimator-id-7\" type=\"checkbox\" ><label for=\"sk-estimator-id-7\" class=\"sk-toggleable__label fitted sk-toggleable__label-arrow\"><div><div>StandardScaler</div></div><div><a class=\"sk-estimator-doc-link fitted\" rel=\"noreferrer\" target=\"_blank\" href=\"https://scikit-learn.org/1.6/modules/generated/sklearn.preprocessing.StandardScaler.html\">?<span>Documentation for StandardScaler</span></a></div></label><div class=\"sk-toggleable__content fitted\"><pre>StandardScaler()</pre></div> </div></div><div class=\"sk-item\"><div class=\"sk-estimator fitted sk-toggleable\"><input class=\"sk-toggleable__control sk-hidden--visually\" id=\"sk-estimator-id-8\" type=\"checkbox\" ><label for=\"sk-estimator-id-8\" class=\"sk-toggleable__label fitted sk-toggleable__label-arrow\"><div><div>LinearRegression</div></div><div><a class=\"sk-estimator-doc-link fitted\" rel=\"noreferrer\" target=\"_blank\" href=\"https://scikit-learn.org/1.6/modules/generated/sklearn.linear_model.LinearRegression.html\">?<span>Documentation for LinearRegression</span></a></div></label><div class=\"sk-toggleable__content fitted\"><pre>LinearRegression()</pre></div> </div></div></div></div></div></div>"
      ],
      "text/plain": [
       "Pipeline(steps=[('columntransformer',\n",
       "                 ColumnTransformer(remainder='passthrough',\n",
       "                                   transformers=[('onehotencoder',\n",
       "                                                  OneHotEncoder(sparse_output=False),\n",
       "                                                  ['location'])])),\n",
       "                ('standardscaler', StandardScaler()),\n",
       "                ('linearregression', LinearRegression())])"
      ]
     },
     "execution_count": 58,
     "metadata": {},
     "output_type": "execute_result"
    }
   ],
   "source": [
    "pipe.fit(X_train, y_train)"
   ]
  },
  {
   "cell_type": "markdown",
   "id": "32ef2f56",
   "metadata": {
    "papermill": {
     "duration": 0.036654,
     "end_time": "2025-06-11T09:20:40.872752",
     "exception": false,
     "start_time": "2025-06-11T09:20:40.836098",
     "status": "completed"
    },
    "tags": []
   },
   "source": [
    "Fits the pipeline to the training data, performing preprocessing and training the Linear Regression model."
   ]
  },
  {
   "cell_type": "code",
   "execution_count": 59,
   "id": "14af2ca3",
   "metadata": {
    "execution": {
     "iopub.execute_input": "2025-06-11T09:20:40.918064Z",
     "iopub.status.busy": "2025-06-11T09:20:40.917708Z",
     "iopub.status.idle": "2025-06-11T09:20:40.939242Z",
     "shell.execute_reply": "2025-06-11T09:20:40.938353Z"
    },
    "papermill": {
     "duration": 0.048029,
     "end_time": "2025-06-11T09:20:40.941628",
     "exception": false,
     "start_time": "2025-06-11T09:20:40.893599",
     "status": "completed"
    },
    "tags": []
   },
   "outputs": [],
   "source": [
    "y_pred_lr = pipe.predict(X_test)"
   ]
  },
  {
   "cell_type": "markdown",
   "id": "d37e2c26",
   "metadata": {
    "papermill": {
     "duration": 0.02134,
     "end_time": "2025-06-11T09:20:40.984461",
     "exception": false,
     "start_time": "2025-06-11T09:20:40.963121",
     "status": "completed"
    },
    "tags": []
   },
   "source": [
    "Performs predictions on the test set using the trained Linear Regression pipeline, generating estimated property prices for evaluation."
   ]
  },
  {
   "cell_type": "code",
   "execution_count": 60,
   "id": "de77db83",
   "metadata": {
    "execution": {
     "iopub.execute_input": "2025-06-11T09:20:41.026789Z",
     "iopub.status.busy": "2025-06-11T09:20:41.026452Z",
     "iopub.status.idle": "2025-06-11T09:20:41.034749Z",
     "shell.execute_reply": "2025-06-11T09:20:41.033155Z"
    },
    "papermill": {
     "duration": 0.031682,
     "end_time": "2025-06-11T09:20:41.036421",
     "exception": false,
     "start_time": "2025-06-11T09:20:41.004739",
     "status": "completed"
    },
    "tags": []
   },
   "outputs": [
    {
     "name": "stdout",
     "output_type": "stream",
     "text": [
      "R² Score: 0.825197701638146\n"
     ]
    }
   ],
   "source": [
    "r2 = r2_score(y_test, y_pred_lr)\n",
    "print(\"R² Score:\", r2)"
   ]
  },
  {
   "cell_type": "markdown",
   "id": "8dc655f3",
   "metadata": {
    "papermill": {
     "duration": 0.018519,
     "end_time": "2025-06-11T09:20:41.074444",
     "exception": false,
     "start_time": "2025-06-11T09:20:41.055925",
     "status": "completed"
    },
    "tags": []
   },
   "source": [
    "### Applying Lasso"
   ]
  },
  {
   "cell_type": "code",
   "execution_count": 61,
   "id": "77c819e3",
   "metadata": {
    "execution": {
     "iopub.execute_input": "2025-06-11T09:20:41.114221Z",
     "iopub.status.busy": "2025-06-11T09:20:41.113849Z",
     "iopub.status.idle": "2025-06-11T09:20:41.118306Z",
     "shell.execute_reply": "2025-06-11T09:20:41.117332Z"
    },
    "papermill": {
     "duration": 0.025301,
     "end_time": "2025-06-11T09:20:41.119738",
     "exception": false,
     "start_time": "2025-06-11T09:20:41.094437",
     "status": "completed"
    },
    "tags": []
   },
   "outputs": [],
   "source": [
    "lasso = Lasso()"
   ]
  },
  {
   "cell_type": "code",
   "execution_count": 62,
   "id": "3175d38c",
   "metadata": {
    "execution": {
     "iopub.execute_input": "2025-06-11T09:20:41.157680Z",
     "iopub.status.busy": "2025-06-11T09:20:41.157391Z",
     "iopub.status.idle": "2025-06-11T09:20:41.162105Z",
     "shell.execute_reply": "2025-06-11T09:20:41.160983Z"
    },
    "papermill": {
     "duration": 0.02565,
     "end_time": "2025-06-11T09:20:41.163972",
     "exception": false,
     "start_time": "2025-06-11T09:20:41.138322",
     "status": "completed"
    },
    "tags": []
   },
   "outputs": [],
   "source": [
    "\n",
    "pipe = make_pipeline(column_trans, scaler,lasso)"
   ]
  },
  {
   "cell_type": "markdown",
   "id": "d4a039ff",
   "metadata": {
    "papermill": {
     "duration": 0.021258,
     "end_time": "2025-06-11T09:20:41.203704",
     "exception": false,
     "start_time": "2025-06-11T09:20:41.182446",
     "status": "completed"
    },
    "tags": []
   },
   "source": [
    "Creates a pipeline with column transformer, scaler, and Lasso regression for modeling."
   ]
  },
  {
   "cell_type": "code",
   "execution_count": 63,
   "id": "01632cff",
   "metadata": {
    "execution": {
     "iopub.execute_input": "2025-06-11T09:20:41.249191Z",
     "iopub.status.busy": "2025-06-11T09:20:41.248809Z",
     "iopub.status.idle": "2025-06-11T09:20:41.377528Z",
     "shell.execute_reply": "2025-06-11T09:20:41.374104Z"
    },
    "papermill": {
     "duration": 0.154395,
     "end_time": "2025-06-11T09:20:41.380154",
     "exception": false,
     "start_time": "2025-06-11T09:20:41.225759",
     "status": "completed"
    },
    "tags": []
   },
   "outputs": [
    {
     "name": "stderr",
     "output_type": "stream",
     "text": [
      "c:\\Users\\user\\AppData\\Local\\Programs\\Python\\Python313\\Lib\\site-packages\\sklearn\\compose\\_column_transformer.py:1667: FutureWarning: \n",
      "The format of the columns of the 'remainder' transformer in ColumnTransformer.transformers_ will change in version 1.7 to match the format of the other transformers.\n",
      "At the moment the remainder columns are stored as indices (of type int). With the same ColumnTransformer configuration, in the future they will be stored as column names (of type str).\n",
      "To use the new behavior now and suppress this warning, use ColumnTransformer(force_int_remainder_cols=False).\n",
      "\n",
      "  warnings.warn(\n"
     ]
    },
    {
     "data": {
      "text/html": [
       "<style>#sk-container-id-2 {\n",
       "  /* Definition of color scheme common for light and dark mode */\n",
       "  --sklearn-color-text: #000;\n",
       "  --sklearn-color-text-muted: #666;\n",
       "  --sklearn-color-line: gray;\n",
       "  /* Definition of color scheme for unfitted estimators */\n",
       "  --sklearn-color-unfitted-level-0: #fff5e6;\n",
       "  --sklearn-color-unfitted-level-1: #f6e4d2;\n",
       "  --sklearn-color-unfitted-level-2: #ffe0b3;\n",
       "  --sklearn-color-unfitted-level-3: chocolate;\n",
       "  /* Definition of color scheme for fitted estimators */\n",
       "  --sklearn-color-fitted-level-0: #f0f8ff;\n",
       "  --sklearn-color-fitted-level-1: #d4ebff;\n",
       "  --sklearn-color-fitted-level-2: #b3dbfd;\n",
       "  --sklearn-color-fitted-level-3: cornflowerblue;\n",
       "\n",
       "  /* Specific color for light theme */\n",
       "  --sklearn-color-text-on-default-background: var(--sg-text-color, var(--theme-code-foreground, var(--jp-content-font-color1, black)));\n",
       "  --sklearn-color-background: var(--sg-background-color, var(--theme-background, var(--jp-layout-color0, white)));\n",
       "  --sklearn-color-border-box: var(--sg-text-color, var(--theme-code-foreground, var(--jp-content-font-color1, black)));\n",
       "  --sklearn-color-icon: #696969;\n",
       "\n",
       "  @media (prefers-color-scheme: dark) {\n",
       "    /* Redefinition of color scheme for dark theme */\n",
       "    --sklearn-color-text-on-default-background: var(--sg-text-color, var(--theme-code-foreground, var(--jp-content-font-color1, white)));\n",
       "    --sklearn-color-background: var(--sg-background-color, var(--theme-background, var(--jp-layout-color0, #111)));\n",
       "    --sklearn-color-border-box: var(--sg-text-color, var(--theme-code-foreground, var(--jp-content-font-color1, white)));\n",
       "    --sklearn-color-icon: #878787;\n",
       "  }\n",
       "}\n",
       "\n",
       "#sk-container-id-2 {\n",
       "  color: var(--sklearn-color-text);\n",
       "}\n",
       "\n",
       "#sk-container-id-2 pre {\n",
       "  padding: 0;\n",
       "}\n",
       "\n",
       "#sk-container-id-2 input.sk-hidden--visually {\n",
       "  border: 0;\n",
       "  clip: rect(1px 1px 1px 1px);\n",
       "  clip: rect(1px, 1px, 1px, 1px);\n",
       "  height: 1px;\n",
       "  margin: -1px;\n",
       "  overflow: hidden;\n",
       "  padding: 0;\n",
       "  position: absolute;\n",
       "  width: 1px;\n",
       "}\n",
       "\n",
       "#sk-container-id-2 div.sk-dashed-wrapped {\n",
       "  border: 1px dashed var(--sklearn-color-line);\n",
       "  margin: 0 0.4em 0.5em 0.4em;\n",
       "  box-sizing: border-box;\n",
       "  padding-bottom: 0.4em;\n",
       "  background-color: var(--sklearn-color-background);\n",
       "}\n",
       "\n",
       "#sk-container-id-2 div.sk-container {\n",
       "  /* jupyter's `normalize.less` sets `[hidden] { display: none; }`\n",
       "     but bootstrap.min.css set `[hidden] { display: none !important; }`\n",
       "     so we also need the `!important` here to be able to override the\n",
       "     default hidden behavior on the sphinx rendered scikit-learn.org.\n",
       "     See: https://github.com/scikit-learn/scikit-learn/issues/21755 */\n",
       "  display: inline-block !important;\n",
       "  position: relative;\n",
       "}\n",
       "\n",
       "#sk-container-id-2 div.sk-text-repr-fallback {\n",
       "  display: none;\n",
       "}\n",
       "\n",
       "div.sk-parallel-item,\n",
       "div.sk-serial,\n",
       "div.sk-item {\n",
       "  /* draw centered vertical line to link estimators */\n",
       "  background-image: linear-gradient(var(--sklearn-color-text-on-default-background), var(--sklearn-color-text-on-default-background));\n",
       "  background-size: 2px 100%;\n",
       "  background-repeat: no-repeat;\n",
       "  background-position: center center;\n",
       "}\n",
       "\n",
       "/* Parallel-specific style estimator block */\n",
       "\n",
       "#sk-container-id-2 div.sk-parallel-item::after {\n",
       "  content: \"\";\n",
       "  width: 100%;\n",
       "  border-bottom: 2px solid var(--sklearn-color-text-on-default-background);\n",
       "  flex-grow: 1;\n",
       "}\n",
       "\n",
       "#sk-container-id-2 div.sk-parallel {\n",
       "  display: flex;\n",
       "  align-items: stretch;\n",
       "  justify-content: center;\n",
       "  background-color: var(--sklearn-color-background);\n",
       "  position: relative;\n",
       "}\n",
       "\n",
       "#sk-container-id-2 div.sk-parallel-item {\n",
       "  display: flex;\n",
       "  flex-direction: column;\n",
       "}\n",
       "\n",
       "#sk-container-id-2 div.sk-parallel-item:first-child::after {\n",
       "  align-self: flex-end;\n",
       "  width: 50%;\n",
       "}\n",
       "\n",
       "#sk-container-id-2 div.sk-parallel-item:last-child::after {\n",
       "  align-self: flex-start;\n",
       "  width: 50%;\n",
       "}\n",
       "\n",
       "#sk-container-id-2 div.sk-parallel-item:only-child::after {\n",
       "  width: 0;\n",
       "}\n",
       "\n",
       "/* Serial-specific style estimator block */\n",
       "\n",
       "#sk-container-id-2 div.sk-serial {\n",
       "  display: flex;\n",
       "  flex-direction: column;\n",
       "  align-items: center;\n",
       "  background-color: var(--sklearn-color-background);\n",
       "  padding-right: 1em;\n",
       "  padding-left: 1em;\n",
       "}\n",
       "\n",
       "\n",
       "/* Toggleable style: style used for estimator/Pipeline/ColumnTransformer box that is\n",
       "clickable and can be expanded/collapsed.\n",
       "- Pipeline and ColumnTransformer use this feature and define the default style\n",
       "- Estimators will overwrite some part of the style using the `sk-estimator` class\n",
       "*/\n",
       "\n",
       "/* Pipeline and ColumnTransformer style (default) */\n",
       "\n",
       "#sk-container-id-2 div.sk-toggleable {\n",
       "  /* Default theme specific background. It is overwritten whether we have a\n",
       "  specific estimator or a Pipeline/ColumnTransformer */\n",
       "  background-color: var(--sklearn-color-background);\n",
       "}\n",
       "\n",
       "/* Toggleable label */\n",
       "#sk-container-id-2 label.sk-toggleable__label {\n",
       "  cursor: pointer;\n",
       "  display: flex;\n",
       "  width: 100%;\n",
       "  margin-bottom: 0;\n",
       "  padding: 0.5em;\n",
       "  box-sizing: border-box;\n",
       "  text-align: center;\n",
       "  align-items: start;\n",
       "  justify-content: space-between;\n",
       "  gap: 0.5em;\n",
       "}\n",
       "\n",
       "#sk-container-id-2 label.sk-toggleable__label .caption {\n",
       "  font-size: 0.6rem;\n",
       "  font-weight: lighter;\n",
       "  color: var(--sklearn-color-text-muted);\n",
       "}\n",
       "\n",
       "#sk-container-id-2 label.sk-toggleable__label-arrow:before {\n",
       "  /* Arrow on the left of the label */\n",
       "  content: \"▸\";\n",
       "  float: left;\n",
       "  margin-right: 0.25em;\n",
       "  color: var(--sklearn-color-icon);\n",
       "}\n",
       "\n",
       "#sk-container-id-2 label.sk-toggleable__label-arrow:hover:before {\n",
       "  color: var(--sklearn-color-text);\n",
       "}\n",
       "\n",
       "/* Toggleable content - dropdown */\n",
       "\n",
       "#sk-container-id-2 div.sk-toggleable__content {\n",
       "  max-height: 0;\n",
       "  max-width: 0;\n",
       "  overflow: hidden;\n",
       "  text-align: left;\n",
       "  /* unfitted */\n",
       "  background-color: var(--sklearn-color-unfitted-level-0);\n",
       "}\n",
       "\n",
       "#sk-container-id-2 div.sk-toggleable__content.fitted {\n",
       "  /* fitted */\n",
       "  background-color: var(--sklearn-color-fitted-level-0);\n",
       "}\n",
       "\n",
       "#sk-container-id-2 div.sk-toggleable__content pre {\n",
       "  margin: 0.2em;\n",
       "  border-radius: 0.25em;\n",
       "  color: var(--sklearn-color-text);\n",
       "  /* unfitted */\n",
       "  background-color: var(--sklearn-color-unfitted-level-0);\n",
       "}\n",
       "\n",
       "#sk-container-id-2 div.sk-toggleable__content.fitted pre {\n",
       "  /* unfitted */\n",
       "  background-color: var(--sklearn-color-fitted-level-0);\n",
       "}\n",
       "\n",
       "#sk-container-id-2 input.sk-toggleable__control:checked~div.sk-toggleable__content {\n",
       "  /* Expand drop-down */\n",
       "  max-height: 200px;\n",
       "  max-width: 100%;\n",
       "  overflow: auto;\n",
       "}\n",
       "\n",
       "#sk-container-id-2 input.sk-toggleable__control:checked~label.sk-toggleable__label-arrow:before {\n",
       "  content: \"▾\";\n",
       "}\n",
       "\n",
       "/* Pipeline/ColumnTransformer-specific style */\n",
       "\n",
       "#sk-container-id-2 div.sk-label input.sk-toggleable__control:checked~label.sk-toggleable__label {\n",
       "  color: var(--sklearn-color-text);\n",
       "  background-color: var(--sklearn-color-unfitted-level-2);\n",
       "}\n",
       "\n",
       "#sk-container-id-2 div.sk-label.fitted input.sk-toggleable__control:checked~label.sk-toggleable__label {\n",
       "  background-color: var(--sklearn-color-fitted-level-2);\n",
       "}\n",
       "\n",
       "/* Estimator-specific style */\n",
       "\n",
       "/* Colorize estimator box */\n",
       "#sk-container-id-2 div.sk-estimator input.sk-toggleable__control:checked~label.sk-toggleable__label {\n",
       "  /* unfitted */\n",
       "  background-color: var(--sklearn-color-unfitted-level-2);\n",
       "}\n",
       "\n",
       "#sk-container-id-2 div.sk-estimator.fitted input.sk-toggleable__control:checked~label.sk-toggleable__label {\n",
       "  /* fitted */\n",
       "  background-color: var(--sklearn-color-fitted-level-2);\n",
       "}\n",
       "\n",
       "#sk-container-id-2 div.sk-label label.sk-toggleable__label,\n",
       "#sk-container-id-2 div.sk-label label {\n",
       "  /* The background is the default theme color */\n",
       "  color: var(--sklearn-color-text-on-default-background);\n",
       "}\n",
       "\n",
       "/* On hover, darken the color of the background */\n",
       "#sk-container-id-2 div.sk-label:hover label.sk-toggleable__label {\n",
       "  color: var(--sklearn-color-text);\n",
       "  background-color: var(--sklearn-color-unfitted-level-2);\n",
       "}\n",
       "\n",
       "/* Label box, darken color on hover, fitted */\n",
       "#sk-container-id-2 div.sk-label.fitted:hover label.sk-toggleable__label.fitted {\n",
       "  color: var(--sklearn-color-text);\n",
       "  background-color: var(--sklearn-color-fitted-level-2);\n",
       "}\n",
       "\n",
       "/* Estimator label */\n",
       "\n",
       "#sk-container-id-2 div.sk-label label {\n",
       "  font-family: monospace;\n",
       "  font-weight: bold;\n",
       "  display: inline-block;\n",
       "  line-height: 1.2em;\n",
       "}\n",
       "\n",
       "#sk-container-id-2 div.sk-label-container {\n",
       "  text-align: center;\n",
       "}\n",
       "\n",
       "/* Estimator-specific */\n",
       "#sk-container-id-2 div.sk-estimator {\n",
       "  font-family: monospace;\n",
       "  border: 1px dotted var(--sklearn-color-border-box);\n",
       "  border-radius: 0.25em;\n",
       "  box-sizing: border-box;\n",
       "  margin-bottom: 0.5em;\n",
       "  /* unfitted */\n",
       "  background-color: var(--sklearn-color-unfitted-level-0);\n",
       "}\n",
       "\n",
       "#sk-container-id-2 div.sk-estimator.fitted {\n",
       "  /* fitted */\n",
       "  background-color: var(--sklearn-color-fitted-level-0);\n",
       "}\n",
       "\n",
       "/* on hover */\n",
       "#sk-container-id-2 div.sk-estimator:hover {\n",
       "  /* unfitted */\n",
       "  background-color: var(--sklearn-color-unfitted-level-2);\n",
       "}\n",
       "\n",
       "#sk-container-id-2 div.sk-estimator.fitted:hover {\n",
       "  /* fitted */\n",
       "  background-color: var(--sklearn-color-fitted-level-2);\n",
       "}\n",
       "\n",
       "/* Specification for estimator info (e.g. \"i\" and \"?\") */\n",
       "\n",
       "/* Common style for \"i\" and \"?\" */\n",
       "\n",
       ".sk-estimator-doc-link,\n",
       "a:link.sk-estimator-doc-link,\n",
       "a:visited.sk-estimator-doc-link {\n",
       "  float: right;\n",
       "  font-size: smaller;\n",
       "  line-height: 1em;\n",
       "  font-family: monospace;\n",
       "  background-color: var(--sklearn-color-background);\n",
       "  border-radius: 1em;\n",
       "  height: 1em;\n",
       "  width: 1em;\n",
       "  text-decoration: none !important;\n",
       "  margin-left: 0.5em;\n",
       "  text-align: center;\n",
       "  /* unfitted */\n",
       "  border: var(--sklearn-color-unfitted-level-1) 1pt solid;\n",
       "  color: var(--sklearn-color-unfitted-level-1);\n",
       "}\n",
       "\n",
       ".sk-estimator-doc-link.fitted,\n",
       "a:link.sk-estimator-doc-link.fitted,\n",
       "a:visited.sk-estimator-doc-link.fitted {\n",
       "  /* fitted */\n",
       "  border: var(--sklearn-color-fitted-level-1) 1pt solid;\n",
       "  color: var(--sklearn-color-fitted-level-1);\n",
       "}\n",
       "\n",
       "/* On hover */\n",
       "div.sk-estimator:hover .sk-estimator-doc-link:hover,\n",
       ".sk-estimator-doc-link:hover,\n",
       "div.sk-label-container:hover .sk-estimator-doc-link:hover,\n",
       ".sk-estimator-doc-link:hover {\n",
       "  /* unfitted */\n",
       "  background-color: var(--sklearn-color-unfitted-level-3);\n",
       "  color: var(--sklearn-color-background);\n",
       "  text-decoration: none;\n",
       "}\n",
       "\n",
       "div.sk-estimator.fitted:hover .sk-estimator-doc-link.fitted:hover,\n",
       ".sk-estimator-doc-link.fitted:hover,\n",
       "div.sk-label-container:hover .sk-estimator-doc-link.fitted:hover,\n",
       ".sk-estimator-doc-link.fitted:hover {\n",
       "  /* fitted */\n",
       "  background-color: var(--sklearn-color-fitted-level-3);\n",
       "  color: var(--sklearn-color-background);\n",
       "  text-decoration: none;\n",
       "}\n",
       "\n",
       "/* Span, style for the box shown on hovering the info icon */\n",
       ".sk-estimator-doc-link span {\n",
       "  display: none;\n",
       "  z-index: 9999;\n",
       "  position: relative;\n",
       "  font-weight: normal;\n",
       "  right: .2ex;\n",
       "  padding: .5ex;\n",
       "  margin: .5ex;\n",
       "  width: min-content;\n",
       "  min-width: 20ex;\n",
       "  max-width: 50ex;\n",
       "  color: var(--sklearn-color-text);\n",
       "  box-shadow: 2pt 2pt 4pt #999;\n",
       "  /* unfitted */\n",
       "  background: var(--sklearn-color-unfitted-level-0);\n",
       "  border: .5pt solid var(--sklearn-color-unfitted-level-3);\n",
       "}\n",
       "\n",
       ".sk-estimator-doc-link.fitted span {\n",
       "  /* fitted */\n",
       "  background: var(--sklearn-color-fitted-level-0);\n",
       "  border: var(--sklearn-color-fitted-level-3);\n",
       "}\n",
       "\n",
       ".sk-estimator-doc-link:hover span {\n",
       "  display: block;\n",
       "}\n",
       "\n",
       "/* \"?\"-specific style due to the `<a>` HTML tag */\n",
       "\n",
       "#sk-container-id-2 a.estimator_doc_link {\n",
       "  float: right;\n",
       "  font-size: 1rem;\n",
       "  line-height: 1em;\n",
       "  font-family: monospace;\n",
       "  background-color: var(--sklearn-color-background);\n",
       "  border-radius: 1rem;\n",
       "  height: 1rem;\n",
       "  width: 1rem;\n",
       "  text-decoration: none;\n",
       "  /* unfitted */\n",
       "  color: var(--sklearn-color-unfitted-level-1);\n",
       "  border: var(--sklearn-color-unfitted-level-1) 1pt solid;\n",
       "}\n",
       "\n",
       "#sk-container-id-2 a.estimator_doc_link.fitted {\n",
       "  /* fitted */\n",
       "  border: var(--sklearn-color-fitted-level-1) 1pt solid;\n",
       "  color: var(--sklearn-color-fitted-level-1);\n",
       "}\n",
       "\n",
       "/* On hover */\n",
       "#sk-container-id-2 a.estimator_doc_link:hover {\n",
       "  /* unfitted */\n",
       "  background-color: var(--sklearn-color-unfitted-level-3);\n",
       "  color: var(--sklearn-color-background);\n",
       "  text-decoration: none;\n",
       "}\n",
       "\n",
       "#sk-container-id-2 a.estimator_doc_link.fitted:hover {\n",
       "  /* fitted */\n",
       "  background-color: var(--sklearn-color-fitted-level-3);\n",
       "}\n",
       "</style><div id=\"sk-container-id-2\" class=\"sk-top-container\"><div class=\"sk-text-repr-fallback\"><pre>Pipeline(steps=[(&#x27;columntransformer&#x27;,\n",
       "                 ColumnTransformer(remainder=&#x27;passthrough&#x27;,\n",
       "                                   transformers=[(&#x27;onehotencoder&#x27;,\n",
       "                                                  OneHotEncoder(sparse_output=False),\n",
       "                                                  [&#x27;location&#x27;])])),\n",
       "                (&#x27;standardscaler&#x27;, StandardScaler()), (&#x27;lasso&#x27;, Lasso())])</pre><b>In a Jupyter environment, please rerun this cell to show the HTML representation or trust the notebook. <br />On GitHub, the HTML representation is unable to render, please try loading this page with nbviewer.org.</b></div><div class=\"sk-container\" hidden><div class=\"sk-item sk-dashed-wrapped\"><div class=\"sk-label-container\"><div class=\"sk-label fitted sk-toggleable\"><input class=\"sk-toggleable__control sk-hidden--visually\" id=\"sk-estimator-id-9\" type=\"checkbox\" ><label for=\"sk-estimator-id-9\" class=\"sk-toggleable__label fitted sk-toggleable__label-arrow\"><div><div>Pipeline</div></div><div><a class=\"sk-estimator-doc-link fitted\" rel=\"noreferrer\" target=\"_blank\" href=\"https://scikit-learn.org/1.6/modules/generated/sklearn.pipeline.Pipeline.html\">?<span>Documentation for Pipeline</span></a><span class=\"sk-estimator-doc-link fitted\">i<span>Fitted</span></span></div></label><div class=\"sk-toggleable__content fitted\"><pre>Pipeline(steps=[(&#x27;columntransformer&#x27;,\n",
       "                 ColumnTransformer(remainder=&#x27;passthrough&#x27;,\n",
       "                                   transformers=[(&#x27;onehotencoder&#x27;,\n",
       "                                                  OneHotEncoder(sparse_output=False),\n",
       "                                                  [&#x27;location&#x27;])])),\n",
       "                (&#x27;standardscaler&#x27;, StandardScaler()), (&#x27;lasso&#x27;, Lasso())])</pre></div> </div></div><div class=\"sk-serial\"><div class=\"sk-item sk-dashed-wrapped\"><div class=\"sk-label-container\"><div class=\"sk-label fitted sk-toggleable\"><input class=\"sk-toggleable__control sk-hidden--visually\" id=\"sk-estimator-id-10\" type=\"checkbox\" ><label for=\"sk-estimator-id-10\" class=\"sk-toggleable__label fitted sk-toggleable__label-arrow\"><div><div>columntransformer: ColumnTransformer</div></div><div><a class=\"sk-estimator-doc-link fitted\" rel=\"noreferrer\" target=\"_blank\" href=\"https://scikit-learn.org/1.6/modules/generated/sklearn.compose.ColumnTransformer.html\">?<span>Documentation for columntransformer: ColumnTransformer</span></a></div></label><div class=\"sk-toggleable__content fitted\"><pre>ColumnTransformer(remainder=&#x27;passthrough&#x27;,\n",
       "                  transformers=[(&#x27;onehotencoder&#x27;,\n",
       "                                 OneHotEncoder(sparse_output=False),\n",
       "                                 [&#x27;location&#x27;])])</pre></div> </div></div><div class=\"sk-parallel\"><div class=\"sk-parallel-item\"><div class=\"sk-item\"><div class=\"sk-label-container\"><div class=\"sk-label fitted sk-toggleable\"><input class=\"sk-toggleable__control sk-hidden--visually\" id=\"sk-estimator-id-11\" type=\"checkbox\" ><label for=\"sk-estimator-id-11\" class=\"sk-toggleable__label fitted sk-toggleable__label-arrow\"><div><div>onehotencoder</div></div></label><div class=\"sk-toggleable__content fitted\"><pre>[&#x27;location&#x27;]</pre></div> </div></div><div class=\"sk-serial\"><div class=\"sk-item\"><div class=\"sk-estimator fitted sk-toggleable\"><input class=\"sk-toggleable__control sk-hidden--visually\" id=\"sk-estimator-id-12\" type=\"checkbox\" ><label for=\"sk-estimator-id-12\" class=\"sk-toggleable__label fitted sk-toggleable__label-arrow\"><div><div>OneHotEncoder</div></div><div><a class=\"sk-estimator-doc-link fitted\" rel=\"noreferrer\" target=\"_blank\" href=\"https://scikit-learn.org/1.6/modules/generated/sklearn.preprocessing.OneHotEncoder.html\">?<span>Documentation for OneHotEncoder</span></a></div></label><div class=\"sk-toggleable__content fitted\"><pre>OneHotEncoder(sparse_output=False)</pre></div> </div></div></div></div></div><div class=\"sk-parallel-item\"><div class=\"sk-item\"><div class=\"sk-label-container\"><div class=\"sk-label fitted sk-toggleable\"><input class=\"sk-toggleable__control sk-hidden--visually\" id=\"sk-estimator-id-13\" type=\"checkbox\" ><label for=\"sk-estimator-id-13\" class=\"sk-toggleable__label fitted sk-toggleable__label-arrow\"><div><div>remainder</div></div></label><div class=\"sk-toggleable__content fitted\"><pre>[&#x27;total_sqft&#x27;, &#x27;bath&#x27;, &#x27;bhk&#x27;]</pre></div> </div></div><div class=\"sk-serial\"><div class=\"sk-item\"><div class=\"sk-estimator fitted sk-toggleable\"><input class=\"sk-toggleable__control sk-hidden--visually\" id=\"sk-estimator-id-14\" type=\"checkbox\" ><label for=\"sk-estimator-id-14\" class=\"sk-toggleable__label fitted sk-toggleable__label-arrow\"><div><div>passthrough</div></div></label><div class=\"sk-toggleable__content fitted\"><pre>passthrough</pre></div> </div></div></div></div></div></div></div><div class=\"sk-item\"><div class=\"sk-estimator fitted sk-toggleable\"><input class=\"sk-toggleable__control sk-hidden--visually\" id=\"sk-estimator-id-15\" type=\"checkbox\" ><label for=\"sk-estimator-id-15\" class=\"sk-toggleable__label fitted sk-toggleable__label-arrow\"><div><div>StandardScaler</div></div><div><a class=\"sk-estimator-doc-link fitted\" rel=\"noreferrer\" target=\"_blank\" href=\"https://scikit-learn.org/1.6/modules/generated/sklearn.preprocessing.StandardScaler.html\">?<span>Documentation for StandardScaler</span></a></div></label><div class=\"sk-toggleable__content fitted\"><pre>StandardScaler()</pre></div> </div></div><div class=\"sk-item\"><div class=\"sk-estimator fitted sk-toggleable\"><input class=\"sk-toggleable__control sk-hidden--visually\" id=\"sk-estimator-id-16\" type=\"checkbox\" ><label for=\"sk-estimator-id-16\" class=\"sk-toggleable__label fitted sk-toggleable__label-arrow\"><div><div>Lasso</div></div><div><a class=\"sk-estimator-doc-link fitted\" rel=\"noreferrer\" target=\"_blank\" href=\"https://scikit-learn.org/1.6/modules/generated/sklearn.linear_model.Lasso.html\">?<span>Documentation for Lasso</span></a></div></label><div class=\"sk-toggleable__content fitted\"><pre>Lasso()</pre></div> </div></div></div></div></div></div>"
      ],
      "text/plain": [
       "Pipeline(steps=[('columntransformer',\n",
       "                 ColumnTransformer(remainder='passthrough',\n",
       "                                   transformers=[('onehotencoder',\n",
       "                                                  OneHotEncoder(sparse_output=False),\n",
       "                                                  ['location'])])),\n",
       "                ('standardscaler', StandardScaler()), ('lasso', Lasso())])"
      ]
     },
     "execution_count": 63,
     "metadata": {},
     "output_type": "execute_result"
    }
   ],
   "source": [
    "pipe.fit(X_train,y_train)"
   ]
  },
  {
   "cell_type": "markdown",
   "id": "9e7c0595",
   "metadata": {
    "papermill": {
     "duration": 0.032735,
     "end_time": "2025-06-11T09:20:41.446348",
     "exception": false,
     "start_time": "2025-06-11T09:20:41.413613",
     "status": "completed"
    },
    "tags": []
   },
   "source": [
    "Fits the pipeline to the training data, performing preprocessing and training the Linear Regression model."
   ]
  },
  {
   "cell_type": "markdown",
   "id": "e30dac5d",
   "metadata": {
    "papermill": {
     "duration": 0.018986,
     "end_time": "2025-06-11T09:20:41.498361",
     "exception": false,
     "start_time": "2025-06-11T09:20:41.479375",
     "status": "completed"
    },
    "tags": []
   },
   "source": [
    "\n",
    "Predicts property prices using the Lasso regression pipeline and evaluates model performance with the R² score.\n"
   ]
  },
  {
   "cell_type": "code",
   "execution_count": 64,
   "id": "954aa451",
   "metadata": {
    "execution": {
     "iopub.execute_input": "2025-06-11T09:20:41.537720Z",
     "iopub.status.busy": "2025-06-11T09:20:41.537435Z",
     "iopub.status.idle": "2025-06-11T09:20:41.553216Z",
     "shell.execute_reply": "2025-06-11T09:20:41.552256Z"
    },
    "papermill": {
     "duration": 0.037362,
     "end_time": "2025-06-11T09:20:41.554800",
     "exception": false,
     "start_time": "2025-06-11T09:20:41.517438",
     "status": "completed"
    },
    "tags": []
   },
   "outputs": [
    {
     "data": {
      "text/plain": [
       "0.814689475169039"
      ]
     },
     "execution_count": 64,
     "metadata": {},
     "output_type": "execute_result"
    }
   ],
   "source": [
    "y_pred_lasso = pipe.predict(X_test)\n",
    "r2_score(y_test,y_pred_lasso)"
   ]
  },
  {
   "cell_type": "markdown",
   "id": "891d4090",
   "metadata": {
    "papermill": {
     "duration": 0.017876,
     "end_time": "2025-06-11T09:20:41.591515",
     "exception": false,
     "start_time": "2025-06-11T09:20:41.573639",
     "status": "completed"
    },
    "tags": []
   },
   "source": [
    "### Applying Ridge"
   ]
  },
  {
   "cell_type": "code",
   "execution_count": 65,
   "id": "0d9b98de",
   "metadata": {
    "execution": {
     "iopub.execute_input": "2025-06-11T09:20:41.630487Z",
     "iopub.status.busy": "2025-06-11T09:20:41.630200Z",
     "iopub.status.idle": "2025-06-11T09:20:41.635482Z",
     "shell.execute_reply": "2025-06-11T09:20:41.634445Z"
    },
    "papermill": {
     "duration": 0.026531,
     "end_time": "2025-06-11T09:20:41.637181",
     "exception": false,
     "start_time": "2025-06-11T09:20:41.610650",
     "status": "completed"
    },
    "tags": []
   },
   "outputs": [],
   "source": [
    "ridge = Ridge()"
   ]
  },
  {
   "cell_type": "code",
   "execution_count": 66,
   "id": "f90136a9",
   "metadata": {
    "execution": {
     "iopub.execute_input": "2025-06-11T09:20:41.680010Z",
     "iopub.status.busy": "2025-06-11T09:20:41.679536Z",
     "iopub.status.idle": "2025-06-11T09:20:41.685165Z",
     "shell.execute_reply": "2025-06-11T09:20:41.683632Z"
    },
    "papermill": {
     "duration": 0.030627,
     "end_time": "2025-06-11T09:20:41.687283",
     "exception": false,
     "start_time": "2025-06-11T09:20:41.656656",
     "status": "completed"
    },
    "tags": []
   },
   "outputs": [],
   "source": [
    "pipe = make_pipeline(column_trans,scaler,ridge)"
   ]
  },
  {
   "cell_type": "markdown",
   "id": "91c0dcaa",
   "metadata": {
    "papermill": {
     "duration": 0.019148,
     "end_time": "2025-06-11T09:20:41.726959",
     "exception": false,
     "start_time": "2025-06-11T09:20:41.707811",
     "status": "completed"
    },
    "tags": []
   },
   "source": [
    "Creates a pipeline with column transformer, scaler, and Ridge regression for modeling."
   ]
  },
  {
   "cell_type": "code",
   "execution_count": 67,
   "id": "0ffb34c7",
   "metadata": {
    "execution": {
     "iopub.execute_input": "2025-06-11T09:20:41.767551Z",
     "iopub.status.busy": "2025-06-11T09:20:41.767239Z",
     "iopub.status.idle": "2025-06-11T09:20:41.882520Z",
     "shell.execute_reply": "2025-06-11T09:20:41.881712Z"
    },
    "papermill": {
     "duration": 0.137841,
     "end_time": "2025-06-11T09:20:41.884274",
     "exception": false,
     "start_time": "2025-06-11T09:20:41.746433",
     "status": "completed"
    },
    "tags": []
   },
   "outputs": [
    {
     "name": "stderr",
     "output_type": "stream",
     "text": [
      "c:\\Users\\user\\AppData\\Local\\Programs\\Python\\Python313\\Lib\\site-packages\\sklearn\\compose\\_column_transformer.py:1667: FutureWarning: \n",
      "The format of the columns of the 'remainder' transformer in ColumnTransformer.transformers_ will change in version 1.7 to match the format of the other transformers.\n",
      "At the moment the remainder columns are stored as indices (of type int). With the same ColumnTransformer configuration, in the future they will be stored as column names (of type str).\n",
      "To use the new behavior now and suppress this warning, use ColumnTransformer(force_int_remainder_cols=False).\n",
      "\n",
      "  warnings.warn(\n"
     ]
    },
    {
     "data": {
      "text/html": [
       "<style>#sk-container-id-3 {\n",
       "  /* Definition of color scheme common for light and dark mode */\n",
       "  --sklearn-color-text: #000;\n",
       "  --sklearn-color-text-muted: #666;\n",
       "  --sklearn-color-line: gray;\n",
       "  /* Definition of color scheme for unfitted estimators */\n",
       "  --sklearn-color-unfitted-level-0: #fff5e6;\n",
       "  --sklearn-color-unfitted-level-1: #f6e4d2;\n",
       "  --sklearn-color-unfitted-level-2: #ffe0b3;\n",
       "  --sklearn-color-unfitted-level-3: chocolate;\n",
       "  /* Definition of color scheme for fitted estimators */\n",
       "  --sklearn-color-fitted-level-0: #f0f8ff;\n",
       "  --sklearn-color-fitted-level-1: #d4ebff;\n",
       "  --sklearn-color-fitted-level-2: #b3dbfd;\n",
       "  --sklearn-color-fitted-level-3: cornflowerblue;\n",
       "\n",
       "  /* Specific color for light theme */\n",
       "  --sklearn-color-text-on-default-background: var(--sg-text-color, var(--theme-code-foreground, var(--jp-content-font-color1, black)));\n",
       "  --sklearn-color-background: var(--sg-background-color, var(--theme-background, var(--jp-layout-color0, white)));\n",
       "  --sklearn-color-border-box: var(--sg-text-color, var(--theme-code-foreground, var(--jp-content-font-color1, black)));\n",
       "  --sklearn-color-icon: #696969;\n",
       "\n",
       "  @media (prefers-color-scheme: dark) {\n",
       "    /* Redefinition of color scheme for dark theme */\n",
       "    --sklearn-color-text-on-default-background: var(--sg-text-color, var(--theme-code-foreground, var(--jp-content-font-color1, white)));\n",
       "    --sklearn-color-background: var(--sg-background-color, var(--theme-background, var(--jp-layout-color0, #111)));\n",
       "    --sklearn-color-border-box: var(--sg-text-color, var(--theme-code-foreground, var(--jp-content-font-color1, white)));\n",
       "    --sklearn-color-icon: #878787;\n",
       "  }\n",
       "}\n",
       "\n",
       "#sk-container-id-3 {\n",
       "  color: var(--sklearn-color-text);\n",
       "}\n",
       "\n",
       "#sk-container-id-3 pre {\n",
       "  padding: 0;\n",
       "}\n",
       "\n",
       "#sk-container-id-3 input.sk-hidden--visually {\n",
       "  border: 0;\n",
       "  clip: rect(1px 1px 1px 1px);\n",
       "  clip: rect(1px, 1px, 1px, 1px);\n",
       "  height: 1px;\n",
       "  margin: -1px;\n",
       "  overflow: hidden;\n",
       "  padding: 0;\n",
       "  position: absolute;\n",
       "  width: 1px;\n",
       "}\n",
       "\n",
       "#sk-container-id-3 div.sk-dashed-wrapped {\n",
       "  border: 1px dashed var(--sklearn-color-line);\n",
       "  margin: 0 0.4em 0.5em 0.4em;\n",
       "  box-sizing: border-box;\n",
       "  padding-bottom: 0.4em;\n",
       "  background-color: var(--sklearn-color-background);\n",
       "}\n",
       "\n",
       "#sk-container-id-3 div.sk-container {\n",
       "  /* jupyter's `normalize.less` sets `[hidden] { display: none; }`\n",
       "     but bootstrap.min.css set `[hidden] { display: none !important; }`\n",
       "     so we also need the `!important` here to be able to override the\n",
       "     default hidden behavior on the sphinx rendered scikit-learn.org.\n",
       "     See: https://github.com/scikit-learn/scikit-learn/issues/21755 */\n",
       "  display: inline-block !important;\n",
       "  position: relative;\n",
       "}\n",
       "\n",
       "#sk-container-id-3 div.sk-text-repr-fallback {\n",
       "  display: none;\n",
       "}\n",
       "\n",
       "div.sk-parallel-item,\n",
       "div.sk-serial,\n",
       "div.sk-item {\n",
       "  /* draw centered vertical line to link estimators */\n",
       "  background-image: linear-gradient(var(--sklearn-color-text-on-default-background), var(--sklearn-color-text-on-default-background));\n",
       "  background-size: 2px 100%;\n",
       "  background-repeat: no-repeat;\n",
       "  background-position: center center;\n",
       "}\n",
       "\n",
       "/* Parallel-specific style estimator block */\n",
       "\n",
       "#sk-container-id-3 div.sk-parallel-item::after {\n",
       "  content: \"\";\n",
       "  width: 100%;\n",
       "  border-bottom: 2px solid var(--sklearn-color-text-on-default-background);\n",
       "  flex-grow: 1;\n",
       "}\n",
       "\n",
       "#sk-container-id-3 div.sk-parallel {\n",
       "  display: flex;\n",
       "  align-items: stretch;\n",
       "  justify-content: center;\n",
       "  background-color: var(--sklearn-color-background);\n",
       "  position: relative;\n",
       "}\n",
       "\n",
       "#sk-container-id-3 div.sk-parallel-item {\n",
       "  display: flex;\n",
       "  flex-direction: column;\n",
       "}\n",
       "\n",
       "#sk-container-id-3 div.sk-parallel-item:first-child::after {\n",
       "  align-self: flex-end;\n",
       "  width: 50%;\n",
       "}\n",
       "\n",
       "#sk-container-id-3 div.sk-parallel-item:last-child::after {\n",
       "  align-self: flex-start;\n",
       "  width: 50%;\n",
       "}\n",
       "\n",
       "#sk-container-id-3 div.sk-parallel-item:only-child::after {\n",
       "  width: 0;\n",
       "}\n",
       "\n",
       "/* Serial-specific style estimator block */\n",
       "\n",
       "#sk-container-id-3 div.sk-serial {\n",
       "  display: flex;\n",
       "  flex-direction: column;\n",
       "  align-items: center;\n",
       "  background-color: var(--sklearn-color-background);\n",
       "  padding-right: 1em;\n",
       "  padding-left: 1em;\n",
       "}\n",
       "\n",
       "\n",
       "/* Toggleable style: style used for estimator/Pipeline/ColumnTransformer box that is\n",
       "clickable and can be expanded/collapsed.\n",
       "- Pipeline and ColumnTransformer use this feature and define the default style\n",
       "- Estimators will overwrite some part of the style using the `sk-estimator` class\n",
       "*/\n",
       "\n",
       "/* Pipeline and ColumnTransformer style (default) */\n",
       "\n",
       "#sk-container-id-3 div.sk-toggleable {\n",
       "  /* Default theme specific background. It is overwritten whether we have a\n",
       "  specific estimator or a Pipeline/ColumnTransformer */\n",
       "  background-color: var(--sklearn-color-background);\n",
       "}\n",
       "\n",
       "/* Toggleable label */\n",
       "#sk-container-id-3 label.sk-toggleable__label {\n",
       "  cursor: pointer;\n",
       "  display: flex;\n",
       "  width: 100%;\n",
       "  margin-bottom: 0;\n",
       "  padding: 0.5em;\n",
       "  box-sizing: border-box;\n",
       "  text-align: center;\n",
       "  align-items: start;\n",
       "  justify-content: space-between;\n",
       "  gap: 0.5em;\n",
       "}\n",
       "\n",
       "#sk-container-id-3 label.sk-toggleable__label .caption {\n",
       "  font-size: 0.6rem;\n",
       "  font-weight: lighter;\n",
       "  color: var(--sklearn-color-text-muted);\n",
       "}\n",
       "\n",
       "#sk-container-id-3 label.sk-toggleable__label-arrow:before {\n",
       "  /* Arrow on the left of the label */\n",
       "  content: \"▸\";\n",
       "  float: left;\n",
       "  margin-right: 0.25em;\n",
       "  color: var(--sklearn-color-icon);\n",
       "}\n",
       "\n",
       "#sk-container-id-3 label.sk-toggleable__label-arrow:hover:before {\n",
       "  color: var(--sklearn-color-text);\n",
       "}\n",
       "\n",
       "/* Toggleable content - dropdown */\n",
       "\n",
       "#sk-container-id-3 div.sk-toggleable__content {\n",
       "  max-height: 0;\n",
       "  max-width: 0;\n",
       "  overflow: hidden;\n",
       "  text-align: left;\n",
       "  /* unfitted */\n",
       "  background-color: var(--sklearn-color-unfitted-level-0);\n",
       "}\n",
       "\n",
       "#sk-container-id-3 div.sk-toggleable__content.fitted {\n",
       "  /* fitted */\n",
       "  background-color: var(--sklearn-color-fitted-level-0);\n",
       "}\n",
       "\n",
       "#sk-container-id-3 div.sk-toggleable__content pre {\n",
       "  margin: 0.2em;\n",
       "  border-radius: 0.25em;\n",
       "  color: var(--sklearn-color-text);\n",
       "  /* unfitted */\n",
       "  background-color: var(--sklearn-color-unfitted-level-0);\n",
       "}\n",
       "\n",
       "#sk-container-id-3 div.sk-toggleable__content.fitted pre {\n",
       "  /* unfitted */\n",
       "  background-color: var(--sklearn-color-fitted-level-0);\n",
       "}\n",
       "\n",
       "#sk-container-id-3 input.sk-toggleable__control:checked~div.sk-toggleable__content {\n",
       "  /* Expand drop-down */\n",
       "  max-height: 200px;\n",
       "  max-width: 100%;\n",
       "  overflow: auto;\n",
       "}\n",
       "\n",
       "#sk-container-id-3 input.sk-toggleable__control:checked~label.sk-toggleable__label-arrow:before {\n",
       "  content: \"▾\";\n",
       "}\n",
       "\n",
       "/* Pipeline/ColumnTransformer-specific style */\n",
       "\n",
       "#sk-container-id-3 div.sk-label input.sk-toggleable__control:checked~label.sk-toggleable__label {\n",
       "  color: var(--sklearn-color-text);\n",
       "  background-color: var(--sklearn-color-unfitted-level-2);\n",
       "}\n",
       "\n",
       "#sk-container-id-3 div.sk-label.fitted input.sk-toggleable__control:checked~label.sk-toggleable__label {\n",
       "  background-color: var(--sklearn-color-fitted-level-2);\n",
       "}\n",
       "\n",
       "/* Estimator-specific style */\n",
       "\n",
       "/* Colorize estimator box */\n",
       "#sk-container-id-3 div.sk-estimator input.sk-toggleable__control:checked~label.sk-toggleable__label {\n",
       "  /* unfitted */\n",
       "  background-color: var(--sklearn-color-unfitted-level-2);\n",
       "}\n",
       "\n",
       "#sk-container-id-3 div.sk-estimator.fitted input.sk-toggleable__control:checked~label.sk-toggleable__label {\n",
       "  /* fitted */\n",
       "  background-color: var(--sklearn-color-fitted-level-2);\n",
       "}\n",
       "\n",
       "#sk-container-id-3 div.sk-label label.sk-toggleable__label,\n",
       "#sk-container-id-3 div.sk-label label {\n",
       "  /* The background is the default theme color */\n",
       "  color: var(--sklearn-color-text-on-default-background);\n",
       "}\n",
       "\n",
       "/* On hover, darken the color of the background */\n",
       "#sk-container-id-3 div.sk-label:hover label.sk-toggleable__label {\n",
       "  color: var(--sklearn-color-text);\n",
       "  background-color: var(--sklearn-color-unfitted-level-2);\n",
       "}\n",
       "\n",
       "/* Label box, darken color on hover, fitted */\n",
       "#sk-container-id-3 div.sk-label.fitted:hover label.sk-toggleable__label.fitted {\n",
       "  color: var(--sklearn-color-text);\n",
       "  background-color: var(--sklearn-color-fitted-level-2);\n",
       "}\n",
       "\n",
       "/* Estimator label */\n",
       "\n",
       "#sk-container-id-3 div.sk-label label {\n",
       "  font-family: monospace;\n",
       "  font-weight: bold;\n",
       "  display: inline-block;\n",
       "  line-height: 1.2em;\n",
       "}\n",
       "\n",
       "#sk-container-id-3 div.sk-label-container {\n",
       "  text-align: center;\n",
       "}\n",
       "\n",
       "/* Estimator-specific */\n",
       "#sk-container-id-3 div.sk-estimator {\n",
       "  font-family: monospace;\n",
       "  border: 1px dotted var(--sklearn-color-border-box);\n",
       "  border-radius: 0.25em;\n",
       "  box-sizing: border-box;\n",
       "  margin-bottom: 0.5em;\n",
       "  /* unfitted */\n",
       "  background-color: var(--sklearn-color-unfitted-level-0);\n",
       "}\n",
       "\n",
       "#sk-container-id-3 div.sk-estimator.fitted {\n",
       "  /* fitted */\n",
       "  background-color: var(--sklearn-color-fitted-level-0);\n",
       "}\n",
       "\n",
       "/* on hover */\n",
       "#sk-container-id-3 div.sk-estimator:hover {\n",
       "  /* unfitted */\n",
       "  background-color: var(--sklearn-color-unfitted-level-2);\n",
       "}\n",
       "\n",
       "#sk-container-id-3 div.sk-estimator.fitted:hover {\n",
       "  /* fitted */\n",
       "  background-color: var(--sklearn-color-fitted-level-2);\n",
       "}\n",
       "\n",
       "/* Specification for estimator info (e.g. \"i\" and \"?\") */\n",
       "\n",
       "/* Common style for \"i\" and \"?\" */\n",
       "\n",
       ".sk-estimator-doc-link,\n",
       "a:link.sk-estimator-doc-link,\n",
       "a:visited.sk-estimator-doc-link {\n",
       "  float: right;\n",
       "  font-size: smaller;\n",
       "  line-height: 1em;\n",
       "  font-family: monospace;\n",
       "  background-color: var(--sklearn-color-background);\n",
       "  border-radius: 1em;\n",
       "  height: 1em;\n",
       "  width: 1em;\n",
       "  text-decoration: none !important;\n",
       "  margin-left: 0.5em;\n",
       "  text-align: center;\n",
       "  /* unfitted */\n",
       "  border: var(--sklearn-color-unfitted-level-1) 1pt solid;\n",
       "  color: var(--sklearn-color-unfitted-level-1);\n",
       "}\n",
       "\n",
       ".sk-estimator-doc-link.fitted,\n",
       "a:link.sk-estimator-doc-link.fitted,\n",
       "a:visited.sk-estimator-doc-link.fitted {\n",
       "  /* fitted */\n",
       "  border: var(--sklearn-color-fitted-level-1) 1pt solid;\n",
       "  color: var(--sklearn-color-fitted-level-1);\n",
       "}\n",
       "\n",
       "/* On hover */\n",
       "div.sk-estimator:hover .sk-estimator-doc-link:hover,\n",
       ".sk-estimator-doc-link:hover,\n",
       "div.sk-label-container:hover .sk-estimator-doc-link:hover,\n",
       ".sk-estimator-doc-link:hover {\n",
       "  /* unfitted */\n",
       "  background-color: var(--sklearn-color-unfitted-level-3);\n",
       "  color: var(--sklearn-color-background);\n",
       "  text-decoration: none;\n",
       "}\n",
       "\n",
       "div.sk-estimator.fitted:hover .sk-estimator-doc-link.fitted:hover,\n",
       ".sk-estimator-doc-link.fitted:hover,\n",
       "div.sk-label-container:hover .sk-estimator-doc-link.fitted:hover,\n",
       ".sk-estimator-doc-link.fitted:hover {\n",
       "  /* fitted */\n",
       "  background-color: var(--sklearn-color-fitted-level-3);\n",
       "  color: var(--sklearn-color-background);\n",
       "  text-decoration: none;\n",
       "}\n",
       "\n",
       "/* Span, style for the box shown on hovering the info icon */\n",
       ".sk-estimator-doc-link span {\n",
       "  display: none;\n",
       "  z-index: 9999;\n",
       "  position: relative;\n",
       "  font-weight: normal;\n",
       "  right: .2ex;\n",
       "  padding: .5ex;\n",
       "  margin: .5ex;\n",
       "  width: min-content;\n",
       "  min-width: 20ex;\n",
       "  max-width: 50ex;\n",
       "  color: var(--sklearn-color-text);\n",
       "  box-shadow: 2pt 2pt 4pt #999;\n",
       "  /* unfitted */\n",
       "  background: var(--sklearn-color-unfitted-level-0);\n",
       "  border: .5pt solid var(--sklearn-color-unfitted-level-3);\n",
       "}\n",
       "\n",
       ".sk-estimator-doc-link.fitted span {\n",
       "  /* fitted */\n",
       "  background: var(--sklearn-color-fitted-level-0);\n",
       "  border: var(--sklearn-color-fitted-level-3);\n",
       "}\n",
       "\n",
       ".sk-estimator-doc-link:hover span {\n",
       "  display: block;\n",
       "}\n",
       "\n",
       "/* \"?\"-specific style due to the `<a>` HTML tag */\n",
       "\n",
       "#sk-container-id-3 a.estimator_doc_link {\n",
       "  float: right;\n",
       "  font-size: 1rem;\n",
       "  line-height: 1em;\n",
       "  font-family: monospace;\n",
       "  background-color: var(--sklearn-color-background);\n",
       "  border-radius: 1rem;\n",
       "  height: 1rem;\n",
       "  width: 1rem;\n",
       "  text-decoration: none;\n",
       "  /* unfitted */\n",
       "  color: var(--sklearn-color-unfitted-level-1);\n",
       "  border: var(--sklearn-color-unfitted-level-1) 1pt solid;\n",
       "}\n",
       "\n",
       "#sk-container-id-3 a.estimator_doc_link.fitted {\n",
       "  /* fitted */\n",
       "  border: var(--sklearn-color-fitted-level-1) 1pt solid;\n",
       "  color: var(--sklearn-color-fitted-level-1);\n",
       "}\n",
       "\n",
       "/* On hover */\n",
       "#sk-container-id-3 a.estimator_doc_link:hover {\n",
       "  /* unfitted */\n",
       "  background-color: var(--sklearn-color-unfitted-level-3);\n",
       "  color: var(--sklearn-color-background);\n",
       "  text-decoration: none;\n",
       "}\n",
       "\n",
       "#sk-container-id-3 a.estimator_doc_link.fitted:hover {\n",
       "  /* fitted */\n",
       "  background-color: var(--sklearn-color-fitted-level-3);\n",
       "}\n",
       "</style><div id=\"sk-container-id-3\" class=\"sk-top-container\"><div class=\"sk-text-repr-fallback\"><pre>Pipeline(steps=[(&#x27;columntransformer&#x27;,\n",
       "                 ColumnTransformer(remainder=&#x27;passthrough&#x27;,\n",
       "                                   transformers=[(&#x27;onehotencoder&#x27;,\n",
       "                                                  OneHotEncoder(sparse_output=False),\n",
       "                                                  [&#x27;location&#x27;])])),\n",
       "                (&#x27;standardscaler&#x27;, StandardScaler()), (&#x27;ridge&#x27;, Ridge())])</pre><b>In a Jupyter environment, please rerun this cell to show the HTML representation or trust the notebook. <br />On GitHub, the HTML representation is unable to render, please try loading this page with nbviewer.org.</b></div><div class=\"sk-container\" hidden><div class=\"sk-item sk-dashed-wrapped\"><div class=\"sk-label-container\"><div class=\"sk-label fitted sk-toggleable\"><input class=\"sk-toggleable__control sk-hidden--visually\" id=\"sk-estimator-id-17\" type=\"checkbox\" ><label for=\"sk-estimator-id-17\" class=\"sk-toggleable__label fitted sk-toggleable__label-arrow\"><div><div>Pipeline</div></div><div><a class=\"sk-estimator-doc-link fitted\" rel=\"noreferrer\" target=\"_blank\" href=\"https://scikit-learn.org/1.6/modules/generated/sklearn.pipeline.Pipeline.html\">?<span>Documentation for Pipeline</span></a><span class=\"sk-estimator-doc-link fitted\">i<span>Fitted</span></span></div></label><div class=\"sk-toggleable__content fitted\"><pre>Pipeline(steps=[(&#x27;columntransformer&#x27;,\n",
       "                 ColumnTransformer(remainder=&#x27;passthrough&#x27;,\n",
       "                                   transformers=[(&#x27;onehotencoder&#x27;,\n",
       "                                                  OneHotEncoder(sparse_output=False),\n",
       "                                                  [&#x27;location&#x27;])])),\n",
       "                (&#x27;standardscaler&#x27;, StandardScaler()), (&#x27;ridge&#x27;, Ridge())])</pre></div> </div></div><div class=\"sk-serial\"><div class=\"sk-item sk-dashed-wrapped\"><div class=\"sk-label-container\"><div class=\"sk-label fitted sk-toggleable\"><input class=\"sk-toggleable__control sk-hidden--visually\" id=\"sk-estimator-id-18\" type=\"checkbox\" ><label for=\"sk-estimator-id-18\" class=\"sk-toggleable__label fitted sk-toggleable__label-arrow\"><div><div>columntransformer: ColumnTransformer</div></div><div><a class=\"sk-estimator-doc-link fitted\" rel=\"noreferrer\" target=\"_blank\" href=\"https://scikit-learn.org/1.6/modules/generated/sklearn.compose.ColumnTransformer.html\">?<span>Documentation for columntransformer: ColumnTransformer</span></a></div></label><div class=\"sk-toggleable__content fitted\"><pre>ColumnTransformer(remainder=&#x27;passthrough&#x27;,\n",
       "                  transformers=[(&#x27;onehotencoder&#x27;,\n",
       "                                 OneHotEncoder(sparse_output=False),\n",
       "                                 [&#x27;location&#x27;])])</pre></div> </div></div><div class=\"sk-parallel\"><div class=\"sk-parallel-item\"><div class=\"sk-item\"><div class=\"sk-label-container\"><div class=\"sk-label fitted sk-toggleable\"><input class=\"sk-toggleable__control sk-hidden--visually\" id=\"sk-estimator-id-19\" type=\"checkbox\" ><label for=\"sk-estimator-id-19\" class=\"sk-toggleable__label fitted sk-toggleable__label-arrow\"><div><div>onehotencoder</div></div></label><div class=\"sk-toggleable__content fitted\"><pre>[&#x27;location&#x27;]</pre></div> </div></div><div class=\"sk-serial\"><div class=\"sk-item\"><div class=\"sk-estimator fitted sk-toggleable\"><input class=\"sk-toggleable__control sk-hidden--visually\" id=\"sk-estimator-id-20\" type=\"checkbox\" ><label for=\"sk-estimator-id-20\" class=\"sk-toggleable__label fitted sk-toggleable__label-arrow\"><div><div>OneHotEncoder</div></div><div><a class=\"sk-estimator-doc-link fitted\" rel=\"noreferrer\" target=\"_blank\" href=\"https://scikit-learn.org/1.6/modules/generated/sklearn.preprocessing.OneHotEncoder.html\">?<span>Documentation for OneHotEncoder</span></a></div></label><div class=\"sk-toggleable__content fitted\"><pre>OneHotEncoder(sparse_output=False)</pre></div> </div></div></div></div></div><div class=\"sk-parallel-item\"><div class=\"sk-item\"><div class=\"sk-label-container\"><div class=\"sk-label fitted sk-toggleable\"><input class=\"sk-toggleable__control sk-hidden--visually\" id=\"sk-estimator-id-21\" type=\"checkbox\" ><label for=\"sk-estimator-id-21\" class=\"sk-toggleable__label fitted sk-toggleable__label-arrow\"><div><div>remainder</div></div></label><div class=\"sk-toggleable__content fitted\"><pre>[&#x27;total_sqft&#x27;, &#x27;bath&#x27;, &#x27;bhk&#x27;]</pre></div> </div></div><div class=\"sk-serial\"><div class=\"sk-item\"><div class=\"sk-estimator fitted sk-toggleable\"><input class=\"sk-toggleable__control sk-hidden--visually\" id=\"sk-estimator-id-22\" type=\"checkbox\" ><label for=\"sk-estimator-id-22\" class=\"sk-toggleable__label fitted sk-toggleable__label-arrow\"><div><div>passthrough</div></div></label><div class=\"sk-toggleable__content fitted\"><pre>passthrough</pre></div> </div></div></div></div></div></div></div><div class=\"sk-item\"><div class=\"sk-estimator fitted sk-toggleable\"><input class=\"sk-toggleable__control sk-hidden--visually\" id=\"sk-estimator-id-23\" type=\"checkbox\" ><label for=\"sk-estimator-id-23\" class=\"sk-toggleable__label fitted sk-toggleable__label-arrow\"><div><div>StandardScaler</div></div><div><a class=\"sk-estimator-doc-link fitted\" rel=\"noreferrer\" target=\"_blank\" href=\"https://scikit-learn.org/1.6/modules/generated/sklearn.preprocessing.StandardScaler.html\">?<span>Documentation for StandardScaler</span></a></div></label><div class=\"sk-toggleable__content fitted\"><pre>StandardScaler()</pre></div> </div></div><div class=\"sk-item\"><div class=\"sk-estimator fitted sk-toggleable\"><input class=\"sk-toggleable__control sk-hidden--visually\" id=\"sk-estimator-id-24\" type=\"checkbox\" ><label for=\"sk-estimator-id-24\" class=\"sk-toggleable__label fitted sk-toggleable__label-arrow\"><div><div>Ridge</div></div><div><a class=\"sk-estimator-doc-link fitted\" rel=\"noreferrer\" target=\"_blank\" href=\"https://scikit-learn.org/1.6/modules/generated/sklearn.linear_model.Ridge.html\">?<span>Documentation for Ridge</span></a></div></label><div class=\"sk-toggleable__content fitted\"><pre>Ridge()</pre></div> </div></div></div></div></div></div>"
      ],
      "text/plain": [
       "Pipeline(steps=[('columntransformer',\n",
       "                 ColumnTransformer(remainder='passthrough',\n",
       "                                   transformers=[('onehotencoder',\n",
       "                                                  OneHotEncoder(sparse_output=False),\n",
       "                                                  ['location'])])),\n",
       "                ('standardscaler', StandardScaler()), ('ridge', Ridge())])"
      ]
     },
     "execution_count": 67,
     "metadata": {},
     "output_type": "execute_result"
    }
   ],
   "source": [
    "pipe.fit(X_train,y_train)"
   ]
  },
  {
   "cell_type": "markdown",
   "id": "13c40976",
   "metadata": {
    "papermill": {
     "duration": 0.037782,
     "end_time": "2025-06-11T09:20:41.955887",
     "exception": false,
     "start_time": "2025-06-11T09:20:41.918105",
     "status": "completed"
    },
    "tags": []
   },
   "source": [
    "Fits the pipeline to the training data, performing preprocessing and training the Ridge Regression model."
   ]
  },
  {
   "cell_type": "markdown",
   "id": "aa957907",
   "metadata": {
    "papermill": {
     "duration": 0.019381,
     "end_time": "2025-06-11T09:20:42.007359",
     "exception": false,
     "start_time": "2025-06-11T09:20:41.987978",
     "status": "completed"
    },
    "tags": []
   },
   "source": [
    "Evaluating the Ridge regression model on the test set using the R² score."
   ]
  },
  {
   "cell_type": "code",
   "execution_count": 68,
   "id": "1b1e26de",
   "metadata": {
    "execution": {
     "iopub.execute_input": "2025-06-11T09:20:42.051762Z",
     "iopub.status.busy": "2025-06-11T09:20:42.051425Z",
     "iopub.status.idle": "2025-06-11T09:20:42.067280Z",
     "shell.execute_reply": "2025-06-11T09:20:42.066346Z"
    },
    "papermill": {
     "duration": 0.037325,
     "end_time": "2025-06-11T09:20:42.068768",
     "exception": false,
     "start_time": "2025-06-11T09:20:42.031443",
     "status": "completed"
    },
    "tags": []
   },
   "outputs": [
    {
     "data": {
      "text/plain": [
       "0.825234850229012"
      ]
     },
     "execution_count": 68,
     "metadata": {},
     "output_type": "execute_result"
    }
   ],
   "source": [
    "y_pred_ridge = pipe.predict(X_test)\n",
    "r2_score(y_test,y_pred_ridge)"
   ]
  },
  {
   "cell_type": "code",
   "execution_count": 69,
   "id": "06e2cc00",
   "metadata": {
    "execution": {
     "iopub.execute_input": "2025-06-11T09:20:42.114088Z",
     "iopub.status.busy": "2025-06-11T09:20:42.113729Z",
     "iopub.status.idle": "2025-06-11T09:20:42.124819Z",
     "shell.execute_reply": "2025-06-11T09:20:42.123259Z"
    },
    "papermill": {
     "duration": 0.034294,
     "end_time": "2025-06-11T09:20:42.126842",
     "exception": false,
     "start_time": "2025-06-11T09:20:42.092548",
     "status": "completed"
    },
    "tags": []
   },
   "outputs": [
    {
     "name": "stdout",
     "output_type": "stream",
     "text": [
      "No Regularisation : 0.825197701638146\n",
      "Lasso : 0.814689475169039\n",
      "Ridge : 0.825234850229012\n"
     ]
    }
   ],
   "source": [
    "print(\"No Regularisation :\" ,r2_score(y_test,y_pred_lr))\n",
    "print(\"Lasso :\" ,r2_score(y_test,y_pred_lasso))\n",
    "print(\"Ridge :\" ,r2_score(y_test,y_pred_ridge))\n"
   ]
  },
  {
   "cell_type": "markdown",
   "id": "e58b9182",
   "metadata": {
    "papermill": {
     "duration": 0.018554,
     "end_time": "2025-06-11T09:20:42.166907",
     "exception": false,
     "start_time": "2025-06-11T09:20:42.148353",
     "status": "completed"
    },
    "tags": []
   },
   "source": [
    "## Model Comparison and Final Selection\n",
    "\n",
    "The R² scores for the different regression models are as follows:\n",
    "\n",
    "- **Linear Regression (No Regularisation):** 0.827\n",
    "- **Lasso Regression:** 0.813\n",
    "- **Ridge Regression:** 0.828\n",
    "\n",
    "Both Linear and Ridge regression models perform similarly and outperform Lasso regression. Given Ridge regression's ability to handle multicollinearity and prevent overfitting through regularization, we will proceed with **Ridge Regression** as our final model for property price prediction."
   ]
  },
  {
   "cell_type": "code",
   "execution_count": 70,
   "id": "87c5aaa2",
   "metadata": {},
   "outputs": [
    {
     "name": "stdout",
     "output_type": "stream",
     "text": [
      "✅ Model and location list saved successfully.\n"
     ]
    }
   ],
   "source": [
    "# train_model_and_save.py\n",
    "\n",
    "import pandas as pd\n",
    "from sklearn.model_selection import train_test_split\n",
    "from sklearn.linear_model import Ridge\n",
    "from sklearn.compose import make_column_transformer\n",
    "from sklearn.preprocessing import OneHotEncoder, StandardScaler\n",
    "from sklearn.pipeline import make_pipeline\n",
    "import joblib\n",
    "\n",
    "# Load and clean data\n",
    "df = pd.read_csv(\"Cleaned_data.csv\")\n",
    "if \"Unnamed: 0\" in df.columns:\n",
    "    df.drop(columns=[\"Unnamed: 0\"], inplace=True)\n",
    "\n",
    "X = df.drop(columns=[\"price\"])\n",
    "y = df[\"price\"]\n",
    "\n",
    "# Create preprocessing + model pipeline\n",
    "column_trans = make_column_transformer(\n",
    "    (OneHotEncoder(sparse_output=False, handle_unknown=\"ignore\"), [\"location\"]),\n",
    "    remainder=\"passthrough\"\n",
    ")\n",
    "pipeline = make_pipeline(column_trans, StandardScaler(), Ridge())\n",
    "\n",
    "# Train model\n",
    "X_train, X_test, y_train, y_test = train_test_split(X, y, test_size=0.2, random_state=42)\n",
    "pipeline.fit(X_train, y_train)\n",
    "\n",
    "# Save model and location list\n",
    "joblib.dump(pipeline, \"bengaluru_house_model.pkl\")\n",
    "joblib.dump(X[\"location\"].unique().tolist(), \"location_list.pkl\")\n",
    "print(\"✅ Model and location list saved successfully.\")\n"
   ]
  },
  {
   "cell_type": "markdown",
   "id": "fbe429c2",
   "metadata": {},
   "source": [
    "## Streamlit app"
   ]
  },
  {
   "cell_type": "code",
   "execution_count": 71,
   "id": "e5f2b581",
   "metadata": {
    "papermill": {
     "duration": 0.018951,
     "end_time": "2025-06-11T09:20:42.205768",
     "exception": false,
     "start_time": "2025-06-11T09:20:42.186817",
     "status": "completed"
    },
    "tags": []
   },
   "outputs": [],
   "source": [
    "#  c:\\Users\\hp\\Documents\\ds\\ds_materials\\8.1_streamlit\\streamlit_tutorial_in_1_class.ipynb"
   ]
  },
  {
   "cell_type": "markdown",
   "id": "e8c9a981",
   "metadata": {},
   "source": [
    "## using save model"
   ]
  },
  {
   "cell_type": "code",
   "execution_count": 72,
   "id": "1a85d415",
   "metadata": {},
   "outputs": [
    {
     "ename": "ModuleNotFoundError",
     "evalue": "No module named 'streamlit'",
     "output_type": "error",
     "traceback": [
      "\u001b[1;31m---------------------------------------------------------------------------\u001b[0m",
      "\u001b[1;31mModuleNotFoundError\u001b[0m                       Traceback (most recent call last)",
      "Cell \u001b[1;32mIn[72], line 3\u001b[0m\n\u001b[0;32m      1\u001b[0m \u001b[38;5;66;03m# bengaluru_app.py\u001b[39;00m\n\u001b[1;32m----> 3\u001b[0m \u001b[38;5;28;01mimport\u001b[39;00m \u001b[38;5;21;01mstreamlit\u001b[39;00m \u001b[38;5;28;01mas\u001b[39;00m \u001b[38;5;21;01mst\u001b[39;00m\n\u001b[0;32m      4\u001b[0m \u001b[38;5;28;01mimport\u001b[39;00m \u001b[38;5;21;01mpandas\u001b[39;00m \u001b[38;5;28;01mas\u001b[39;00m \u001b[38;5;21;01mpd\u001b[39;00m\n\u001b[0;32m      5\u001b[0m \u001b[38;5;28;01mimport\u001b[39;00m \u001b[38;5;21;01mnumpy\u001b[39;00m \u001b[38;5;28;01mas\u001b[39;00m \u001b[38;5;21;01mnp\u001b[39;00m\n",
      "\u001b[1;31mModuleNotFoundError\u001b[0m: No module named 'streamlit'"
     ]
    }
   ],
   "source": [
    "# bengaluru_app.py\n",
    "\n",
    "import streamlit as st\n",
    "import pandas as pd\n",
    "import numpy as np\n",
    "import joblib\n",
    "\n",
    "# Load model and location list\n",
    "model = joblib.load(\"bengaluru_house_model.pkl\")\n",
    "locations = joblib.load(\"location_list.pkl\")\n",
    "\n",
    "# Streamlit UI\n",
    "st.set_page_config(page_title=\"Bengaluru House Price Predictor\", layout=\"centered\")\n",
    "st.title(\"🏠 Bengaluru House Price Predictor\")\n",
    "\n",
    "st.sidebar.header(\"Input House Details\")\n",
    "\n",
    "location = st.sidebar.selectbox(\"Select Location\", sorted(locations))\n",
    "total_sqft = st.sidebar.number_input(\"Total Square Feet\", min_value=300.0, max_value=10000.0, value=1000.0)\n",
    "bhk = st.sidebar.slider(\"Bedrooms (BHK)\", 1, 10, 2)\n",
    "bath = st.sidebar.slider(\"Bathrooms\", 1, 10, 2)\n",
    "\n",
    "if st.sidebar.button(\"Predict Price\"):\n",
    "    input_data = pd.DataFrame({\n",
    "        \"location\": [location],\n",
    "        \"total_sqft\": [total_sqft],\n",
    "        \"bhk\": [bhk],\n",
    "        \"bath\": [bath]\n",
    "    })\n",
    "    \n",
    "    prediction = model.predict(input_data)[0]\n",
    "    st.success(f\"💰 Estimated Price: ₹{prediction:.2f} Lakhs\")\n",
    "\n",
    "st.markdown(\"---\")\n",
    "st.caption(\"Built with ❤️ using Streamlit and Scikit-Learn\")\n"
   ]
  },
  {
   "cell_type": "markdown",
   "id": "a824f53f",
   "metadata": {},
   "source": [
    "## 🟢 How to Run This App\n",
    "\n",
    "1. Run model training:\n",
    "\n",
    "   ```bash\n",
    "   python train_model_and_save.py\n",
    "   ```\n",
    "\n",
    "2. Start Streamlit app:\n",
    "\n",
    "   ```bash\n",
    "   streamlit run bengaluru_app.py\n",
    "   ```\n",
    "\n",
    "---\n",
    "\n",
    "## 📦 Optional: `requirements.txt`\n",
    "\n",
    "```txt\n",
    "streamlit\n",
    "pandas\n",
    "scikit-learn\n",
    "joblib\n",
    "```\n",
    "\n",
    "---"
   ]
  },
  {
   "cell_type": "markdown",
   "id": "7ed43067",
   "metadata": {},
   "source": [
    "## Without model save "
   ]
  },
  {
   "cell_type": "code",
   "execution_count": null,
   "id": "309d0629",
   "metadata": {},
   "outputs": [],
   "source": [
    "import streamlit as st\n",
    "import pandas as pd\n",
    "import numpy as np\n",
    "from sklearn.model_selection import train_test_split\n",
    "from sklearn.linear_model import Ridge\n",
    "from sklearn.compose import make_column_transformer\n",
    "from sklearn.preprocessing import OneHotEncoder, StandardScaler\n",
    "from sklearn.pipeline import make_pipeline\n",
    "import joblib\n",
    "\n",
    "# Load cleaned data\n",
    "data = pd.read_csv(\"Cleaned_data.csv\")\n",
    "data.drop(columns=[\"Unnamed: 0\"], inplace=True)\n",
    "\n",
    "# Prepare features and target\n",
    "X = data.drop(columns=[\"price\"])\n",
    "y = data[\"price\"]\n",
    "\n",
    "# Create column transformer\n",
    "column_trans = make_column_transformer(\n",
    "    (OneHotEncoder(sparse_output=False, handle_unknown='ignore'), ['location']),\n",
    "    remainder='passthrough'\n",
    ")\n",
    "\n",
    "# Create Ridge pipeline\n",
    "scaler = StandardScaler()\n",
    "ridge = Ridge()\n",
    "pipe = make_pipeline(column_trans, scaler, ridge)\n",
    "\n",
    "# Train model\n",
    "X_train, X_test, y_train, y_test = train_test_split(X, y, test_size=0.2, random_state=0)\n",
    "pipe.fit(X_train, y_train)\n",
    "\n",
    "# Streamlit App\n",
    "st.title(\"Bengaluru House Price Predictor\")\n",
    "\n",
    "# Sidebar inputs\n",
    "st.sidebar.header(\"User Input Features\")\n",
    "location = st.sidebar.selectbox(\"Location\", sorted(data[\"location\"].unique()))\n",
    "total_sqft = st.sidebar.number_input(\"Total Sqft Area\", min_value=300.0, max_value=10000.0, value=1000.0)\n",
    "bhk = st.sidebar.slider(\"Number of Bedrooms (BHK)\", 1, 10, 2)\n",
    "bath = st.sidebar.slider(\"Number of Bathrooms\", 1, 10, 2)\n",
    "\n",
    "# Predict button\n",
    "if st.sidebar.button(\"Predict Price\"):\n",
    "    input_df = pd.DataFrame({\n",
    "        'location': [location],\n",
    "        'total_sqft': [total_sqft],\n",
    "        'bath': [bath],\n",
    "        'bhk': [bhk]\n",
    "    })\n",
    "    prediction = pipe.predict(input_df)[0]\n",
    "    st.success(f\"Predicted House Price: ₹{round(prediction, 2)} Lakhs\")\n",
    "\n",
    "# Dataset preview\n",
    "if st.checkbox(\"Show Cleaned Dataset\"):\n",
    "    st.dataframe(data.head(20))\n",
    "\n",
    "# Model performance\n",
    "st.markdown(\"---\")\n",
    "st.subheader(\"Model Evaluation\")\n",
    "r2_score = pipe.score(X_test, y_test)\n",
    "st.write(f\"R² Score on Test Set: {r2_score:.4f}\")\n"
   ]
  }
 ],
 "metadata": {
  "kaggle": {
   "accelerator": "none",
   "dataSources": [
    {
     "datasetId": 20710,
     "sourceId": 26737,
     "sourceType": "datasetVersion"
    }
   ],
   "dockerImageVersionId": 31040,
   "isGpuEnabled": false,
   "isInternetEnabled": true,
   "language": "python",
   "sourceType": "notebook"
  },
  "kernelspec": {
   "display_name": "Python 3",
   "language": "python",
   "name": "python3"
  },
  "language_info": {
   "codemirror_mode": {
    "name": "ipython",
    "version": 3
   },
   "file_extension": ".py",
   "mimetype": "text/x-python",
   "name": "python",
   "nbconvert_exporter": "python",
   "pygments_lexer": "ipython3",
   "version": "3.13.0"
  },
  "papermill": {
   "default_parameters": {},
   "duration": 16.891393,
   "end_time": "2025-06-11T09:20:42.946252",
   "environment_variables": {},
   "exception": null,
   "input_path": "__notebook__.ipynb",
   "output_path": "__notebook__.ipynb",
   "parameters": {},
   "start_time": "2025-06-11T09:20:26.054859",
   "version": "2.6.0"
  }
 },
 "nbformat": 4,
 "nbformat_minor": 5
}
